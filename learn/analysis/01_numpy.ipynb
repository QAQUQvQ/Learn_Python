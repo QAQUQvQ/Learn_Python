{
 "cells": [
  {
   "cell_type": "markdown",
   "metadata": {},
   "source": [
    "# NumPy 基础: 数组与向量化计算"
   ]
  },
  {
   "cell_type": "code",
   "execution_count": 141,
   "metadata": {},
   "outputs": [],
   "source": [
    "# python自带的range方法和numpy的arange方法对比\n",
    "import numpy as np\n",
    "my_arr = np.arange(1000000)\n",
    "my_list = list(range(1000000))"
   ]
  },
  {
   "cell_type": "code",
   "execution_count": 142,
   "metadata": {},
   "outputs": [
    {
     "name": "stdout",
     "output_type": "stream",
     "text": [
      "CPU times: user 12.4 ms, sys: 2.68 ms, total: 15.1 ms\n",
      "Wall time: 14.1 ms\n",
      "CPU times: user 589 ms, sys: 111 ms, total: 701 ms\n",
      "Wall time: 707 ms\n"
     ]
    }
   ],
   "source": [
    "%time for _ in range(10): my_arr2 = my_arr * 2\n",
    "%time for _ in range(10): my_list2 = [x * 2 for x in my_list]"
   ]
  },
  {
   "cell_type": "markdown",
   "metadata": {},
   "source": [
    "## NumPy ndarray: 多维数组对象"
   ]
  },
  {
   "cell_type": "code",
   "execution_count": 143,
   "metadata": {},
   "outputs": [
    {
     "data": {
      "text/plain": "array([[ 0.60725634,  2.11307164,  0.69073764],\n       [-0.07003144,  0.3635163 , -0.31724292]])"
     },
     "execution_count": 143,
     "metadata": {},
     "output_type": "execute_result"
    }
   ],
   "source": [
    "import numpy as np\n",
    "# Generate some random data\n",
    "data = np.random.randn(2, 3)\n",
    "data"
   ]
  },
  {
   "cell_type": "code",
   "execution_count": 144,
   "metadata": {},
   "outputs": [
    {
     "data": {
      "text/plain": "array([[ 6.07256341, 21.1307164 ,  6.90737641],\n       [-0.70031438,  3.63516298, -3.1724292 ]])"
     },
     "execution_count": 144,
     "metadata": {},
     "output_type": "execute_result"
    }
   ],
   "source": [
    "data * 10"
   ]
  },
  {
   "cell_type": "code",
   "execution_count": 145,
   "outputs": [
    {
     "data": {
      "text/plain": "array([[ 1.21451268,  4.22614328,  1.38147528],\n       [-0.14006288,  0.7270326 , -0.63448584]])"
     },
     "execution_count": 145,
     "metadata": {},
     "output_type": "execute_result"
    }
   ],
   "source": [
    "data + data"
   ],
   "metadata": {
    "collapsed": false,
    "pycharm": {
     "name": "#%%\n"
    }
   }
  },
  {
   "cell_type": "code",
   "execution_count": 146,
   "metadata": {},
   "outputs": [
    {
     "data": {
      "text/plain": "dtype('float64')"
     },
     "execution_count": 146,
     "metadata": {},
     "output_type": "execute_result"
    }
   ],
   "source": [
    "data.shape\n",
    "data.dtype"
   ]
  },
  {
   "cell_type": "markdown",
   "metadata": {},
   "source": [
    "### 生成 ndarrays"
   ]
  },
  {
   "cell_type": "code",
   "execution_count": 147,
   "metadata": {},
   "outputs": [
    {
     "data": {
      "text/plain": "array([6. , 7.5, 8. , 0. , 1. ])"
     },
     "execution_count": 147,
     "metadata": {},
     "output_type": "execute_result"
    }
   ],
   "source": [
    "#列表转换\n",
    "data1 = [6, 7.5, 8, 0, 1]\n",
    "arr1 = np.array(data1)\n",
    "arr1"
   ]
  },
  {
   "cell_type": "code",
   "execution_count": 148,
   "metadata": {},
   "outputs": [
    {
     "data": {
      "text/plain": "array([[1, 2, 3, 4],\n       [5, 6, 7, 8]])"
     },
     "execution_count": 148,
     "metadata": {},
     "output_type": "execute_result"
    }
   ],
   "source": [
    "#同等长度的列表将自动转换为多维数组\n",
    "data2 = [[1, 2, 3, 4], [5, 6, 7, 8]]\n",
    "arr2 = np.array(data2)\n",
    "arr2"
   ]
  },
  {
   "cell_type": "code",
   "execution_count": 149,
   "metadata": {},
   "outputs": [
    {
     "data": {
      "text/plain": "(2, 4)"
     },
     "execution_count": 149,
     "metadata": {},
     "output_type": "execute_result"
    }
   ],
   "source": [
    "arr2.ndim\n",
    "arr2.shape"
   ]
  },
  {
   "cell_type": "code",
   "execution_count": 150,
   "metadata": {},
   "outputs": [
    {
     "data": {
      "text/plain": "dtype('int64')"
     },
     "execution_count": 150,
     "metadata": {},
     "output_type": "execute_result"
    }
   ],
   "source": [
    "arr1.dtype\n",
    "arr2.dtype"
   ]
  },
  {
   "cell_type": "code",
   "execution_count": 151,
   "metadata": {},
   "outputs": [
    {
     "data": {
      "text/plain": "array([[[5., 5.],\n        [5., 5.],\n        [3., 3.]],\n\n       [[3., 3.],\n        [1., 1.],\n        [1., 1.]]])"
     },
     "execution_count": 151,
     "metadata": {},
     "output_type": "execute_result"
    }
   ],
   "source": [
    "#创造全0数组（zeros），创造全1数组（ones）；empty创造没有初始数值的数组\n",
    "np.zeros(10)\n",
    "np.zeros((3, 6))\n",
    "np.empty((2, 3, 2))"
   ]
  },
  {
   "cell_type": "code",
   "execution_count": 152,
   "metadata": {},
   "outputs": [
    {
     "data": {
      "text/plain": "array([ 0,  1,  2,  3,  4,  5,  6,  7,  8,  9, 10, 11, 12, 13, 14])"
     },
     "execution_count": 152,
     "metadata": {},
     "output_type": "execute_result"
    }
   ],
   "source": [
    "np.arange(15)"
   ]
  },
  {
   "cell_type": "markdown",
   "metadata": {},
   "source": [
    "### ndarrays的数据类型"
   ]
  },
  {
   "cell_type": "code",
   "execution_count": 153,
   "metadata": {},
   "outputs": [
    {
     "data": {
      "text/plain": "dtype('int32')"
     },
     "execution_count": 153,
     "metadata": {},
     "output_type": "execute_result"
    }
   ],
   "source": [
    "arr1 = np.array([1, 2, 3], dtype=np.float64)\n",
    "arr2 = np.array([1, 2, 3], dtype=np.int32)\n",
    "arr1.dtype\n",
    "arr2.dtype"
   ]
  },
  {
   "cell_type": "code",
   "execution_count": 154,
   "metadata": {},
   "outputs": [
    {
     "data": {
      "text/plain": "dtype('float64')"
     },
     "execution_count": 154,
     "metadata": {},
     "output_type": "execute_result"
    }
   ],
   "source": [
    "arr = np.array([1, 2, 3, 4, 5])\n",
    "arr.dtype\n",
    "#使用astype可以显示的转换数组的数据类型\n",
    "float_arr = arr.astype(np.float64)\n",
    "float_arr.dtype"
   ]
  },
  {
   "cell_type": "code",
   "execution_count": 155,
   "metadata": {},
   "outputs": [
    {
     "data": {
      "text/plain": "array([ 3.7, -1.2, -2.6,  0.5, 12.9, 10.1])"
     },
     "execution_count": 155,
     "metadata": {},
     "output_type": "execute_result"
    }
   ],
   "source": [
    "arr = np.array([3.7, -1.2, -2.6, 0.5, 12.9, 10.1])\n",
    "arr"
   ]
  },
  {
   "cell_type": "code",
   "execution_count": 156,
   "outputs": [
    {
     "data": {
      "text/plain": "array([ 3, -1, -2,  0, 12, 10], dtype=int32)"
     },
     "execution_count": 156,
     "metadata": {},
     "output_type": "execute_result"
    }
   ],
   "source": [
    "#浮点型转换为整数\n",
    "arr.astype(np.int32)"
   ],
   "metadata": {
    "collapsed": false,
    "pycharm": {
     "name": "#%%\n"
    }
   }
  },
  {
   "cell_type": "code",
   "execution_count": 157,
   "metadata": {},
   "outputs": [
    {
     "data": {
      "text/plain": "array([ 1.25, -9.6 , 42.  ])"
     },
     "execution_count": 157,
     "metadata": {},
     "output_type": "execute_result"
    }
   ],
   "source": [
    "numeric_strings = np.array(['1.25', '-9.6', '42'], dtype=np.string_)\n",
    "numeric_strings.astype(float)"
   ]
  },
  {
   "cell_type": "markdown",
   "metadata": {},
   "source": [
    "### NumPy 数组算法"
   ]
  },
  {
   "cell_type": "code",
   "execution_count": 158,
   "metadata": {},
   "outputs": [
    {
     "data": {
      "text/plain": "array([[1., 2., 3.],\n       [4., 5., 6.]])"
     },
     "execution_count": 158,
     "metadata": {},
     "output_type": "execute_result"
    }
   ],
   "source": [
    "arr = np.array([[1., 2., 3.], [4., 5., 6.]])\n",
    "arr"
   ]
  },
  {
   "cell_type": "code",
   "execution_count": 159,
   "outputs": [
    {
     "data": {
      "text/plain": "array([[ 1.,  4.,  9.],\n       [16., 25., 36.]])"
     },
     "execution_count": 159,
     "metadata": {},
     "output_type": "execute_result"
    }
   ],
   "source": [
    "arr * arr"
   ],
   "metadata": {
    "collapsed": false,
    "pycharm": {
     "name": "#%%\n"
    }
   }
  },
  {
   "cell_type": "code",
   "execution_count": 160,
   "outputs": [
    {
     "data": {
      "text/plain": "array([[0., 0., 0.],\n       [0., 0., 0.]])"
     },
     "execution_count": 160,
     "metadata": {},
     "output_type": "execute_result"
    }
   ],
   "source": [
    "arr - arr"
   ],
   "metadata": {
    "collapsed": false,
    "pycharm": {
     "name": "#%%\n"
    }
   }
  },
  {
   "cell_type": "code",
   "execution_count": 161,
   "metadata": {},
   "outputs": [
    {
     "data": {
      "text/plain": "array([[1.        , 1.41421356, 1.73205081],\n       [2.        , 2.23606798, 2.44948974]])"
     },
     "execution_count": 161,
     "metadata": {},
     "output_type": "execute_result"
    }
   ],
   "source": [
    "1 / arr\n",
    "arr ** 0.5"
   ]
  },
  {
   "cell_type": "code",
   "execution_count": 162,
   "metadata": {},
   "outputs": [
    {
     "data": {
      "text/plain": "array([[False,  True, False],\n       [ True, False,  True]])"
     },
     "execution_count": 162,
     "metadata": {},
     "output_type": "execute_result"
    }
   ],
   "source": [
    "arr2 = np.array([[0., 4., 1.], [7., 2., 12.]])\n",
    "arr2\n",
    "arr2 > arr"
   ]
  },
  {
   "cell_type": "markdown",
   "metadata": {},
   "source": [
    "### 基础索引与切片"
   ]
  },
  {
   "cell_type": "code",
   "execution_count": 163,
   "metadata": {},
   "outputs": [
    {
     "data": {
      "text/plain": "array([0, 1, 2, 3, 4, 5, 6, 7, 8, 9])"
     },
     "execution_count": 163,
     "metadata": {},
     "output_type": "execute_result"
    }
   ],
   "source": [
    "arr = np.arange(10)\n",
    "arr"
   ]
  },
  {
   "cell_type": "code",
   "execution_count": 164,
   "outputs": [
    {
     "data": {
      "text/plain": "5"
     },
     "execution_count": 164,
     "metadata": {},
     "output_type": "execute_result"
    }
   ],
   "source": [
    "arr[5]"
   ],
   "metadata": {
    "collapsed": false,
    "pycharm": {
     "name": "#%%\n"
    }
   }
  },
  {
   "cell_type": "code",
   "execution_count": 165,
   "outputs": [
    {
     "data": {
      "text/plain": "array([5, 6, 7])"
     },
     "execution_count": 165,
     "metadata": {},
     "output_type": "execute_result"
    }
   ],
   "source": [
    "arr[5:8]"
   ],
   "metadata": {
    "collapsed": false,
    "pycharm": {
     "name": "#%%\n"
    }
   }
  },
  {
   "cell_type": "code",
   "execution_count": 166,
   "outputs": [],
   "source": [
    "arr[5:8] = 12"
   ],
   "metadata": {
    "collapsed": false,
    "pycharm": {
     "name": "#%%\n"
    }
   }
  },
  {
   "cell_type": "code",
   "execution_count": 167,
   "outputs": [
    {
     "data": {
      "text/plain": "array([ 0,  1,  2,  3,  4, 12, 12, 12,  8,  9])"
     },
     "execution_count": 167,
     "metadata": {},
     "output_type": "execute_result"
    }
   ],
   "source": [
    "arr"
   ],
   "metadata": {
    "collapsed": false,
    "pycharm": {
     "name": "#%%\n"
    }
   }
  },
  {
   "cell_type": "code",
   "execution_count": 168,
   "metadata": {},
   "outputs": [
    {
     "data": {
      "text/plain": "array([12, 12, 12])"
     },
     "execution_count": 168,
     "metadata": {},
     "output_type": "execute_result"
    }
   ],
   "source": [
    "arr_slice = arr[5:8]\n",
    "arr_slice"
   ]
  },
  {
   "cell_type": "code",
   "execution_count": 169,
   "metadata": {},
   "outputs": [
    {
     "data": {
      "text/plain": "array([    0,     1,     2,     3,     4,    12, 12345,    12,     8,\n           9])"
     },
     "execution_count": 169,
     "metadata": {},
     "output_type": "execute_result"
    }
   ],
   "source": [
    "arr_slice[1] = 12345\n",
    "arr\n",
    "#原数组修改，而非复制"
   ]
  },
  {
   "cell_type": "code",
   "execution_count": 170,
   "metadata": {},
   "outputs": [
    {
     "data": {
      "text/plain": "array([ 0,  1,  2,  3,  4, 64, 64, 64,  8,  9])"
     },
     "execution_count": 170,
     "metadata": {},
     "output_type": "execute_result"
    }
   ],
   "source": [
    "arr_slice[:] = 64\n",
    "arr"
   ]
  },
  {
   "cell_type": "code",
   "execution_count": 171,
   "metadata": {},
   "outputs": [
    {
     "data": {
      "text/plain": "array([7, 8, 9])"
     },
     "execution_count": 171,
     "metadata": {},
     "output_type": "execute_result"
    }
   ],
   "source": [
    "arr2d = np.array([[1, 2, 3], [4, 5, 6], [7, 8, 9]])\n",
    "arr2d[2]"
   ]
  },
  {
   "cell_type": "code",
   "execution_count": 172,
   "metadata": {},
   "outputs": [
    {
     "data": {
      "text/plain": "3"
     },
     "execution_count": 172,
     "metadata": {},
     "output_type": "execute_result"
    }
   ],
   "source": [
    "arr2d[0][2]\n",
    "arr2d[0, 2]"
   ]
  },
  {
   "cell_type": "code",
   "execution_count": 173,
   "metadata": {},
   "outputs": [
    {
     "data": {
      "text/plain": "array([[[ 1,  2,  3],\n        [ 4,  5,  6]],\n\n       [[ 7,  8,  9],\n        [10, 11, 12]]])"
     },
     "execution_count": 173,
     "metadata": {},
     "output_type": "execute_result"
    }
   ],
   "source": [
    "arr3d = np.array([[[1, 2, 3], [4, 5, 6]], [[7, 8, 9], [10, 11, 12]]])\n",
    "arr3d"
   ]
  },
  {
   "cell_type": "code",
   "execution_count": 174,
   "metadata": {},
   "outputs": [
    {
     "data": {
      "text/plain": "array([[1, 2, 3],\n       [4, 5, 6]])"
     },
     "execution_count": 174,
     "metadata": {},
     "output_type": "execute_result"
    }
   ],
   "source": [
    "arr3d[0]"
   ]
  },
  {
   "cell_type": "code",
   "execution_count": 175,
   "metadata": {},
   "outputs": [
    {
     "data": {
      "text/plain": "array([[[42, 42, 42],\n        [42, 42, 42]],\n\n       [[ 7,  8,  9],\n        [10, 11, 12]]])"
     },
     "execution_count": 175,
     "metadata": {},
     "output_type": "execute_result"
    }
   ],
   "source": [
    "old_values = arr3d[0].copy()\n",
    "arr3d[0] = 42\n",
    "arr3d"
   ]
  },
  {
   "cell_type": "code",
   "execution_count": 176,
   "outputs": [
    {
     "data": {
      "text/plain": "array([[[ 1,  2,  3],\n        [ 4,  5,  6]],\n\n       [[ 7,  8,  9],\n        [10, 11, 12]]])"
     },
     "execution_count": 176,
     "metadata": {},
     "output_type": "execute_result"
    }
   ],
   "source": [
    "arr3d[0] = old_values\n",
    "arr3d"
   ],
   "metadata": {
    "collapsed": false,
    "pycharm": {
     "name": "#%%\n"
    }
   }
  },
  {
   "cell_type": "code",
   "execution_count": 177,
   "metadata": {},
   "outputs": [
    {
     "data": {
      "text/plain": "array([7, 8, 9])"
     },
     "execution_count": 177,
     "metadata": {},
     "output_type": "execute_result"
    }
   ],
   "source": [
    "arr3d[1, 0]"
   ]
  },
  {
   "cell_type": "code",
   "execution_count": 178,
   "metadata": {},
   "outputs": [
    {
     "data": {
      "text/plain": "array([7, 8, 9])"
     },
     "execution_count": 178,
     "metadata": {},
     "output_type": "execute_result"
    }
   ],
   "source": [
    "x = arr3d[1]\n",
    "x\n",
    "x[0]"
   ]
  },
  {
   "cell_type": "markdown",
   "metadata": {},
   "source": [
    "#### 数组的切片索引"
   ]
  },
  {
   "cell_type": "code",
   "execution_count": 179,
   "metadata": {},
   "outputs": [
    {
     "data": {
      "text/plain": "array([ 1,  2,  3,  4, 64])"
     },
     "execution_count": 179,
     "metadata": {},
     "output_type": "execute_result"
    }
   ],
   "source": [
    "arr\n",
    "arr[1:6]"
   ]
  },
  {
   "cell_type": "code",
   "execution_count": 180,
   "metadata": {},
   "outputs": [
    {
     "data": {
      "text/plain": "array([[1, 2, 3],\n       [4, 5, 6]])"
     },
     "execution_count": 180,
     "metadata": {},
     "output_type": "execute_result"
    }
   ],
   "source": [
    "arr2d\n",
    "arr2d[:2]"
   ]
  },
  {
   "cell_type": "code",
   "execution_count": 181,
   "metadata": {},
   "outputs": [
    {
     "data": {
      "text/plain": "array([[2, 3],\n       [5, 6]])"
     },
     "execution_count": 181,
     "metadata": {},
     "output_type": "execute_result"
    }
   ],
   "source": [
    "arr2d[:2, 1:]"
   ]
  },
  {
   "cell_type": "code",
   "execution_count": 182,
   "metadata": {},
   "outputs": [
    {
     "data": {
      "text/plain": "array([4, 5])"
     },
     "execution_count": 182,
     "metadata": {},
     "output_type": "execute_result"
    }
   ],
   "source": [
    "arr2d[1, :2]"
   ]
  },
  {
   "cell_type": "code",
   "execution_count": 183,
   "metadata": {},
   "outputs": [
    {
     "data": {
      "text/plain": "array([3, 6])"
     },
     "execution_count": 183,
     "metadata": {},
     "output_type": "execute_result"
    }
   ],
   "source": [
    "arr2d[:2, 2]"
   ]
  },
  {
   "cell_type": "code",
   "execution_count": 184,
   "metadata": {},
   "outputs": [
    {
     "data": {
      "text/plain": "array([[1],\n       [4],\n       [7]])"
     },
     "execution_count": 184,
     "metadata": {},
     "output_type": "execute_result"
    }
   ],
   "source": [
    "arr2d[:, :1]"
   ]
  },
  {
   "cell_type": "code",
   "execution_count": 185,
   "metadata": {},
   "outputs": [
    {
     "data": {
      "text/plain": "array([[1, 0, 0],\n       [4, 0, 0],\n       [7, 8, 9]])"
     },
     "execution_count": 185,
     "metadata": {},
     "output_type": "execute_result"
    }
   ],
   "source": [
    "arr2d[:2, 1:] = 0\n",
    "arr2d"
   ]
  },
  {
   "cell_type": "markdown",
   "metadata": {},
   "source": [
    "### 布尔索引（自学）"
   ]
  },
  {
   "cell_type": "code",
   "execution_count": 186,
   "metadata": {},
   "outputs": [
    {
     "data": {
      "text/plain": "array([[-1.85052279,  1.2152083 , -0.73716838,  0.07302559],\n       [-0.34040167, -0.45820927, -0.0076421 ,  1.15401148],\n       [ 1.00903679, -0.93083106,  0.8310516 , -0.81151632],\n       [-0.4350728 ,  0.08445352,  0.38535988,  1.46824488],\n       [-1.3353139 ,  0.5196894 ,  0.70859857,  0.35630362],\n       [-0.44710208, -0.6256358 ,  0.42067005, -0.32438404],\n       [ 0.35647529,  1.43806853, -0.27374433, -0.86923991]])"
     },
     "execution_count": 186,
     "metadata": {},
     "output_type": "execute_result"
    }
   ],
   "source": [
    "names = np.array(['Bob', 'Joe', 'Will', 'Bob', 'Will', 'Joe', 'Joe'])\n",
    "data = np.random.randn(7, 4)\n",
    "names\n",
    "data"
   ]
  },
  {
   "cell_type": "code",
   "execution_count": 187,
   "metadata": {},
   "outputs": [
    {
     "data": {
      "text/plain": "array([ True, False, False,  True, False, False, False])"
     },
     "execution_count": 187,
     "metadata": {},
     "output_type": "execute_result"
    }
   ],
   "source": [
    "names == 'Bob'"
   ]
  },
  {
   "cell_type": "code",
   "execution_count": 188,
   "metadata": {},
   "outputs": [
    {
     "data": {
      "text/plain": "array([[-1.85052279,  1.2152083 , -0.73716838,  0.07302559],\n       [-0.4350728 ,  0.08445352,  0.38535988,  1.46824488]])"
     },
     "execution_count": 188,
     "metadata": {},
     "output_type": "execute_result"
    }
   ],
   "source": [
    "data[names == 'Bob']"
   ]
  },
  {
   "cell_type": "code",
   "execution_count": 189,
   "metadata": {},
   "outputs": [
    {
     "data": {
      "text/plain": "array([[-0.73716838,  0.07302559],\n       [ 0.38535988,  1.46824488]])"
     },
     "execution_count": 189,
     "metadata": {},
     "output_type": "execute_result"
    }
   ],
   "source": [
    "data[names == 'Bob', 2:]"
   ]
  },
  {
   "cell_type": "code",
   "execution_count": 190,
   "outputs": [
    {
     "data": {
      "text/plain": "array([0.07302559, 1.46824488])"
     },
     "execution_count": 190,
     "metadata": {},
     "output_type": "execute_result"
    }
   ],
   "source": [
    "data[names == 'Bob', 3]"
   ],
   "metadata": {
    "collapsed": false,
    "pycharm": {
     "name": "#%%\n"
    }
   }
  },
  {
   "cell_type": "code",
   "execution_count": 191,
   "metadata": {},
   "outputs": [
    {
     "data": {
      "text/plain": "array([[-0.34040167, -0.45820927, -0.0076421 ,  1.15401148],\n       [ 1.00903679, -0.93083106,  0.8310516 , -0.81151632],\n       [-1.3353139 ,  0.5196894 ,  0.70859857,  0.35630362],\n       [-0.44710208, -0.6256358 ,  0.42067005, -0.32438404],\n       [ 0.35647529,  1.43806853, -0.27374433, -0.86923991]])"
     },
     "execution_count": 191,
     "metadata": {},
     "output_type": "execute_result"
    }
   ],
   "source": [
    "names != 'Bob'\n",
    "data[~(names == 'Bob')]"
   ]
  },
  {
   "cell_type": "code",
   "execution_count": 192,
   "metadata": {},
   "outputs": [
    {
     "data": {
      "text/plain": "array([[-0.34040167, -0.45820927, -0.0076421 ,  1.15401148],\n       [ 1.00903679, -0.93083106,  0.8310516 , -0.81151632],\n       [-1.3353139 ,  0.5196894 ,  0.70859857,  0.35630362],\n       [-0.44710208, -0.6256358 ,  0.42067005, -0.32438404],\n       [ 0.35647529,  1.43806853, -0.27374433, -0.86923991]])"
     },
     "execution_count": 192,
     "metadata": {},
     "output_type": "execute_result"
    }
   ],
   "source": [
    "cond = names == 'Bob'\n",
    "data[~cond]"
   ]
  },
  {
   "cell_type": "code",
   "execution_count": 193,
   "metadata": {},
   "outputs": [
    {
     "data": {
      "text/plain": "array([[-1.85052279,  1.2152083 , -0.73716838,  0.07302559],\n       [ 1.00903679, -0.93083106,  0.8310516 , -0.81151632],\n       [-0.4350728 ,  0.08445352,  0.38535988,  1.46824488],\n       [-1.3353139 ,  0.5196894 ,  0.70859857,  0.35630362]])"
     },
     "execution_count": 193,
     "metadata": {},
     "output_type": "execute_result"
    }
   ],
   "source": [
    "mask = (names == 'Bob') | (names == 'Will')\n",
    "mask\n",
    "data[mask]"
   ]
  },
  {
   "cell_type": "code",
   "execution_count": 194,
   "metadata": {},
   "outputs": [
    {
     "data": {
      "text/plain": "array([[0.        , 1.2152083 , 0.        , 0.07302559],\n       [0.        , 0.        , 0.        , 1.15401148],\n       [1.00903679, 0.        , 0.8310516 , 0.        ],\n       [0.        , 0.08445352, 0.38535988, 1.46824488],\n       [0.        , 0.5196894 , 0.70859857, 0.35630362],\n       [0.        , 0.        , 0.42067005, 0.        ],\n       [0.35647529, 1.43806853, 0.        , 0.        ]])"
     },
     "execution_count": 194,
     "metadata": {},
     "output_type": "execute_result"
    }
   ],
   "source": [
    "data[data < 0] = 0\n",
    "data"
   ]
  },
  {
   "cell_type": "code",
   "execution_count": 195,
   "metadata": {},
   "outputs": [
    {
     "data": {
      "text/plain": "array([[7.        , 7.        , 7.        , 7.        ],\n       [0.        , 0.        , 0.        , 1.15401148],\n       [7.        , 7.        , 7.        , 7.        ],\n       [7.        , 7.        , 7.        , 7.        ],\n       [7.        , 7.        , 7.        , 7.        ],\n       [0.        , 0.        , 0.42067005, 0.        ],\n       [0.35647529, 1.43806853, 0.        , 0.        ]])"
     },
     "execution_count": 195,
     "metadata": {},
     "output_type": "execute_result"
    }
   ],
   "source": [
    "data[names != 'Joe'] = 7\n",
    "data"
   ]
  },
  {
   "cell_type": "markdown",
   "metadata": {},
   "source": [
    "### 神奇索引"
   ]
  },
  {
   "cell_type": "code",
   "execution_count": 196,
   "metadata": {},
   "outputs": [
    {
     "data": {
      "text/plain": "array([[0., 0., 0., 0.],\n       [1., 1., 1., 1.],\n       [2., 2., 2., 2.],\n       [3., 3., 3., 3.],\n       [4., 4., 4., 4.],\n       [5., 5., 5., 5.],\n       [6., 6., 6., 6.],\n       [7., 7., 7., 7.]])"
     },
     "execution_count": 196,
     "metadata": {},
     "output_type": "execute_result"
    }
   ],
   "source": [
    "arr = np.empty((8, 4))\n",
    "for i in range(8):\n",
    "    arr[i] = i\n",
    "arr"
   ]
  },
  {
   "cell_type": "code",
   "execution_count": 197,
   "metadata": {},
   "outputs": [
    {
     "data": {
      "text/plain": "array([[4., 4., 4., 4.],\n       [3., 3., 3., 3.],\n       [0., 0., 0., 0.],\n       [6., 6., 6., 6.]])"
     },
     "execution_count": 197,
     "metadata": {},
     "output_type": "execute_result"
    }
   ],
   "source": [
    "arr[[4, 3, 0, 6]]"
   ]
  },
  {
   "cell_type": "code",
   "execution_count": 198,
   "metadata": {},
   "outputs": [
    {
     "data": {
      "text/plain": "array([[5., 5., 5., 5.],\n       [3., 3., 3., 3.],\n       [1., 1., 1., 1.]])"
     },
     "execution_count": 198,
     "metadata": {},
     "output_type": "execute_result"
    }
   ],
   "source": [
    "arr[[-3, -5, -7]]"
   ]
  },
  {
   "cell_type": "code",
   "execution_count": 199,
   "metadata": {},
   "outputs": [
    {
     "data": {
      "text/plain": "array([ 4, 23, 29, 10])"
     },
     "execution_count": 199,
     "metadata": {},
     "output_type": "execute_result"
    }
   ],
   "source": [
    "arr = np.arange(32).reshape((8, 4))\n",
    "arr\n",
    "arr[[1, 5, 7, 2], [0, 3, 1, 2]]"
   ]
  },
  {
   "cell_type": "code",
   "execution_count": 200,
   "metadata": {},
   "outputs": [
    {
     "data": {
      "text/plain": "array([[ 4,  7,  5,  6],\n       [20, 23, 21, 22],\n       [28, 31, 29, 30],\n       [ 8, 11,  9, 10]])"
     },
     "execution_count": 200,
     "metadata": {},
     "output_type": "execute_result"
    }
   ],
   "source": [
    "arr[[1, 5, 7, 2]][:, [0, 3, 1, 2]]"
   ]
  },
  {
   "cell_type": "markdown",
   "metadata": {},
   "source": [
    "### 数组转置和换轴"
   ]
  },
  {
   "cell_type": "code",
   "execution_count": 201,
   "metadata": {},
   "outputs": [
    {
     "data": {
      "text/plain": "array([[ 0,  1,  2,  3,  4],\n       [ 5,  6,  7,  8,  9],\n       [10, 11, 12, 13, 14]])"
     },
     "execution_count": 201,
     "metadata": {},
     "output_type": "execute_result"
    }
   ],
   "source": [
    "arr = np.arange(15).reshape((3, 5))\n",
    "arr"
   ]
  },
  {
   "cell_type": "code",
   "execution_count": 202,
   "outputs": [
    {
     "data": {
      "text/plain": "array([[ 0,  5, 10],\n       [ 1,  6, 11],\n       [ 2,  7, 12],\n       [ 3,  8, 13],\n       [ 4,  9, 14]])"
     },
     "execution_count": 202,
     "metadata": {},
     "output_type": "execute_result"
    }
   ],
   "source": [
    "arr.T"
   ],
   "metadata": {
    "collapsed": false,
    "pycharm": {
     "name": "#%%\n"
    }
   }
  },
  {
   "cell_type": "code",
   "execution_count": 203,
   "metadata": {},
   "outputs": [
    {
     "data": {
      "text/plain": "array([[ 0.0279673 , -0.69259239, -0.30211911],\n       [-0.06029707,  0.12122142, -0.34782746],\n       [ 1.22293099, -1.78182823, -0.49280808],\n       [ 0.31008712, -0.49189573,  0.03706237],\n       [ 0.0725433 ,  0.53881196,  0.68758069],\n       [ 1.28356824,  0.04979207,  2.30843962]])"
     },
     "execution_count": 203,
     "metadata": {},
     "output_type": "execute_result"
    }
   ],
   "source": [
    "arr = np.random.randn(6, 3)\n",
    "arr"
   ]
  },
  {
   "cell_type": "code",
   "execution_count": 204,
   "outputs": [
    {
     "data": {
      "text/plain": "array([[ 3.24894209, -2.25526401,  2.43426497],\n       [-2.25526401,  4.2040497 ,  1.51236849],\n       [ 2.43426497,  1.51236849,  6.25815403]])"
     },
     "execution_count": 204,
     "metadata": {},
     "output_type": "execute_result"
    }
   ],
   "source": [
    "np.dot(arr.T, arr)"
   ],
   "metadata": {
    "collapsed": false,
    "pycharm": {
     "name": "#%%\n"
    }
   }
  },
  {
   "cell_type": "markdown",
   "metadata": {},
   "source": [
    "## 通用函数：快速的逐元素数组函数"
   ]
  },
  {
   "cell_type": "code",
   "execution_count": 205,
   "metadata": {},
   "outputs": [
    {
     "data": {
      "text/plain": "array([0, 1, 2, 3, 4, 5, 6, 7, 8, 9])"
     },
     "execution_count": 205,
     "metadata": {},
     "output_type": "execute_result"
    }
   ],
   "source": [
    "arr = np.arange(10)\n",
    "arr"
   ]
  },
  {
   "cell_type": "code",
   "execution_count": 206,
   "outputs": [
    {
     "data": {
      "text/plain": "array([0.        , 1.        , 1.41421356, 1.73205081, 2.        ,\n       2.23606798, 2.44948974, 2.64575131, 2.82842712, 3.        ])"
     },
     "execution_count": 206,
     "metadata": {},
     "output_type": "execute_result"
    }
   ],
   "source": [
    "np.sqrt(arr)"
   ],
   "metadata": {
    "collapsed": false,
    "pycharm": {
     "name": "#%%\n"
    }
   }
  },
  {
   "cell_type": "code",
   "execution_count": 207,
   "outputs": [
    {
     "data": {
      "text/plain": "array([1.00000000e+00, 2.71828183e+00, 7.38905610e+00, 2.00855369e+01,\n       5.45981500e+01, 1.48413159e+02, 4.03428793e+02, 1.09663316e+03,\n       2.98095799e+03, 8.10308393e+03])"
     },
     "execution_count": 207,
     "metadata": {},
     "output_type": "execute_result"
    }
   ],
   "source": [
    "np.exp(arr)"
   ],
   "metadata": {
    "collapsed": false,
    "pycharm": {
     "name": "#%%\n"
    }
   }
  },
  {
   "cell_type": "code",
   "execution_count": 208,
   "metadata": {},
   "outputs": [
    {
     "data": {
      "text/plain": "array([-0.07472141, -0.20345017, -0.60248191,  0.96464122, -0.24678189,\n        0.89188059,  0.55539507,  2.09350602])"
     },
     "execution_count": 208,
     "metadata": {},
     "output_type": "execute_result"
    }
   ],
   "source": [
    "x = np.random.randn(8)\n",
    "y = np.random.randn(8)\n",
    "x\n",
    "y\n",
    "np.maximum(x, y)"
   ]
  },
  {
   "cell_type": "code",
   "execution_count": 209,
   "metadata": {},
   "outputs": [
    {
     "data": {
      "text/plain": "array([ 6., -1., -0., -2.,  0.,  2., -0.])"
     },
     "execution_count": 209,
     "metadata": {},
     "output_type": "execute_result"
    }
   ],
   "source": [
    "arr = np.random.randn(7) * 5\n",
    "arr\n",
    "remainder, whole_part = np.modf(arr)\n",
    "remainder\n",
    "whole_part"
   ]
  },
  {
   "cell_type": "code",
   "execution_count": 210,
   "metadata": {},
   "outputs": [
    {
     "name": "stderr",
     "output_type": "stream",
     "text": [
      "/usr/local/lib/python3.7/site-packages/ipykernel_launcher.py:3: RuntimeWarning: invalid value encountered in sqrt\n",
      "  This is separate from the ipykernel package so we can avoid doing imports until\n",
      "/usr/local/lib/python3.7/site-packages/ipykernel_launcher.py:4: RuntimeWarning: invalid value encountered in sqrt\n",
      "  after removing the cwd from sys.path.\n"
     ]
    },
    {
     "data": {
      "text/plain": "array([2.63887781,        nan,        nan,        nan, 0.81975581,\n       1.57667452,        nan])"
     },
     "execution_count": 210,
     "metadata": {},
     "output_type": "execute_result"
    }
   ],
   "source": [
    "arr\n",
    "np.sqrt(arr)\n",
    "np.sqrt(arr, arr)\n",
    "arr"
   ]
  },
  {
   "cell_type": "markdown",
   "metadata": {},
   "source": [
    "## 使用数组进行面向数组编程"
   ]
  },
  {
   "cell_type": "code",
   "execution_count": 211,
   "metadata": {},
   "outputs": [
    {
     "data": {
      "text/plain": "array([[-5.  , -4.99, -4.98, ...,  4.97,  4.98,  4.99],\n       [-5.  , -4.99, -4.98, ...,  4.97,  4.98,  4.99],\n       [-5.  , -4.99, -4.98, ...,  4.97,  4.98,  4.99],\n       ...,\n       [-5.  , -4.99, -4.98, ...,  4.97,  4.98,  4.99],\n       [-5.  , -4.99, -4.98, ...,  4.97,  4.98,  4.99],\n       [-5.  , -4.99, -4.98, ...,  4.97,  4.98,  4.99]])"
     },
     "execution_count": 211,
     "metadata": {},
     "output_type": "execute_result"
    }
   ],
   "source": [
    "points = np.arange(-5, 5, 0.01) # 1000 equally spaced points\n",
    "# np.meshgrid接收两个一维数组，根据两个数组所有（x, y）对生成一个二维矩阵\n",
    "xs, ys = np.meshgrid(points, points)\n",
    "xs"
   ]
  },
  {
   "cell_type": "code",
   "execution_count": 212,
   "outputs": [
    {
     "data": {
      "text/plain": "array([[-5.  , -5.  , -5.  , ..., -5.  , -5.  , -5.  ],\n       [-4.99, -4.99, -4.99, ..., -4.99, -4.99, -4.99],\n       [-4.98, -4.98, -4.98, ..., -4.98, -4.98, -4.98],\n       ...,\n       [ 4.97,  4.97,  4.97, ...,  4.97,  4.97,  4.97],\n       [ 4.98,  4.98,  4.98, ...,  4.98,  4.98,  4.98],\n       [ 4.99,  4.99,  4.99, ...,  4.99,  4.99,  4.99]])"
     },
     "execution_count": 212,
     "metadata": {},
     "output_type": "execute_result"
    }
   ],
   "source": [
    "ys"
   ],
   "metadata": {
    "collapsed": false,
    "pycharm": {
     "name": "#%%\n"
    }
   }
  },
  {
   "cell_type": "code",
   "execution_count": 213,
   "metadata": {},
   "outputs": [
    {
     "data": {
      "text/plain": "array([[7.07106781, 7.06400028, 7.05693985, ..., 7.04988652, 7.05693985,\n        7.06400028],\n       [7.06400028, 7.05692568, 7.04985815, ..., 7.04279774, 7.04985815,\n        7.05692568],\n       [7.05693985, 7.04985815, 7.04278354, ..., 7.03571603, 7.04278354,\n        7.04985815],\n       ...,\n       [7.04988652, 7.04279774, 7.03571603, ..., 7.0286414 , 7.03571603,\n        7.04279774],\n       [7.05693985, 7.04985815, 7.04278354, ..., 7.03571603, 7.04278354,\n        7.04985815],\n       [7.06400028, 7.05692568, 7.04985815, ..., 7.04279774, 7.04985815,\n        7.05692568]])"
     },
     "execution_count": 213,
     "metadata": {},
     "output_type": "execute_result"
    }
   ],
   "source": [
    "z = np.sqrt(xs ** 2 + ys ** 2)\n",
    "z"
   ]
  },
  {
   "cell_type": "code",
   "execution_count": 214,
   "metadata": {},
   "outputs": [
    {
     "data": {
      "text/plain": "Text(0.5, 1.0, 'Image plot of $\\\\sqrt{x^2 + y^2}$ for a grid of values')"
     },
     "execution_count": 214,
     "metadata": {},
     "output_type": "execute_result"
    },
    {
     "data": {
      "text/plain": "<Figure size 432x288 with 2 Axes>",
      "image/png": "[encoded data removed]"
     },
     "metadata": {
      "needs_background": "light"
     },
     "output_type": "display_data"
    }
   ],
   "source": [
    "import matplotlib.pyplot as plt\n",
    "plt.imshow(z, cmap=plt.cm.gray); plt.colorbar()\n",
    "plt.title(\"Image plot of $\\sqrt{x^2 + y^2}$ for a grid of values\")"
   ]
  },
  {
   "cell_type": "code",
   "execution_count": 215,
   "metadata": {},
   "outputs": [
    {
     "data": {
      "text/plain": "<Figure size 432x288 with 0 Axes>"
     },
     "metadata": {},
     "output_type": "display_data"
    }
   ],
   "source": [
    "plt.draw()"
   ]
  },
  {
   "cell_type": "code",
   "execution_count": 216,
   "metadata": {},
   "outputs": [],
   "source": [
    "plt.close('all')"
   ]
  },
  {
   "cell_type": "markdown",
   "metadata": {},
   "source": [
    "### 将条件逻辑作为数组操作"
   ]
  },
  {
   "cell_type": "code",
   "execution_count": 217,
   "metadata": {},
   "outputs": [],
   "source": [
    "xarr = np.array([1.1, 1.2, 1.3, 1.4, 1.5])\n",
    "yarr = np.array([2.1, 2.2, 2.3, 2.4, 2.5])\n",
    "cond = np.array([True, False, True, True, False])"
   ]
  },
  {
   "cell_type": "code",
   "execution_count": 218,
   "metadata": {},
   "outputs": [
    {
     "data": {
      "text/plain": "[1.1, 2.2, 1.3, 1.4, 2.5]"
     },
     "execution_count": 218,
     "metadata": {},
     "output_type": "execute_result"
    }
   ],
   "source": [
    "result = [(x if c else y)\n",
    "          for x, y, c in zip(xarr, yarr, cond)]\n",
    "result"
   ]
  },
  {
   "cell_type": "code",
   "execution_count": 219,
   "metadata": {},
   "outputs": [
    {
     "data": {
      "text/plain": "array([1.1, 2.2, 1.3, 1.4, 2.5])"
     },
     "execution_count": 219,
     "metadata": {},
     "output_type": "execute_result"
    }
   ],
   "source": [
    "result = np.where(cond, xarr, yarr)\n",
    "result"
   ]
  },
  {
   "cell_type": "code",
   "execution_count": 220,
   "metadata": {},
   "outputs": [
    {
     "data": {
      "text/plain": "array([[-1.89467445,  0.41316282,  0.34392723, -1.79950003],\n       [-0.36292885, -0.42950355,  0.88850005,  1.01698366],\n       [-2.82177409,  0.61771835, -1.22563448, -1.28026532],\n       [-0.73945835,  0.36831152, -1.17522727, -0.69866203]])"
     },
     "execution_count": 220,
     "metadata": {},
     "output_type": "execute_result"
    }
   ],
   "source": [
    "arr = np.random.randn(4, 4)\n",
    "arr"
   ]
  },
  {
   "cell_type": "code",
   "execution_count": 221,
   "outputs": [
    {
     "data": {
      "text/plain": "array([[False,  True,  True, False],\n       [False, False,  True,  True],\n       [False,  True, False, False],\n       [False,  True, False, False]])"
     },
     "execution_count": 221,
     "metadata": {},
     "output_type": "execute_result"
    }
   ],
   "source": [
    "arr > 0"
   ],
   "metadata": {
    "collapsed": false,
    "pycharm": {
     "name": "#%%\n"
    }
   }
  },
  {
   "cell_type": "code",
   "execution_count": 222,
   "outputs": [
    {
     "data": {
      "text/plain": "array([[-2,  2,  2, -2],\n       [-2, -2,  2,  2],\n       [-2,  2, -2, -2],\n       [-2,  2, -2, -2]])"
     },
     "execution_count": 222,
     "metadata": {},
     "output_type": "execute_result"
    }
   ],
   "source": [
    "np.where(arr > 0, 2, -2)"
   ],
   "metadata": {
    "collapsed": false,
    "pycharm": {
     "name": "#%%\n"
    }
   }
  },
  {
   "cell_type": "code",
   "execution_count": 223,
   "metadata": {},
   "outputs": [
    {
     "data": {
      "text/plain": "array([[-1.89467445,  2.        ,  2.        , -1.79950003],\n       [-0.36292885, -0.42950355,  2.        ,  2.        ],\n       [-2.82177409,  2.        , -1.22563448, -1.28026532],\n       [-0.73945835,  2.        , -1.17522727, -0.69866203]])"
     },
     "execution_count": 223,
     "metadata": {},
     "output_type": "execute_result"
    }
   ],
   "source": [
    "np.where(arr > 0, 2, arr) # set only positive values to 2"
   ]
  },
  {
   "cell_type": "markdown",
   "metadata": {},
   "source": [
    "### 数学和统计方法"
   ]
  },
  {
   "cell_type": "code",
   "execution_count": 224,
   "metadata": {},
   "outputs": [
    {
     "data": {
      "text/plain": "2.7826215922568935"
     },
     "execution_count": 224,
     "metadata": {},
     "output_type": "execute_result"
    }
   ],
   "source": [
    "arr = np.random.randn(5, 4)\n",
    "arr\n",
    "arr.mean()\n",
    "np.mean(arr)\n",
    "arr.sum()"
   ]
  },
  {
   "cell_type": "code",
   "execution_count": 225,
   "metadata": {},
   "outputs": [
    {
     "data": {
      "text/plain": "array([ 1.37321735, -0.7728509 , -2.35559808,  4.53785322])"
     },
     "execution_count": 225,
     "metadata": {},
     "output_type": "execute_result"
    }
   ],
   "source": [
    "arr.mean(axis=1)\n",
    "arr.sum(axis=0)"
   ]
  },
  {
   "cell_type": "code",
   "execution_count": 226,
   "metadata": {},
   "outputs": [
    {
     "data": {
      "text/plain": "array([ 0,  1,  3,  6, 10, 15, 21, 28])"
     },
     "execution_count": 226,
     "metadata": {},
     "output_type": "execute_result"
    }
   ],
   "source": [
    "arr = np.array([0, 1, 2, 3, 4, 5, 6, 7])\n",
    "arr.cumsum()"
   ]
  },
  {
   "cell_type": "code",
   "execution_count": 227,
   "metadata": {},
   "outputs": [
    {
     "data": {
      "text/plain": "array([[  0,   0,   0],\n       [  3,  12,  60],\n       [  6,  42, 336]])"
     },
     "execution_count": 227,
     "metadata": {},
     "output_type": "execute_result"
    }
   ],
   "source": [
    "arr = np.array([[0, 1, 2], [3, 4, 5], [6, 7, 8]])\n",
    "arr\n",
    "arr.cumsum(axis=0) #从0开始元素累积和\n",
    "arr.cumprod(axis=1) #从1开始元素累积积"
   ]
  },
  {
   "cell_type": "markdown",
   "metadata": {},
   "source": [
    "### 布尔值数组的方法"
   ]
  },
  {
   "cell_type": "code",
   "execution_count": 228,
   "metadata": {},
   "outputs": [
    {
     "data": {
      "text/plain": "array([-1.84642009, -0.99210145, -0.03784382, -0.42419854, -0.41260701,\n        1.44360533,  0.64999769,  1.4453256 , -0.34105113, -0.27049818,\n       -1.17303785, -0.24577442,  1.10657091, -0.56567758,  0.48294088,\n       -1.56353579,  0.55171427, -0.09206675, -1.5403944 , -0.29413102,\n       -0.03570894,  1.2708648 , -0.63924769,  1.10448968,  0.05451709,\n       -0.59516142, -1.1070086 ,  0.79791966, -0.18696797,  1.01138727,\n        1.20801848, -1.33525597, -0.23797145, -1.35311468,  0.40531251,\n        0.70902902, -0.089404  ,  0.33973204,  0.33093822,  0.96084004,\n        0.60134915, -0.35044365,  1.39401566,  0.56507059,  0.52577756,\n        0.78163413,  0.31037875,  0.12527244,  0.54209721, -0.10741488,\n        0.12292223,  0.37972808, -0.23345342,  0.31319493, -0.19797976,\n       -0.25165723,  0.75853496, -2.54127536,  0.70609221, -0.14845014,\n       -1.38105833,  2.42464535,  0.53674827, -2.11939191, -0.49825646,\n        1.42388634,  2.21201047, -0.43050908,  1.52481631, -1.60227511,\n       -0.53700634, -1.99903855,  0.91670492,  2.38998684,  0.7416825 ,\n       -0.58732827, -1.39258401, -0.4779941 , -0.78584396,  0.08608612,\n        0.58000412, -0.70096249,  1.72278843,  1.52161011, -0.3169596 ,\n        1.33668545, -1.8544969 , -0.07259328, -0.40029718, -0.66506408,\n        0.07804357, -0.32444562,  0.22136253, -0.18384615, -0.04188335,\n        1.12203981, -0.29311304,  2.21383637, -0.13395336,  1.44862154])"
     },
     "execution_count": 228,
     "metadata": {},
     "output_type": "execute_result"
    }
   ],
   "source": [
    "arr = np.random.randn(100)\n",
    "arr"
   ]
  },
  {
   "cell_type": "code",
   "execution_count": 229,
   "outputs": [
    {
     "data": {
      "text/plain": "48"
     },
     "execution_count": 229,
     "metadata": {},
     "output_type": "execute_result"
    }
   ],
   "source": [
    "(arr > 0).sum() # Number of positive values"
   ],
   "metadata": {
    "collapsed": false,
    "pycharm": {
     "name": "#%%\n"
    }
   }
  },
  {
   "cell_type": "code",
   "execution_count": 230,
   "metadata": {},
   "outputs": [
    {
     "data": {
      "text/plain": "True"
     },
     "execution_count": 230,
     "metadata": {},
     "output_type": "execute_result"
    }
   ],
   "source": [
    "bools = np.array([False, False, True, False])\n",
    "bools.any()"
   ]
  },
  {
   "cell_type": "code",
   "execution_count": 231,
   "outputs": [
    {
     "data": {
      "text/plain": "False"
     },
     "execution_count": 231,
     "metadata": {},
     "output_type": "execute_result"
    }
   ],
   "source": [
    "bools.all()"
   ],
   "metadata": {
    "collapsed": false,
    "pycharm": {
     "name": "#%%\n"
    }
   }
  },
  {
   "cell_type": "markdown",
   "metadata": {},
   "source": [
    "### 排序"
   ]
  },
  {
   "cell_type": "code",
   "execution_count": 232,
   "metadata": {},
   "outputs": [
    {
     "data": {
      "text/plain": "array([-1.5929689 ,  1.1790421 ,  0.06114705, -0.91000337,  1.20066501,\n        0.60781574])"
     },
     "execution_count": 232,
     "metadata": {},
     "output_type": "execute_result"
    }
   ],
   "source": [
    "arr = np.random.randn(6)\n",
    "arr"
   ]
  },
  {
   "cell_type": "code",
   "execution_count": 233,
   "outputs": [
    {
     "data": {
      "text/plain": "array([-1.5929689 , -0.91000337,  0.06114705,  0.60781574,  1.1790421 ,\n        1.20066501])"
     },
     "execution_count": 233,
     "metadata": {},
     "output_type": "execute_result"
    }
   ],
   "source": [
    "arr.sort()\n",
    "arr"
   ],
   "metadata": {
    "collapsed": false,
    "pycharm": {
     "name": "#%%\n"
    }
   }
  },
  {
   "cell_type": "code",
   "execution_count": 234,
   "metadata": {},
   "outputs": [
    {
     "data": {
      "text/plain": "array([[ 0.53381993,  0.59279474, -1.31586658],\n       [-0.10634368, -0.74887476, -1.04830561],\n       [ 0.45305558, -0.03423333, -1.48874801],\n       [-0.2900059 , -0.46860662,  2.54485265],\n       [-0.19557183,  0.59679229,  1.9793963 ]])"
     },
     "execution_count": 234,
     "metadata": {},
     "output_type": "execute_result"
    }
   ],
   "source": [
    "arr = np.random.randn(5, 3)\n",
    "arr"
   ]
  },
  {
   "cell_type": "code",
   "execution_count": 235,
   "outputs": [
    {
     "data": {
      "text/plain": "array([[-1.31586658,  0.53381993,  0.59279474],\n       [-1.04830561, -0.74887476, -0.10634368],\n       [-1.48874801, -0.03423333,  0.45305558],\n       [-0.46860662, -0.2900059 ,  2.54485265],\n       [-0.19557183,  0.59679229,  1.9793963 ]])"
     },
     "execution_count": 235,
     "metadata": {},
     "output_type": "execute_result"
    }
   ],
   "source": [
    "arr.sort(1)\n",
    "arr"
   ],
   "metadata": {
    "collapsed": false,
    "pycharm": {
     "name": "#%%\n"
    }
   }
  },
  {
   "cell_type": "code",
   "execution_count": 236,
   "outputs": [
    {
     "data": {
      "text/plain": "array([[-1.48874801, -0.74887476, -0.10634368],\n       [-1.31586658, -0.2900059 ,  0.45305558],\n       [-1.04830561, -0.03423333,  0.59279474],\n       [-0.46860662,  0.53381993,  1.9793963 ],\n       [-0.19557183,  0.59679229,  2.54485265]])"
     },
     "execution_count": 236,
     "metadata": {},
     "output_type": "execute_result"
    }
   ],
   "source": [
    "arr.sort(0)\n",
    "arr"
   ],
   "metadata": {
    "collapsed": false,
    "pycharm": {
     "name": "#%%\n"
    }
   }
  },
  {
   "cell_type": "code",
   "execution_count": 237,
   "metadata": {},
   "outputs": [
    {
     "data": {
      "text/plain": "-1.6912930354438902"
     },
     "execution_count": 237,
     "metadata": {},
     "output_type": "execute_result"
    }
   ],
   "source": [
    "large_arr = np.random.randn(1000)\n",
    "large_arr.sort()\n",
    "large_arr[int(0.05 * len(large_arr))] # 5% quantile"
   ]
  },
  {
   "cell_type": "markdown",
   "metadata": {},
   "source": [
    "### 唯一值与其他集合逻辑"
   ]
  },
  {
   "cell_type": "code",
   "execution_count": 238,
   "metadata": {},
   "outputs": [
    {
     "data": {
      "text/plain": "array(['Bob', 'Joe', 'Will'], dtype='<U4')"
     },
     "execution_count": 238,
     "metadata": {},
     "output_type": "execute_result"
    }
   ],
   "source": [
    "names = np.array(['Bob', 'Joe', 'Will', 'Bob', 'Will', 'Joe', 'Joe'])\n",
    "np.unique(names)"
   ]
  },
  {
   "cell_type": "code",
   "execution_count": 239,
   "outputs": [
    {
     "data": {
      "text/plain": "array([1, 2, 3, 4])"
     },
     "execution_count": 239,
     "metadata": {},
     "output_type": "execute_result"
    }
   ],
   "source": [
    "ints = np.array([3, 3, 3, 2, 2, 1, 1, 4, 4])\n",
    "np.unique(ints)"
   ],
   "metadata": {
    "collapsed": false,
    "pycharm": {
     "name": "#%%\n"
    }
   }
  },
  {
   "cell_type": "code",
   "execution_count": 240,
   "metadata": {},
   "outputs": [
    {
     "data": {
      "text/plain": "['Bob', 'Joe', 'Will']"
     },
     "execution_count": 240,
     "metadata": {},
     "output_type": "execute_result"
    }
   ],
   "source": [
    "sorted(set(names))"
   ]
  },
  {
   "cell_type": "code",
   "execution_count": 241,
   "metadata": {},
   "outputs": [
    {
     "data": {
      "text/plain": "array([ True, False, False,  True,  True, False,  True])"
     },
     "execution_count": 241,
     "metadata": {},
     "output_type": "execute_result"
    }
   ],
   "source": [
    "values = np.array([6, 0, 0, 3, 2, 5, 6])\n",
    "# np.in1d检查一个数组中的值是否在另外一个数组中\n",
    "np.in1d(values, [2, 3, 6])"
   ]
  },
  {
   "cell_type": "markdown",
   "metadata": {},
   "source": [
    "## 使用数组进行文件输入和输出"
   ]
  },
  {
   "cell_type": "code",
   "execution_count": 242,
   "metadata": {},
   "outputs": [],
   "source": [
    "# np.save和np.load存取数据的两大工具函数\n",
    "arr = np.arange(10)\n",
    "np.save('some_array', arr)"
   ]
  },
  {
   "cell_type": "code",
   "execution_count": 243,
   "metadata": {},
   "outputs": [
    {
     "data": {
      "text/plain": "array([0, 1, 2, 3, 4, 5, 6, 7, 8, 9])"
     },
     "execution_count": 243,
     "metadata": {},
     "output_type": "execute_result"
    }
   ],
   "source": [
    "np.load('some_array.npy') #未压缩格式存储"
   ]
  },
  {
   "cell_type": "code",
   "execution_count": 244,
   "metadata": {},
   "outputs": [],
   "source": [
    "#在未压缩文件中保存多个数组\n",
    "np.savez('array_archive.npz', a=arr, b=arr)"
   ]
  },
  {
   "cell_type": "code",
   "execution_count": 245,
   "metadata": {},
   "outputs": [
    {
     "data": {
      "text/plain": "array([0, 1, 2, 3, 4, 5, 6, 7, 8, 9])"
     },
     "execution_count": 245,
     "metadata": {},
     "output_type": "execute_result"
    }
   ],
   "source": [
    "arch = np.load('array_archive.npz')\n",
    "arch['b']"
   ]
  },
  {
   "cell_type": "code",
   "execution_count": 246,
   "metadata": {},
   "outputs": [],
   "source": [
    "#将数据存储已经压缩的文件\n",
    "np.savez_compressed('arrays_compressed.npz', a=arr, b=arr)"
   ]
  },
  {
   "cell_type": "code",
   "execution_count": 247,
   "metadata": {},
   "outputs": [],
   "source": [
    "!rm some_array.npy\n",
    "!rm array_archive.npz\n",
    "!rm arrays_compressed.npz"
   ]
  },
  {
   "cell_type": "markdown",
   "metadata": {},
   "source": [
    "## 线性代数"
   ]
  },
  {
   "cell_type": "code",
   "execution_count": 248,
   "metadata": {},
   "outputs": [
    {
     "data": {
      "text/plain": "array([[ 28.,  64.],\n       [ 67., 181.]])"
     },
     "execution_count": 248,
     "metadata": {},
     "output_type": "execute_result"
    }
   ],
   "source": [
    "x = np.array([[1., 2., 3.], [4., 5., 6.]])\n",
    "y = np.array([[6., 23.], [-1, 7], [8, 9]])\n",
    "x\n",
    "y\n",
    "x.dot(y)"
   ]
  },
  {
   "cell_type": "code",
   "execution_count": 249,
   "metadata": {},
   "outputs": [
    {
     "data": {
      "text/plain": "array([[ 28.,  64.],\n       [ 67., 181.]])"
     },
     "execution_count": 249,
     "metadata": {},
     "output_type": "execute_result"
    }
   ],
   "source": [
    "np.dot(x, y)"
   ]
  },
  {
   "cell_type": "code",
   "execution_count": 250,
   "metadata": {},
   "outputs": [
    {
     "data": {
      "text/plain": "array([ 6., 15.])"
     },
     "execution_count": 250,
     "metadata": {},
     "output_type": "execute_result"
    }
   ],
   "source": [
    "np.dot(x, np.ones(3))"
   ]
  },
  {
   "cell_type": "code",
   "execution_count": 251,
   "metadata": {},
   "outputs": [
    {
     "data": {
      "text/plain": "array([ 6., 15.])"
     },
     "execution_count": 251,
     "metadata": {},
     "output_type": "execute_result"
    }
   ],
   "source": [
    "x @ np.ones(3)"
   ]
  },
  {
   "cell_type": "code",
   "execution_count": 252,
   "metadata": {},
   "outputs": [
    {
     "data": {
      "text/plain": "array([[-0.63010315,  2.98573876, -4.60673645, -0.56387313,  1.88084381],\n       [ 0.        , -4.70806654,  4.00977262,  0.13180133, -0.5528623 ],\n       [ 0.        ,  0.        , -4.0574981 , -0.70928474,  3.97465938],\n       [ 0.        ,  0.        ,  0.        , -2.07730996, -1.00086801],\n       [ 0.        ,  0.        ,  0.        ,  0.        ,  0.04858719]])"
     },
     "execution_count": 252,
     "metadata": {},
     "output_type": "execute_result"
    }
   ],
   "source": [
    "#numpy.linalg拥有矩阵分析标准函数集\n",
    "from numpy.linalg import inv, qr\n",
    "X = np.random.randn(5, 5)\n",
    "mat = X.T.dot(X)\n",
    "inv(mat)\n",
    "mat.dot(inv(mat))\n",
    "q, r = qr(mat)\n",
    "r"
   ]
  },
  {
   "cell_type": "markdown",
   "metadata": {},
   "source": [
    "## 伪随机数生成"
   ]
  },
  {
   "cell_type": "code",
   "execution_count": 253,
   "metadata": {},
   "outputs": [
    {
     "data": {
      "text/plain": "array([[-0.73537824,  1.69780147, -0.38049507, -1.20993258],\n       [-0.20964039,  1.59575322,  0.8482    , -2.05714631],\n       [-0.23862874, -0.34197766,  0.64474525, -0.1190266 ],\n       [-1.22317767, -0.44010445, -0.48865207, -0.06129233]])"
     },
     "execution_count": 253,
     "metadata": {},
     "output_type": "execute_result"
    }
   ],
   "source": [
    "#np.random可以弥补Python内置的random的不足，normal获取正态分布样本\n",
    "samples = np.random.normal(size=(4, 4))\n",
    "samples\n"
   ]
  },
  {
   "cell_type": "code",
   "execution_count": 254,
   "metadata": {},
   "outputs": [
    {
     "name": "stdout",
     "output_type": "stream",
     "text": [
      "1 loop, best of 5: 652 ms per loop\n",
      "10 loops, best of 5: 25.2 ms per loop\n"
     ]
    }
   ],
   "source": [
    "from random import normalvariate\n",
    "N = 1000000\n",
    "%timeit samples = [normalvariate(0, 1) for _ in range(N)]\n",
    "%timeit np.random.normal(size=N)"
   ]
  },
  {
   "cell_type": "code",
   "execution_count": 255,
   "metadata": {},
   "outputs": [],
   "source": [
    "#指定随机数种子\n",
    "np.random.seed(1234)"
   ]
  },
  {
   "cell_type": "code",
   "execution_count": 256,
   "metadata": {},
   "outputs": [
    {
     "data": {
      "text/plain": "array([ 0.47143516, -1.19097569,  1.43270697, -0.3126519 , -0.72058873,\n        0.88716294,  0.85958841, -0.6365235 ,  0.01569637, -2.24268495])"
     },
     "execution_count": 256,
     "metadata": {},
     "output_type": "execute_result"
    }
   ],
   "source": [
    "rng = np.random.RandomState(1234)\n",
    "rng.randn(10)"
   ]
  },
  {
   "cell_type": "markdown",
   "metadata": {},
   "source": [
    "## 示例: 随机漫步"
   ]
  },
  {
   "cell_type": "code",
   "execution_count": 256,
   "outputs": [],
   "source": [],
   "metadata": {
    "collapsed": false,
    "pycharm": {
     "name": "#%%\n"
    }
   }
  },
  {
   "cell_type": "code",
   "execution_count": 257,
   "metadata": {},
   "outputs": [],
   "source": [
    "import random\n",
    "position = 0\n",
    "walk = [position]\n",
    "steps = 1000\n",
    "for i in range(steps):\n",
    "    step = 1 if random.randint(0, 1) else -1\n",
    "    position += step\n",
    "    walk.append(position)"
   ]
  },
  {
   "cell_type": "code",
   "execution_count": 258,
   "metadata": {},
   "outputs": [
    {
     "data": {
      "text/plain": "<Figure size 432x288 with 0 Axes>"
     },
     "execution_count": 258,
     "metadata": {},
     "output_type": "execute_result"
    },
    {
     "data": {
      "text/plain": "<Figure size 432x288 with 0 Axes>"
     },
     "metadata": {},
     "output_type": "display_data"
    }
   ],
   "source": [
    "plt.figure()"
   ]
  },
  {
   "cell_type": "code",
   "execution_count": 259,
   "metadata": {},
   "outputs": [
    {
     "data": {
      "text/plain": "[<matplotlib.lines.Line2D at 0x119fdcb10>]"
     },
     "execution_count": 259,
     "metadata": {},
     "output_type": "execute_result"
    },
    {
     "data": {
      "text/plain": "<Figure size 432x288 with 1 Axes>",
      "image/png": "[encoded data removed]"
     },
     "metadata": {
      "needs_background": "light"
     },
     "output_type": "display_data"
    }
   ],
   "source": [
    "plt.plot(walk[:100])"
   ]
  },
  {
   "cell_type": "code",
   "execution_count": 260,
   "metadata": {},
   "outputs": [],
   "source": [
    "np.random.seed(12345)"
   ]
  },
  {
   "cell_type": "code",
   "execution_count": 261,
   "metadata": {},
   "outputs": [],
   "source": [
    "nsteps = 1000\n",
    "draws = np.random.randint(0, 2, size=nsteps)\n",
    "steps = np.where(draws > 0, 1, -1)\n",
    "walk = steps.cumsum()"
   ]
  },
  {
   "cell_type": "code",
   "execution_count": 262,
   "metadata": {},
   "outputs": [
    {
     "data": {
      "text/plain": "31"
     },
     "execution_count": 262,
     "metadata": {},
     "output_type": "execute_result"
    }
   ],
   "source": [
    "walk.min()\n",
    "walk.max()"
   ]
  },
  {
   "cell_type": "code",
   "execution_count": 274,
   "metadata": {},
   "outputs": [
    {
     "data": {
      "text/plain": "37"
     },
     "execution_count": 274,
     "metadata": {},
     "output_type": "execute_result"
    }
   ],
   "source": [
    "(np.abs(walk) >= 10).argmax()"
   ]
  },
  {
   "cell_type": "markdown",
   "metadata": {},
   "source": [
    "### 一次性模拟多次随机漫步"
   ]
  },
  {
   "cell_type": "code",
   "execution_count": 264,
   "metadata": {},
   "outputs": [
    {
     "data": {
      "text/plain": "array([[  1,   0,   1, ...,   8,   7,   8],\n       [  1,   0,  -1, ...,  34,  33,  32],\n       [  1,   0,  -1, ...,   4,   5,   4],\n       ...,\n       [  1,   2,   1, ...,  24,  25,  26],\n       [  1,   2,   3, ...,  14,  13,  14],\n       [ -1,  -2,  -3, ..., -24, -23, -22]])"
     },
     "execution_count": 264,
     "metadata": {},
     "output_type": "execute_result"
    }
   ],
   "source": [
    "nwalks = 5000\n",
    "nsteps = 1000\n",
    "draws = np.random.randint(0, 2, size=(nwalks, nsteps)) # 0 or 1\n",
    "steps = np.where(draws > 0, 1, -1)\n",
    "walks = steps.cumsum(1)\n",
    "walks"
   ]
  },
  {
   "cell_type": "code",
   "execution_count": 265,
   "metadata": {},
   "outputs": [
    {
     "data": {
      "text/plain": "-133"
     },
     "execution_count": 265,
     "metadata": {},
     "output_type": "execute_result"
    }
   ],
   "source": [
    "walks.max()\n",
    "walks.min()"
   ]
  },
  {
   "cell_type": "code",
   "execution_count": 279,
   "metadata": {},
   "outputs": [
    {
     "data": {
      "text/plain": "array([False,  True, False, ..., False,  True, False])"
     },
     "execution_count": 279,
     "metadata": {},
     "output_type": "execute_result"
    }
   ],
   "source": [
    "hits30 = (np.abs(walks) >= 30).any(1)\n",
    "hits30"
   ]
  },
  {
   "cell_type": "code",
   "execution_count": 271,
   "outputs": [
    {
     "data": {
      "text/plain": "3410"
     },
     "execution_count": 271,
     "metadata": {},
     "output_type": "execute_result"
    }
   ],
   "source": [
    "hits30.sum() # Number that hit 30 or -30"
   ],
   "metadata": {
    "collapsed": false,
    "pycharm": {
     "name": "#%%\n"
    }
   }
  },
  {
   "cell_type": "code",
   "execution_count": 272,
   "metadata": {},
   "outputs": [
    {
     "data": {
      "text/plain": "array([735, 409, 253, ..., 327, 453, 447])"
     },
     "execution_count": 272,
     "metadata": {},
     "output_type": "execute_result"
    }
   ],
   "source": [
    "crossing_times = (np.abs(walks[hits30]) >= 30).argmax(1)\n",
    "crossing_times"
   ]
  },
  {
   "cell_type": "code",
   "execution_count": 273,
   "outputs": [
    {
     "data": {
      "text/plain": "498.8897360703812"
     },
     "execution_count": 273,
     "metadata": {},
     "output_type": "execute_result"
    }
   ],
   "source": [
    "crossing_times.mean()"
   ],
   "metadata": {
    "collapsed": false,
    "pycharm": {
     "name": "#%%\n"
    }
   }
  },
  {
   "cell_type": "code",
   "execution_count": 283,
   "metadata": {},
   "outputs": [
    {
     "data": {
      "text/plain": "[<matplotlib.lines.Line2D at 0x1197e5490>,\n <matplotlib.lines.Line2D at 0x1197e5ad0>,\n <matplotlib.lines.Line2D at 0x1197e5c90>,\n <matplotlib.lines.Line2D at 0x1197e5e50>,\n <matplotlib.lines.Line2D at 0x1197e5fd0>,\n <matplotlib.lines.Line2D at 0x1197d5210>,\n <matplotlib.lines.Line2D at 0x1197d5450>,\n <matplotlib.lines.Line2D at 0x1197d5610>,\n <matplotlib.lines.Line2D at 0x1197e5f90>,\n <matplotlib.lines.Line2D at 0x1197d5250>,\n <matplotlib.lines.Line2D at 0x11b0b4310>,\n <matplotlib.lines.Line2D at 0x1197d5c50>,\n <matplotlib.lines.Line2D at 0x1197d5e10>,\n <matplotlib.lines.Line2D at 0x1197d5fd0>,\n <matplotlib.lines.Line2D at 0x1197da1d0>,\n <matplotlib.lines.Line2D at 0x1197da390>,\n <matplotlib.lines.Line2D at 0x1197da550>,\n <matplotlib.lines.Line2D at 0x1197da710>,\n <matplotlib.lines.Line2D at 0x1197da8d0>,\n <matplotlib.lines.Line2D at 0x1197daa90>,\n <matplotlib.lines.Line2D at 0x1197dac50>,\n <matplotlib.lines.Line2D at 0x1197dae10>,\n <matplotlib.lines.Line2D at 0x1197dafd0>,\n <matplotlib.lines.Line2D at 0x1197ef1d0>,\n <matplotlib.lines.Line2D at 0x1197ef390>,\n <matplotlib.lines.Line2D at 0x1197ef550>,\n <matplotlib.lines.Line2D at 0x1197ef710>,\n <matplotlib.lines.Line2D at 0x1197ef8d0>,\n <matplotlib.lines.Line2D at 0x1197efa90>,\n <matplotlib.lines.Line2D at 0x1197efc50>,\n <matplotlib.lines.Line2D at 0x1197efe10>,\n <matplotlib.lines.Line2D at 0x1197effd0>,\n <matplotlib.lines.Line2D at 0x1197ec1d0>,\n <matplotlib.lines.Line2D at 0x1197ec390>,\n <matplotlib.lines.Line2D at 0x1197ec550>,\n <matplotlib.lines.Line2D at 0x1197ec710>,\n <matplotlib.lines.Line2D at 0x1197ec8d0>,\n <matplotlib.lines.Line2D at 0x1197eca90>,\n <matplotlib.lines.Line2D at 0x1197ecc50>,\n <matplotlib.lines.Line2D at 0x1197ece10>,\n <matplotlib.lines.Line2D at 0x1197ecfd0>,\n <matplotlib.lines.Line2D at 0x1197f51d0>,\n <matplotlib.lines.Line2D at 0x1197f5390>,\n <matplotlib.lines.Line2D at 0x1197f5550>,\n <matplotlib.lines.Line2D at 0x1197f5710>,\n <matplotlib.lines.Line2D at 0x1197f58d0>,\n <matplotlib.lines.Line2D at 0x1197f5a90>,\n <matplotlib.lines.Line2D at 0x1197f5c50>,\n <matplotlib.lines.Line2D at 0x1197f5e10>,\n <matplotlib.lines.Line2D at 0x1197f5fd0>,\n <matplotlib.lines.Line2D at 0x1197f91d0>,\n <matplotlib.lines.Line2D at 0x1197f9390>,\n <matplotlib.lines.Line2D at 0x1197f9550>,\n <matplotlib.lines.Line2D at 0x1197f9710>,\n <matplotlib.lines.Line2D at 0x1197f98d0>,\n <matplotlib.lines.Line2D at 0x1197f9a90>,\n <matplotlib.lines.Line2D at 0x1197f9c50>,\n <matplotlib.lines.Line2D at 0x1197f9e10>,\n <matplotlib.lines.Line2D at 0x1197f9fd0>,\n <matplotlib.lines.Line2D at 0x1197fd1d0>,\n <matplotlib.lines.Line2D at 0x1197fd390>,\n <matplotlib.lines.Line2D at 0x1197fd550>,\n <matplotlib.lines.Line2D at 0x1197fd710>,\n <matplotlib.lines.Line2D at 0x1197fd8d0>,\n <matplotlib.lines.Line2D at 0x1197fda90>,\n <matplotlib.lines.Line2D at 0x1197fdc50>,\n <matplotlib.lines.Line2D at 0x1197fde10>,\n <matplotlib.lines.Line2D at 0x1197fdfd0>,\n <matplotlib.lines.Line2D at 0x1198011d0>,\n <matplotlib.lines.Line2D at 0x119801390>,\n <matplotlib.lines.Line2D at 0x119801550>,\n <matplotlib.lines.Line2D at 0x119801710>,\n <matplotlib.lines.Line2D at 0x1198018d0>,\n <matplotlib.lines.Line2D at 0x119801a90>,\n <matplotlib.lines.Line2D at 0x119801c50>,\n <matplotlib.lines.Line2D at 0x119801e10>,\n <matplotlib.lines.Line2D at 0x119801fd0>,\n <matplotlib.lines.Line2D at 0x1198051d0>,\n <matplotlib.lines.Line2D at 0x119805390>,\n <matplotlib.lines.Line2D at 0x119805550>,\n <matplotlib.lines.Line2D at 0x119805710>,\n <matplotlib.lines.Line2D at 0x1198058d0>,\n <matplotlib.lines.Line2D at 0x119805a90>,\n <matplotlib.lines.Line2D at 0x119805c50>,\n <matplotlib.lines.Line2D at 0x119805e10>,\n <matplotlib.lines.Line2D at 0x119805fd0>,\n <matplotlib.lines.Line2D at 0x1198091d0>,\n <matplotlib.lines.Line2D at 0x119809390>,\n <matplotlib.lines.Line2D at 0x119809550>,\n <matplotlib.lines.Line2D at 0x119809710>,\n <matplotlib.lines.Line2D at 0x1198098d0>,\n <matplotlib.lines.Line2D at 0x119809a90>,\n <matplotlib.lines.Line2D at 0x119809c50>,\n <matplotlib.lines.Line2D at 0x119809e10>,\n <matplotlib.lines.Line2D at 0x119809fd0>,\n <matplotlib.lines.Line2D at 0x11980e1d0>,\n <matplotlib.lines.Line2D at 0x11980e390>,\n <matplotlib.lines.Line2D at 0x11980e550>,\n <matplotlib.lines.Line2D at 0x11980e710>,\n <matplotlib.lines.Line2D at 0x11980e8d0>,\n <matplotlib.lines.Line2D at 0x11980ea90>,\n <matplotlib.lines.Line2D at 0x11980ec50>,\n <matplotlib.lines.Line2D at 0x11980ee10>,\n <matplotlib.lines.Line2D at 0x11980efd0>,\n <matplotlib.lines.Line2D at 0x1196edf50>,\n <matplotlib.lines.Line2D at 0x1196ed890>,\n <matplotlib.lines.Line2D at 0x1196eddd0>,\n <matplotlib.lines.Line2D at 0x1196ed910>,\n <matplotlib.lines.Line2D at 0x1196ed810>,\n <matplotlib.lines.Line2D at 0x1196ed590>,\n <matplotlib.lines.Line2D at 0x1196ed290>,\n <matplotlib.lines.Line2D at 0x1196ed150>,\n <matplotlib.lines.Line2D at 0x1196ed850>,\n <matplotlib.lines.Line2D at 0x1196d31d0>,\n <matplotlib.lines.Line2D at 0x1196d3390>,\n <matplotlib.lines.Line2D at 0x1196d3550>,\n <matplotlib.lines.Line2D at 0x1196d3710>,\n <matplotlib.lines.Line2D at 0x1196d38d0>,\n <matplotlib.lines.Line2D at 0x1196d3a90>,\n <matplotlib.lines.Line2D at 0x1196d3c50>,\n <matplotlib.lines.Line2D at 0x1196d3e10>,\n <matplotlib.lines.Line2D at 0x1196d3fd0>,\n <matplotlib.lines.Line2D at 0x1196d71d0>,\n <matplotlib.lines.Line2D at 0x1196d7390>,\n <matplotlib.lines.Line2D at 0x1196d7550>,\n <matplotlib.lines.Line2D at 0x1196d7710>,\n <matplotlib.lines.Line2D at 0x1196d78d0>,\n <matplotlib.lines.Line2D at 0x1196d7a90>,\n <matplotlib.lines.Line2D at 0x1196d7c50>,\n <matplotlib.lines.Line2D at 0x1196d7e10>,\n <matplotlib.lines.Line2D at 0x1196d7fd0>,\n <matplotlib.lines.Line2D at 0x1196dc1d0>,\n <matplotlib.lines.Line2D at 0x1196dc390>,\n <matplotlib.lines.Line2D at 0x1196dc550>,\n <matplotlib.lines.Line2D at 0x1196dc710>,\n <matplotlib.lines.Line2D at 0x1196dc8d0>,\n <matplotlib.lines.Line2D at 0x1196dca90>,\n <matplotlib.lines.Line2D at 0x1196dcc50>,\n <matplotlib.lines.Line2D at 0x1196dce10>,\n <matplotlib.lines.Line2D at 0x1196dcfd0>,\n <matplotlib.lines.Line2D at 0x1196e01d0>,\n <matplotlib.lines.Line2D at 0x1196e0390>,\n <matplotlib.lines.Line2D at 0x1196e0550>,\n <matplotlib.lines.Line2D at 0x1196e0710>,\n <matplotlib.lines.Line2D at 0x1196e08d0>,\n <matplotlib.lines.Line2D at 0x1196e0a90>,\n <matplotlib.lines.Line2D at 0x1196e0c50>,\n <matplotlib.lines.Line2D at 0x1196e0e10>,\n <matplotlib.lines.Line2D at 0x1196e0fd0>,\n <matplotlib.lines.Line2D at 0x1196e61d0>,\n <matplotlib.lines.Line2D at 0x1196e6390>,\n <matplotlib.lines.Line2D at 0x1196e6550>,\n <matplotlib.lines.Line2D at 0x1196e6710>,\n <matplotlib.lines.Line2D at 0x1196e68d0>,\n <matplotlib.lines.Line2D at 0x1196e6a90>,\n <matplotlib.lines.Line2D at 0x1196e6c50>,\n <matplotlib.lines.Line2D at 0x1196e6e10>,\n <matplotlib.lines.Line2D at 0x1196e6fd0>,\n <matplotlib.lines.Line2D at 0x1196fb1d0>,\n <matplotlib.lines.Line2D at 0x1196fb390>,\n <matplotlib.lines.Line2D at 0x1196fb550>,\n <matplotlib.lines.Line2D at 0x1196fb710>,\n <matplotlib.lines.Line2D at 0x1196fb8d0>,\n <matplotlib.lines.Line2D at 0x1196fba90>,\n <matplotlib.lines.Line2D at 0x1196fbc50>,\n <matplotlib.lines.Line2D at 0x1196fbe10>,\n <matplotlib.lines.Line2D at 0x1196fbfd0>,\n <matplotlib.lines.Line2D at 0x1196f51d0>,\n <matplotlib.lines.Line2D at 0x1196f5390>,\n <matplotlib.lines.Line2D at 0x1196f5550>,\n <matplotlib.lines.Line2D at 0x1196f5710>,\n <matplotlib.lines.Line2D at 0x1196f58d0>,\n <matplotlib.lines.Line2D at 0x1196f5a90>,\n <matplotlib.lines.Line2D at 0x1196f5c50>,\n <matplotlib.lines.Line2D at 0x1196f5e10>,\n <matplotlib.lines.Line2D at 0x1196f5fd0>,\n <matplotlib.lines.Line2D at 0x1196fd1d0>,\n <matplotlib.lines.Line2D at 0x1196fd390>,\n <matplotlib.lines.Line2D at 0x1196fd550>,\n <matplotlib.lines.Line2D at 0x1196fd710>,\n <matplotlib.lines.Line2D at 0x1196fd8d0>,\n <matplotlib.lines.Line2D at 0x1196fda90>,\n <matplotlib.lines.Line2D at 0x1196fdc50>,\n <matplotlib.lines.Line2D at 0x1196fde10>,\n <matplotlib.lines.Line2D at 0x1196fdfd0>,\n <matplotlib.lines.Line2D at 0x1197001d0>,\n <matplotlib.lines.Line2D at 0x119700390>,\n <matplotlib.lines.Line2D at 0x119700550>,\n <matplotlib.lines.Line2D at 0x119700710>,\n <matplotlib.lines.Line2D at 0x1197008d0>,\n <matplotlib.lines.Line2D at 0x119700a90>,\n <matplotlib.lines.Line2D at 0x119700c50>,\n <matplotlib.lines.Line2D at 0x119700e10>,\n <matplotlib.lines.Line2D at 0x119700fd0>,\n <matplotlib.lines.Line2D at 0x1197051d0>,\n <matplotlib.lines.Line2D at 0x119705390>,\n <matplotlib.lines.Line2D at 0x119705550>,\n <matplotlib.lines.Line2D at 0x119705710>,\n <matplotlib.lines.Line2D at 0x1197058d0>,\n <matplotlib.lines.Line2D at 0x119705a90>,\n <matplotlib.lines.Line2D at 0x119705c50>,\n <matplotlib.lines.Line2D at 0x119705e10>,\n <matplotlib.lines.Line2D at 0x119705fd0>,\n <matplotlib.lines.Line2D at 0x1197091d0>,\n <matplotlib.lines.Line2D at 0x119709390>,\n <matplotlib.lines.Line2D at 0x119709550>,\n <matplotlib.lines.Line2D at 0x119709710>,\n <matplotlib.lines.Line2D at 0x1197098d0>,\n <matplotlib.lines.Line2D at 0x119709a90>,\n <matplotlib.lines.Line2D at 0x119709c50>,\n <matplotlib.lines.Line2D at 0x119709e10>,\n <matplotlib.lines.Line2D at 0x119709fd0>,\n <matplotlib.lines.Line2D at 0x11970e1d0>,\n <matplotlib.lines.Line2D at 0x11970e390>,\n <matplotlib.lines.Line2D at 0x11970e550>,\n <matplotlib.lines.Line2D at 0x11970e710>,\n <matplotlib.lines.Line2D at 0x11970e8d0>,\n <matplotlib.lines.Line2D at 0x11970ea90>,\n <matplotlib.lines.Line2D at 0x11970ec50>,\n <matplotlib.lines.Line2D at 0x11970ee10>,\n <matplotlib.lines.Line2D at 0x11970efd0>,\n <matplotlib.lines.Line2D at 0x119723110>,\n <matplotlib.lines.Line2D at 0x1197232d0>,\n <matplotlib.lines.Line2D at 0x119723490>,\n <matplotlib.lines.Line2D at 0x119723650>,\n <matplotlib.lines.Line2D at 0x119723810>,\n <matplotlib.lines.Line2D at 0x1197239d0>,\n <matplotlib.lines.Line2D at 0x119723c10>,\n <matplotlib.lines.Line2D at 0x119723e10>,\n <matplotlib.lines.Line2D at 0x119723bd0>,\n <matplotlib.lines.Line2D at 0x1197291d0>,\n <matplotlib.lines.Line2D at 0x119729390>,\n <matplotlib.lines.Line2D at 0x119729550>,\n <matplotlib.lines.Line2D at 0x119729710>,\n <matplotlib.lines.Line2D at 0x1197298d0>,\n <matplotlib.lines.Line2D at 0x119729a90>,\n <matplotlib.lines.Line2D at 0x119729c50>,\n <matplotlib.lines.Line2D at 0x119729e10>,\n <matplotlib.lines.Line2D at 0x119729fd0>,\n <matplotlib.lines.Line2D at 0x11972f1d0>,\n <matplotlib.lines.Line2D at 0x11972f390>,\n <matplotlib.lines.Line2D at 0x11972f550>,\n <matplotlib.lines.Line2D at 0x11972f710>,\n <matplotlib.lines.Line2D at 0x11972f8d0>,\n <matplotlib.lines.Line2D at 0x11972fa90>,\n <matplotlib.lines.Line2D at 0x11972fc50>,\n <matplotlib.lines.Line2D at 0x11972fe10>,\n <matplotlib.lines.Line2D at 0x11972ffd0>,\n <matplotlib.lines.Line2D at 0x1197141d0>,\n <matplotlib.lines.Line2D at 0x119714390>,\n <matplotlib.lines.Line2D at 0x119714550>,\n <matplotlib.lines.Line2D at 0x119714710>,\n <matplotlib.lines.Line2D at 0x1197148d0>,\n <matplotlib.lines.Line2D at 0x119714a90>,\n <matplotlib.lines.Line2D at 0x119714c50>,\n <matplotlib.lines.Line2D at 0x119714e10>,\n <matplotlib.lines.Line2D at 0x119714fd0>,\n <matplotlib.lines.Line2D at 0x119717210>,\n <matplotlib.lines.Line2D at 0x1197173d0>,\n <matplotlib.lines.Line2D at 0x119717590>,\n <matplotlib.lines.Line2D at 0x119717750>,\n <matplotlib.lines.Line2D at 0x119717910>,\n <matplotlib.lines.Line2D at 0x119717ad0>,\n <matplotlib.lines.Line2D at 0x119717c90>,\n <matplotlib.lines.Line2D at 0x119717e50>,\n <matplotlib.lines.Line2D at 0x119717350>,\n <matplotlib.lines.Line2D at 0x11971b1d0>,\n <matplotlib.lines.Line2D at 0x11971b390>,\n <matplotlib.lines.Line2D at 0x11971b550>,\n <matplotlib.lines.Line2D at 0x11971b710>,\n <matplotlib.lines.Line2D at 0x11971b8d0>,\n <matplotlib.lines.Line2D at 0x11971ba90>,\n <matplotlib.lines.Line2D at 0x11971bc50>,\n <matplotlib.lines.Line2D at 0x11971be10>,\n <matplotlib.lines.Line2D at 0x11971bfd0>,\n <matplotlib.lines.Line2D at 0x11971f1d0>,\n <matplotlib.lines.Line2D at 0x11971f390>,\n <matplotlib.lines.Line2D at 0x11971f550>,\n <matplotlib.lines.Line2D at 0x11971f710>,\n <matplotlib.lines.Line2D at 0x11971f8d0>,\n <matplotlib.lines.Line2D at 0x11971fa90>,\n <matplotlib.lines.Line2D at 0x11971fc50>,\n <matplotlib.lines.Line2D at 0x11971fe10>,\n <matplotlib.lines.Line2D at 0x11971ffd0>,\n <matplotlib.lines.Line2D at 0x1197361d0>,\n <matplotlib.lines.Line2D at 0x119736390>,\n <matplotlib.lines.Line2D at 0x119736550>,\n <matplotlib.lines.Line2D at 0x119736710>,\n <matplotlib.lines.Line2D at 0x1197368d0>,\n <matplotlib.lines.Line2D at 0x119736a90>,\n <matplotlib.lines.Line2D at 0x119736c50>,\n <matplotlib.lines.Line2D at 0x119736e10>,\n <matplotlib.lines.Line2D at 0x119736fd0>,\n <matplotlib.lines.Line2D at 0x1197331d0>,\n <matplotlib.lines.Line2D at 0x119733390>,\n <matplotlib.lines.Line2D at 0x119733550>,\n <matplotlib.lines.Line2D at 0x119733710>,\n <matplotlib.lines.Line2D at 0x1197338d0>,\n <matplotlib.lines.Line2D at 0x119733a90>,\n <matplotlib.lines.Line2D at 0x119733c50>,\n <matplotlib.lines.Line2D at 0x119733e10>,\n <matplotlib.lines.Line2D at 0x119733fd0>,\n <matplotlib.lines.Line2D at 0x11973c1d0>,\n <matplotlib.lines.Line2D at 0x11973c390>,\n <matplotlib.lines.Line2D at 0x11973c550>,\n <matplotlib.lines.Line2D at 0x11973c710>,\n <matplotlib.lines.Line2D at 0x11973c8d0>,\n <matplotlib.lines.Line2D at 0x11973ca90>,\n <matplotlib.lines.Line2D at 0x11973cc50>,\n <matplotlib.lines.Line2D at 0x11973ce10>,\n <matplotlib.lines.Line2D at 0x11973cfd0>,\n <matplotlib.lines.Line2D at 0x1197401d0>,\n <matplotlib.lines.Line2D at 0x119740390>,\n <matplotlib.lines.Line2D at 0x119740550>,\n <matplotlib.lines.Line2D at 0x119740710>,\n <matplotlib.lines.Line2D at 0x1197408d0>,\n <matplotlib.lines.Line2D at 0x119740a90>,\n <matplotlib.lines.Line2D at 0x119740c50>,\n <matplotlib.lines.Line2D at 0x119740e10>,\n <matplotlib.lines.Line2D at 0x119740fd0>,\n <matplotlib.lines.Line2D at 0x1197441d0>,\n <matplotlib.lines.Line2D at 0x119744390>,\n <matplotlib.lines.Line2D at 0x119744550>,\n <matplotlib.lines.Line2D at 0x119744710>,\n <matplotlib.lines.Line2D at 0x1197448d0>,\n <matplotlib.lines.Line2D at 0x119744a90>,\n <matplotlib.lines.Line2D at 0x119744c50>,\n <matplotlib.lines.Line2D at 0x119744e10>,\n <matplotlib.lines.Line2D at 0x119744fd0>,\n <matplotlib.lines.Line2D at 0x1197481d0>,\n <matplotlib.lines.Line2D at 0x119748390>,\n <matplotlib.lines.Line2D at 0x119748550>,\n <matplotlib.lines.Line2D at 0x119748710>,\n <matplotlib.lines.Line2D at 0x1197488d0>,\n <matplotlib.lines.Line2D at 0x119748a90>,\n <matplotlib.lines.Line2D at 0x119748c50>,\n <matplotlib.lines.Line2D at 0x119748e10>,\n <matplotlib.lines.Line2D at 0x119748fd0>,\n <matplotlib.lines.Line2D at 0x11974c1d0>,\n <matplotlib.lines.Line2D at 0x11974c390>,\n <matplotlib.lines.Line2D at 0x11974c550>,\n <matplotlib.lines.Line2D at 0x11974c710>,\n <matplotlib.lines.Line2D at 0x11974c8d0>,\n <matplotlib.lines.Line2D at 0x11974ca90>,\n <matplotlib.lines.Line2D at 0x11974cc50>,\n <matplotlib.lines.Line2D at 0x11974ce10>,\n <matplotlib.lines.Line2D at 0x11974cfd0>,\n <matplotlib.lines.Line2D at 0x1196901d0>,\n <matplotlib.lines.Line2D at 0x119690390>,\n <matplotlib.lines.Line2D at 0x119690550>,\n <matplotlib.lines.Line2D at 0x119690710>,\n <matplotlib.lines.Line2D at 0x1196908d0>,\n <matplotlib.lines.Line2D at 0x119690a90>,\n <matplotlib.lines.Line2D at 0x119690c50>,\n <matplotlib.lines.Line2D at 0x119690e10>,\n <matplotlib.lines.Line2D at 0x119690fd0>,\n <matplotlib.lines.Line2D at 0x1196951d0>,\n <matplotlib.lines.Line2D at 0x119695390>,\n <matplotlib.lines.Line2D at 0x119695550>,\n <matplotlib.lines.Line2D at 0x119695710>,\n <matplotlib.lines.Line2D at 0x1196958d0>,\n <matplotlib.lines.Line2D at 0x119695a90>,\n <matplotlib.lines.Line2D at 0x119695c50>,\n <matplotlib.lines.Line2D at 0x119695e10>,\n <matplotlib.lines.Line2D at 0x119695fd0>,\n <matplotlib.lines.Line2D at 0x1196991d0>,\n <matplotlib.lines.Line2D at 0x119699390>,\n <matplotlib.lines.Line2D at 0x119699550>,\n <matplotlib.lines.Line2D at 0x119699710>,\n <matplotlib.lines.Line2D at 0x1196998d0>,\n <matplotlib.lines.Line2D at 0x119699a90>,\n <matplotlib.lines.Line2D at 0x119699c50>,\n <matplotlib.lines.Line2D at 0x119699e10>,\n <matplotlib.lines.Line2D at 0x119699fd0>,\n <matplotlib.lines.Line2D at 0x11969d1d0>,\n <matplotlib.lines.Line2D at 0x11969d390>,\n <matplotlib.lines.Line2D at 0x11969d550>,\n <matplotlib.lines.Line2D at 0x11969d710>,\n <matplotlib.lines.Line2D at 0x11969d8d0>,\n <matplotlib.lines.Line2D at 0x11969da90>,\n <matplotlib.lines.Line2D at 0x11969dc50>,\n <matplotlib.lines.Line2D at 0x11969de10>,\n <matplotlib.lines.Line2D at 0x11969dfd0>,\n <matplotlib.lines.Line2D at 0x1196a21d0>,\n <matplotlib.lines.Line2D at 0x1196a2390>,\n <matplotlib.lines.Line2D at 0x1196a2550>,\n <matplotlib.lines.Line2D at 0x1196a2710>,\n <matplotlib.lines.Line2D at 0x1196a28d0>,\n <matplotlib.lines.Line2D at 0x1196a2a90>,\n <matplotlib.lines.Line2D at 0x1196a2c50>,\n <matplotlib.lines.Line2D at 0x1196a2e10>,\n <matplotlib.lines.Line2D at 0x1196a2fd0>,\n <matplotlib.lines.Line2D at 0x1196a61d0>,\n <matplotlib.lines.Line2D at 0x1196a6390>,\n <matplotlib.lines.Line2D at 0x1196a6550>,\n <matplotlib.lines.Line2D at 0x1196a6710>,\n <matplotlib.lines.Line2D at 0x1196a68d0>,\n <matplotlib.lines.Line2D at 0x1196a6a90>,\n <matplotlib.lines.Line2D at 0x1196a6c50>,\n <matplotlib.lines.Line2D at 0x1196a6e10>,\n <matplotlib.lines.Line2D at 0x1196a6fd0>,\n <matplotlib.lines.Line2D at 0x1196ab1d0>,\n <matplotlib.lines.Line2D at 0x1196ab390>,\n <matplotlib.lines.Line2D at 0x1196ab550>,\n <matplotlib.lines.Line2D at 0x1196ab710>,\n <matplotlib.lines.Line2D at 0x1196ab8d0>,\n <matplotlib.lines.Line2D at 0x1196aba90>,\n <matplotlib.lines.Line2D at 0x1196abc50>,\n <matplotlib.lines.Line2D at 0x1196abe10>,\n <matplotlib.lines.Line2D at 0x1196abfd0>,\n <matplotlib.lines.Line2D at 0x1196af1d0>,\n <matplotlib.lines.Line2D at 0x1196af390>,\n <matplotlib.lines.Line2D at 0x1196af550>,\n <matplotlib.lines.Line2D at 0x1196af710>,\n <matplotlib.lines.Line2D at 0x1196af8d0>,\n <matplotlib.lines.Line2D at 0x1196afa90>,\n <matplotlib.lines.Line2D at 0x1196afc50>,\n <matplotlib.lines.Line2D at 0x1196afe10>,\n <matplotlib.lines.Line2D at 0x1196affd0>,\n <matplotlib.lines.Line2D at 0x1196b31d0>,\n <matplotlib.lines.Line2D at 0x1196b3390>,\n <matplotlib.lines.Line2D at 0x1196b3550>,\n <matplotlib.lines.Line2D at 0x1196b3710>,\n <matplotlib.lines.Line2D at 0x1196b38d0>,\n <matplotlib.lines.Line2D at 0x1196b3a90>,\n <matplotlib.lines.Line2D at 0x1196b3c50>,\n <matplotlib.lines.Line2D at 0x1196b3e10>,\n <matplotlib.lines.Line2D at 0x1196b3fd0>,\n <matplotlib.lines.Line2D at 0x1196b71d0>,\n <matplotlib.lines.Line2D at 0x1196b7390>,\n <matplotlib.lines.Line2D at 0x1196b7550>,\n <matplotlib.lines.Line2D at 0x1196b7710>,\n <matplotlib.lines.Line2D at 0x1196b78d0>,\n <matplotlib.lines.Line2D at 0x1196b7a90>,\n <matplotlib.lines.Line2D at 0x1196b7c50>,\n <matplotlib.lines.Line2D at 0x1196b7e10>,\n <matplotlib.lines.Line2D at 0x1196b7fd0>,\n <matplotlib.lines.Line2D at 0x1196bb1d0>,\n <matplotlib.lines.Line2D at 0x1196bb390>,\n <matplotlib.lines.Line2D at 0x1196bb550>,\n <matplotlib.lines.Line2D at 0x1196bb710>,\n <matplotlib.lines.Line2D at 0x1196bb8d0>,\n <matplotlib.lines.Line2D at 0x1196bba90>,\n <matplotlib.lines.Line2D at 0x1196bbc50>,\n <matplotlib.lines.Line2D at 0x1196bbe10>,\n <matplotlib.lines.Line2D at 0x1196bbfd0>,\n <matplotlib.lines.Line2D at 0x1196bf1d0>,\n <matplotlib.lines.Line2D at 0x1196bf390>,\n <matplotlib.lines.Line2D at 0x1196bf550>,\n <matplotlib.lines.Line2D at 0x1196bf710>,\n <matplotlib.lines.Line2D at 0x1196bf8d0>,\n <matplotlib.lines.Line2D at 0x1196bfa90>,\n <matplotlib.lines.Line2D at 0x1196bfc50>,\n <matplotlib.lines.Line2D at 0x1196bfe10>,\n <matplotlib.lines.Line2D at 0x1196bffd0>,\n <matplotlib.lines.Line2D at 0x1196c41d0>,\n <matplotlib.lines.Line2D at 0x1196c4390>,\n <matplotlib.lines.Line2D at 0x1196c4550>,\n <matplotlib.lines.Line2D at 0x1196c4710>,\n <matplotlib.lines.Line2D at 0x1196c48d0>,\n <matplotlib.lines.Line2D at 0x1196c4a90>,\n <matplotlib.lines.Line2D at 0x1196c4c50>,\n <matplotlib.lines.Line2D at 0x1196c4e10>,\n <matplotlib.lines.Line2D at 0x1196c4fd0>,\n <matplotlib.lines.Line2D at 0x1196c91d0>,\n <matplotlib.lines.Line2D at 0x1196c9390>,\n <matplotlib.lines.Line2D at 0x1196c9550>,\n <matplotlib.lines.Line2D at 0x1196c9710>,\n <matplotlib.lines.Line2D at 0x1196c98d0>,\n <matplotlib.lines.Line2D at 0x1196c9a90>,\n <matplotlib.lines.Line2D at 0x1196c9c50>,\n <matplotlib.lines.Line2D at 0x1196c9e10>,\n <matplotlib.lines.Line2D at 0x1196c9fd0>,\n <matplotlib.lines.Line2D at 0x1196cd1d0>,\n <matplotlib.lines.Line2D at 0x1196cd390>,\n <matplotlib.lines.Line2D at 0x1196cd550>,\n <matplotlib.lines.Line2D at 0x1196cd710>,\n <matplotlib.lines.Line2D at 0x1196cd8d0>,\n <matplotlib.lines.Line2D at 0x1196cda90>,\n <matplotlib.lines.Line2D at 0x1196cdc50>,\n <matplotlib.lines.Line2D at 0x1196cde10>,\n <matplotlib.lines.Line2D at 0x1196cdfd0>,\n <matplotlib.lines.Line2D at 0x1197511d0>,\n <matplotlib.lines.Line2D at 0x119751390>,\n <matplotlib.lines.Line2D at 0x119751550>,\n <matplotlib.lines.Line2D at 0x119751710>,\n <matplotlib.lines.Line2D at 0x1197518d0>,\n <matplotlib.lines.Line2D at 0x119751a90>,\n <matplotlib.lines.Line2D at 0x119751c50>,\n <matplotlib.lines.Line2D at 0x119751e10>,\n <matplotlib.lines.Line2D at 0x119751fd0>,\n <matplotlib.lines.Line2D at 0x1197551d0>,\n <matplotlib.lines.Line2D at 0x119755390>,\n <matplotlib.lines.Line2D at 0x119755550>,\n <matplotlib.lines.Line2D at 0x119755710>,\n <matplotlib.lines.Line2D at 0x1197558d0>,\n <matplotlib.lines.Line2D at 0x119755a90>,\n <matplotlib.lines.Line2D at 0x119755c50>,\n <matplotlib.lines.Line2D at 0x119755e10>,\n <matplotlib.lines.Line2D at 0x119755fd0>,\n <matplotlib.lines.Line2D at 0x1197591d0>,\n <matplotlib.lines.Line2D at 0x119759390>,\n <matplotlib.lines.Line2D at 0x119759550>,\n <matplotlib.lines.Line2D at 0x119759710>,\n <matplotlib.lines.Line2D at 0x1197598d0>,\n <matplotlib.lines.Line2D at 0x119759a90>,\n <matplotlib.lines.Line2D at 0x119759c50>,\n <matplotlib.lines.Line2D at 0x119759e10>,\n <matplotlib.lines.Line2D at 0x119759fd0>,\n <matplotlib.lines.Line2D at 0x11975e1d0>,\n <matplotlib.lines.Line2D at 0x11975e390>,\n <matplotlib.lines.Line2D at 0x11975e550>,\n <matplotlib.lines.Line2D at 0x11975e710>,\n <matplotlib.lines.Line2D at 0x11975e8d0>,\n <matplotlib.lines.Line2D at 0x11975ea90>,\n <matplotlib.lines.Line2D at 0x11975ec50>,\n <matplotlib.lines.Line2D at 0x11975ee10>,\n <matplotlib.lines.Line2D at 0x11975efd0>,\n <matplotlib.lines.Line2D at 0x1197621d0>,\n <matplotlib.lines.Line2D at 0x119762390>,\n <matplotlib.lines.Line2D at 0x119762550>,\n <matplotlib.lines.Line2D at 0x119762710>,\n <matplotlib.lines.Line2D at 0x1197628d0>,\n <matplotlib.lines.Line2D at 0x119762a90>,\n <matplotlib.lines.Line2D at 0x119762c50>,\n <matplotlib.lines.Line2D at 0x119762e10>,\n <matplotlib.lines.Line2D at 0x119762fd0>,\n <matplotlib.lines.Line2D at 0x1197661d0>,\n <matplotlib.lines.Line2D at 0x119766390>,\n <matplotlib.lines.Line2D at 0x119766550>,\n <matplotlib.lines.Line2D at 0x119766710>,\n <matplotlib.lines.Line2D at 0x1197668d0>,\n <matplotlib.lines.Line2D at 0x119766a90>,\n <matplotlib.lines.Line2D at 0x119766c50>,\n <matplotlib.lines.Line2D at 0x119766e10>,\n <matplotlib.lines.Line2D at 0x119766fd0>,\n <matplotlib.lines.Line2D at 0x11976a1d0>,\n <matplotlib.lines.Line2D at 0x11976a390>,\n <matplotlib.lines.Line2D at 0x11976a550>,\n <matplotlib.lines.Line2D at 0x11976a710>,\n <matplotlib.lines.Line2D at 0x11976a8d0>,\n <matplotlib.lines.Line2D at 0x11976aa90>,\n <matplotlib.lines.Line2D at 0x11976ac50>,\n <matplotlib.lines.Line2D at 0x11976ae10>,\n <matplotlib.lines.Line2D at 0x11976afd0>,\n <matplotlib.lines.Line2D at 0x11976f1d0>,\n <matplotlib.lines.Line2D at 0x11976f390>,\n <matplotlib.lines.Line2D at 0x11976f550>,\n <matplotlib.lines.Line2D at 0x11976f710>,\n <matplotlib.lines.Line2D at 0x11976f8d0>,\n <matplotlib.lines.Line2D at 0x11976fa90>,\n <matplotlib.lines.Line2D at 0x11976fc50>,\n <matplotlib.lines.Line2D at 0x11976fe10>,\n <matplotlib.lines.Line2D at 0x11976ffd0>,\n <matplotlib.lines.Line2D at 0x1197731d0>,\n <matplotlib.lines.Line2D at 0x119773390>,\n <matplotlib.lines.Line2D at 0x119773550>,\n <matplotlib.lines.Line2D at 0x119773710>,\n <matplotlib.lines.Line2D at 0x1197738d0>,\n <matplotlib.lines.Line2D at 0x119773a90>,\n <matplotlib.lines.Line2D at 0x119773c50>,\n <matplotlib.lines.Line2D at 0x119773e10>,\n <matplotlib.lines.Line2D at 0x119773fd0>,\n <matplotlib.lines.Line2D at 0x1197781d0>,\n <matplotlib.lines.Line2D at 0x119778390>,\n <matplotlib.lines.Line2D at 0x119778550>,\n <matplotlib.lines.Line2D at 0x119778710>,\n <matplotlib.lines.Line2D at 0x1197788d0>,\n <matplotlib.lines.Line2D at 0x119778a90>,\n <matplotlib.lines.Line2D at 0x119778c50>,\n <matplotlib.lines.Line2D at 0x119778e10>,\n <matplotlib.lines.Line2D at 0x119778fd0>,\n <matplotlib.lines.Line2D at 0x11977c1d0>,\n <matplotlib.lines.Line2D at 0x11977c390>,\n <matplotlib.lines.Line2D at 0x11977c550>,\n <matplotlib.lines.Line2D at 0x11977c710>,\n <matplotlib.lines.Line2D at 0x11977c8d0>,\n <matplotlib.lines.Line2D at 0x11977ca90>,\n <matplotlib.lines.Line2D at 0x11977cc50>,\n <matplotlib.lines.Line2D at 0x11977ce10>,\n <matplotlib.lines.Line2D at 0x11977cfd0>,\n <matplotlib.lines.Line2D at 0x1197801d0>,\n <matplotlib.lines.Line2D at 0x119780390>,\n <matplotlib.lines.Line2D at 0x119780550>,\n <matplotlib.lines.Line2D at 0x119780710>,\n <matplotlib.lines.Line2D at 0x1197808d0>,\n <matplotlib.lines.Line2D at 0x119780a90>,\n <matplotlib.lines.Line2D at 0x119780c50>,\n <matplotlib.lines.Line2D at 0x119780e10>,\n <matplotlib.lines.Line2D at 0x119780fd0>,\n <matplotlib.lines.Line2D at 0x1197841d0>,\n <matplotlib.lines.Line2D at 0x119784390>,\n <matplotlib.lines.Line2D at 0x119784550>,\n <matplotlib.lines.Line2D at 0x119784710>,\n <matplotlib.lines.Line2D at 0x1197848d0>,\n <matplotlib.lines.Line2D at 0x119784a90>,\n <matplotlib.lines.Line2D at 0x119784c50>,\n <matplotlib.lines.Line2D at 0x119784e10>,\n <matplotlib.lines.Line2D at 0x119784fd0>,\n <matplotlib.lines.Line2D at 0x1197881d0>,\n <matplotlib.lines.Line2D at 0x119788390>,\n <matplotlib.lines.Line2D at 0x119788550>,\n <matplotlib.lines.Line2D at 0x119788710>,\n <matplotlib.lines.Line2D at 0x1197888d0>,\n <matplotlib.lines.Line2D at 0x119788a90>,\n <matplotlib.lines.Line2D at 0x119788c50>,\n <matplotlib.lines.Line2D at 0x119788e10>,\n <matplotlib.lines.Line2D at 0x119788fd0>,\n <matplotlib.lines.Line2D at 0x11978d1d0>,\n <matplotlib.lines.Line2D at 0x11978d390>,\n <matplotlib.lines.Line2D at 0x11978d550>,\n <matplotlib.lines.Line2D at 0x11978d710>,\n <matplotlib.lines.Line2D at 0x11978d8d0>,\n <matplotlib.lines.Line2D at 0x11978da90>,\n <matplotlib.lines.Line2D at 0x11978dc50>,\n <matplotlib.lines.Line2D at 0x11978de10>,\n <matplotlib.lines.Line2D at 0x11978dfd0>,\n <matplotlib.lines.Line2D at 0x1197911d0>,\n <matplotlib.lines.Line2D at 0x119791390>,\n <matplotlib.lines.Line2D at 0x119791550>,\n <matplotlib.lines.Line2D at 0x119791710>,\n <matplotlib.lines.Line2D at 0x1197918d0>,\n <matplotlib.lines.Line2D at 0x119791a90>,\n <matplotlib.lines.Line2D at 0x119791c50>,\n <matplotlib.lines.Line2D at 0x119791e10>,\n <matplotlib.lines.Line2D at 0x119791fd0>,\n <matplotlib.lines.Line2D at 0x1197951d0>,\n <matplotlib.lines.Line2D at 0x119795390>,\n <matplotlib.lines.Line2D at 0x119795550>,\n <matplotlib.lines.Line2D at 0x119795710>,\n <matplotlib.lines.Line2D at 0x1197958d0>,\n <matplotlib.lines.Line2D at 0x119795a90>,\n <matplotlib.lines.Line2D at 0x119795c50>,\n <matplotlib.lines.Line2D at 0x119795e10>,\n <matplotlib.lines.Line2D at 0x119795fd0>,\n <matplotlib.lines.Line2D at 0x1197991d0>,\n <matplotlib.lines.Line2D at 0x119799390>,\n <matplotlib.lines.Line2D at 0x119799550>,\n <matplotlib.lines.Line2D at 0x119799710>,\n <matplotlib.lines.Line2D at 0x1197998d0>,\n <matplotlib.lines.Line2D at 0x119799a90>,\n <matplotlib.lines.Line2D at 0x119799c50>,\n <matplotlib.lines.Line2D at 0x119799e10>,\n <matplotlib.lines.Line2D at 0x119799fd0>,\n <matplotlib.lines.Line2D at 0x11979d1d0>,\n <matplotlib.lines.Line2D at 0x11979d390>,\n <matplotlib.lines.Line2D at 0x11979d550>,\n <matplotlib.lines.Line2D at 0x11979d710>,\n <matplotlib.lines.Line2D at 0x11979d8d0>,\n <matplotlib.lines.Line2D at 0x11979da90>,\n <matplotlib.lines.Line2D at 0x11979dc50>,\n <matplotlib.lines.Line2D at 0x11979de10>,\n <matplotlib.lines.Line2D at 0x11979dfd0>,\n <matplotlib.lines.Line2D at 0x1197a11d0>,\n <matplotlib.lines.Line2D at 0x1197a1390>,\n <matplotlib.lines.Line2D at 0x1197a1550>,\n <matplotlib.lines.Line2D at 0x1197a1710>,\n <matplotlib.lines.Line2D at 0x1197a18d0>,\n <matplotlib.lines.Line2D at 0x1197a1a90>,\n <matplotlib.lines.Line2D at 0x1197a1c50>,\n <matplotlib.lines.Line2D at 0x1197a1e10>,\n <matplotlib.lines.Line2D at 0x1197a1fd0>,\n <matplotlib.lines.Line2D at 0x1197a61d0>,\n <matplotlib.lines.Line2D at 0x1197a6390>,\n <matplotlib.lines.Line2D at 0x1197a6550>,\n <matplotlib.lines.Line2D at 0x1197a6710>,\n <matplotlib.lines.Line2D at 0x1197a68d0>,\n <matplotlib.lines.Line2D at 0x1197a6a90>,\n <matplotlib.lines.Line2D at 0x1197a6c50>,\n <matplotlib.lines.Line2D at 0x1197a6e10>,\n <matplotlib.lines.Line2D at 0x1197a6fd0>,\n <matplotlib.lines.Line2D at 0x1197aa1d0>,\n <matplotlib.lines.Line2D at 0x1197aa390>,\n <matplotlib.lines.Line2D at 0x1197aa550>,\n <matplotlib.lines.Line2D at 0x1197aa710>,\n <matplotlib.lines.Line2D at 0x1197aa8d0>,\n <matplotlib.lines.Line2D at 0x1197aaa90>,\n <matplotlib.lines.Line2D at 0x1197aac50>,\n <matplotlib.lines.Line2D at 0x1197aae10>,\n <matplotlib.lines.Line2D at 0x1197aafd0>,\n <matplotlib.lines.Line2D at 0x1197ae1d0>,\n <matplotlib.lines.Line2D at 0x1197ae390>,\n <matplotlib.lines.Line2D at 0x1197ae550>,\n <matplotlib.lines.Line2D at 0x1197ae710>,\n <matplotlib.lines.Line2D at 0x1197ae8d0>,\n <matplotlib.lines.Line2D at 0x1197aea90>,\n <matplotlib.lines.Line2D at 0x1197aec50>,\n <matplotlib.lines.Line2D at 0x1197aee10>,\n <matplotlib.lines.Line2D at 0x1197aefd0>,\n <matplotlib.lines.Line2D at 0x1197b21d0>,\n <matplotlib.lines.Line2D at 0x1197b2390>,\n <matplotlib.lines.Line2D at 0x1197b2550>,\n <matplotlib.lines.Line2D at 0x1197b2710>,\n <matplotlib.lines.Line2D at 0x1197b28d0>,\n <matplotlib.lines.Line2D at 0x1197b2a90>,\n <matplotlib.lines.Line2D at 0x1197b2c50>,\n <matplotlib.lines.Line2D at 0x1197b2e10>,\n <matplotlib.lines.Line2D at 0x1197b2fd0>,\n <matplotlib.lines.Line2D at 0x1197b61d0>,\n <matplotlib.lines.Line2D at 0x1197b6390>,\n <matplotlib.lines.Line2D at 0x1197b6550>,\n <matplotlib.lines.Line2D at 0x1197b6710>,\n <matplotlib.lines.Line2D at 0x1197b68d0>,\n <matplotlib.lines.Line2D at 0x1197b6a90>,\n <matplotlib.lines.Line2D at 0x1197b6c50>,\n <matplotlib.lines.Line2D at 0x1197b6e10>,\n <matplotlib.lines.Line2D at 0x1197b6fd0>,\n <matplotlib.lines.Line2D at 0x1197ba1d0>,\n <matplotlib.lines.Line2D at 0x1197ba390>,\n <matplotlib.lines.Line2D at 0x1197ba550>,\n <matplotlib.lines.Line2D at 0x1197ba710>,\n <matplotlib.lines.Line2D at 0x1197ba8d0>,\n <matplotlib.lines.Line2D at 0x1197baa90>,\n <matplotlib.lines.Line2D at 0x1197bac50>,\n <matplotlib.lines.Line2D at 0x1197bae10>,\n <matplotlib.lines.Line2D at 0x1197bafd0>,\n <matplotlib.lines.Line2D at 0x1197c01d0>,\n <matplotlib.lines.Line2D at 0x1197c0390>,\n <matplotlib.lines.Line2D at 0x1197c0550>,\n <matplotlib.lines.Line2D at 0x1197c0710>,\n <matplotlib.lines.Line2D at 0x1197c08d0>,\n <matplotlib.lines.Line2D at 0x1197c0a90>,\n <matplotlib.lines.Line2D at 0x1197c0c50>,\n <matplotlib.lines.Line2D at 0x1197c0e10>,\n <matplotlib.lines.Line2D at 0x1197c0fd0>,\n <matplotlib.lines.Line2D at 0x1197c41d0>,\n <matplotlib.lines.Line2D at 0x1197c4390>,\n <matplotlib.lines.Line2D at 0x1197c4550>,\n <matplotlib.lines.Line2D at 0x1197c4710>,\n <matplotlib.lines.Line2D at 0x1197c48d0>,\n <matplotlib.lines.Line2D at 0x1197c4a90>,\n <matplotlib.lines.Line2D at 0x1197c4c50>,\n <matplotlib.lines.Line2D at 0x1197c4e10>,\n <matplotlib.lines.Line2D at 0x1197c4fd0>,\n <matplotlib.lines.Line2D at 0x1197c81d0>,\n <matplotlib.lines.Line2D at 0x1197c8390>,\n <matplotlib.lines.Line2D at 0x1197c8550>,\n <matplotlib.lines.Line2D at 0x1197c8710>,\n <matplotlib.lines.Line2D at 0x1197c88d0>,\n <matplotlib.lines.Line2D at 0x1197c8a90>,\n <matplotlib.lines.Line2D at 0x1197c8c50>,\n <matplotlib.lines.Line2D at 0x1197c8e10>,\n <matplotlib.lines.Line2D at 0x1197c8fd0>,\n <matplotlib.lines.Line2D at 0x1197cc1d0>,\n <matplotlib.lines.Line2D at 0x1197cc390>,\n <matplotlib.lines.Line2D at 0x1197cc550>,\n <matplotlib.lines.Line2D at 0x1197cc710>,\n <matplotlib.lines.Line2D at 0x1197cc8d0>,\n <matplotlib.lines.Line2D at 0x1197cca90>,\n <matplotlib.lines.Line2D at 0x1197ccc50>,\n <matplotlib.lines.Line2D at 0x1197cce10>,\n <matplotlib.lines.Line2D at 0x1197ccfd0>,\n <matplotlib.lines.Line2D at 0x1198101d0>,\n <matplotlib.lines.Line2D at 0x119810390>,\n <matplotlib.lines.Line2D at 0x119810550>,\n <matplotlib.lines.Line2D at 0x119810710>,\n <matplotlib.lines.Line2D at 0x1198108d0>,\n <matplotlib.lines.Line2D at 0x119810a90>,\n <matplotlib.lines.Line2D at 0x119810c50>,\n <matplotlib.lines.Line2D at 0x119810e10>,\n <matplotlib.lines.Line2D at 0x119810fd0>,\n <matplotlib.lines.Line2D at 0x1198141d0>,\n <matplotlib.lines.Line2D at 0x119814390>,\n <matplotlib.lines.Line2D at 0x119814550>,\n <matplotlib.lines.Line2D at 0x119814710>,\n <matplotlib.lines.Line2D at 0x1198148d0>,\n <matplotlib.lines.Line2D at 0x119814a90>,\n <matplotlib.lines.Line2D at 0x119814c50>,\n <matplotlib.lines.Line2D at 0x119814e10>,\n <matplotlib.lines.Line2D at 0x119814fd0>,\n <matplotlib.lines.Line2D at 0x1198191d0>,\n <matplotlib.lines.Line2D at 0x119819390>,\n <matplotlib.lines.Line2D at 0x119819550>,\n <matplotlib.lines.Line2D at 0x119819710>,\n <matplotlib.lines.Line2D at 0x1198198d0>,\n <matplotlib.lines.Line2D at 0x119819a90>,\n <matplotlib.lines.Line2D at 0x119819c50>,\n <matplotlib.lines.Line2D at 0x119819e10>,\n <matplotlib.lines.Line2D at 0x119819fd0>,\n <matplotlib.lines.Line2D at 0x11981d1d0>,\n <matplotlib.lines.Line2D at 0x11981d390>,\n <matplotlib.lines.Line2D at 0x11981d550>,\n <matplotlib.lines.Line2D at 0x11981d710>,\n <matplotlib.lines.Line2D at 0x11981d8d0>,\n <matplotlib.lines.Line2D at 0x11981da90>,\n <matplotlib.lines.Line2D at 0x11981dc50>,\n <matplotlib.lines.Line2D at 0x11981de10>,\n <matplotlib.lines.Line2D at 0x11981dfd0>,\n <matplotlib.lines.Line2D at 0x1198211d0>,\n <matplotlib.lines.Line2D at 0x119821390>,\n <matplotlib.lines.Line2D at 0x119821550>,\n <matplotlib.lines.Line2D at 0x119821710>,\n <matplotlib.lines.Line2D at 0x1198218d0>,\n <matplotlib.lines.Line2D at 0x119821a90>,\n <matplotlib.lines.Line2D at 0x119821c50>,\n <matplotlib.lines.Line2D at 0x119821e10>,\n <matplotlib.lines.Line2D at 0x119821fd0>,\n <matplotlib.lines.Line2D at 0x1198261d0>,\n <matplotlib.lines.Line2D at 0x119826390>,\n <matplotlib.lines.Line2D at 0x119826550>,\n <matplotlib.lines.Line2D at 0x119826710>,\n <matplotlib.lines.Line2D at 0x1198268d0>,\n <matplotlib.lines.Line2D at 0x119826a90>,\n <matplotlib.lines.Line2D at 0x119826c50>,\n <matplotlib.lines.Line2D at 0x119826e10>,\n <matplotlib.lines.Line2D at 0x119826fd0>,\n <matplotlib.lines.Line2D at 0x11982a1d0>,\n <matplotlib.lines.Line2D at 0x11982a390>,\n <matplotlib.lines.Line2D at 0x11982a550>,\n <matplotlib.lines.Line2D at 0x11982a710>,\n <matplotlib.lines.Line2D at 0x11982a8d0>,\n <matplotlib.lines.Line2D at 0x11982aa90>,\n <matplotlib.lines.Line2D at 0x11982ac50>,\n <matplotlib.lines.Line2D at 0x11982ae10>,\n <matplotlib.lines.Line2D at 0x11982afd0>,\n <matplotlib.lines.Line2D at 0x11982f1d0>,\n <matplotlib.lines.Line2D at 0x11982f390>,\n <matplotlib.lines.Line2D at 0x11982f550>,\n <matplotlib.lines.Line2D at 0x11982f710>,\n <matplotlib.lines.Line2D at 0x11982f8d0>,\n <matplotlib.lines.Line2D at 0x11982fa90>,\n <matplotlib.lines.Line2D at 0x11982fc50>,\n <matplotlib.lines.Line2D at 0x11982fe10>,\n <matplotlib.lines.Line2D at 0x11982ffd0>,\n <matplotlib.lines.Line2D at 0x1198331d0>,\n <matplotlib.lines.Line2D at 0x119833390>,\n <matplotlib.lines.Line2D at 0x119833550>,\n <matplotlib.lines.Line2D at 0x119833710>,\n <matplotlib.lines.Line2D at 0x1198338d0>,\n <matplotlib.lines.Line2D at 0x119833a90>,\n <matplotlib.lines.Line2D at 0x119833c50>,\n <matplotlib.lines.Line2D at 0x119833e10>,\n <matplotlib.lines.Line2D at 0x119833fd0>,\n <matplotlib.lines.Line2D at 0x1198371d0>,\n <matplotlib.lines.Line2D at 0x119837390>,\n <matplotlib.lines.Line2D at 0x119837550>,\n <matplotlib.lines.Line2D at 0x119837710>,\n <matplotlib.lines.Line2D at 0x1198378d0>,\n <matplotlib.lines.Line2D at 0x119837a90>,\n <matplotlib.lines.Line2D at 0x119837c50>,\n <matplotlib.lines.Line2D at 0x119837e10>,\n <matplotlib.lines.Line2D at 0x119837fd0>,\n <matplotlib.lines.Line2D at 0x11983b1d0>,\n <matplotlib.lines.Line2D at 0x11983b390>,\n <matplotlib.lines.Line2D at 0x11983b550>,\n <matplotlib.lines.Line2D at 0x11983b710>,\n <matplotlib.lines.Line2D at 0x11983b8d0>,\n <matplotlib.lines.Line2D at 0x11983ba90>,\n <matplotlib.lines.Line2D at 0x11983bc50>,\n <matplotlib.lines.Line2D at 0x11983be10>,\n <matplotlib.lines.Line2D at 0x11983bfd0>,\n <matplotlib.lines.Line2D at 0x11983f1d0>,\n <matplotlib.lines.Line2D at 0x11983f390>,\n <matplotlib.lines.Line2D at 0x11983f550>,\n <matplotlib.lines.Line2D at 0x11983f710>,\n <matplotlib.lines.Line2D at 0x11983f8d0>,\n <matplotlib.lines.Line2D at 0x11983fa90>,\n <matplotlib.lines.Line2D at 0x11983fc50>,\n <matplotlib.lines.Line2D at 0x11983fe10>,\n <matplotlib.lines.Line2D at 0x11983ffd0>,\n <matplotlib.lines.Line2D at 0x1198431d0>,\n <matplotlib.lines.Line2D at 0x119843390>,\n <matplotlib.lines.Line2D at 0x119843550>,\n <matplotlib.lines.Line2D at 0x119843710>,\n <matplotlib.lines.Line2D at 0x1198438d0>,\n <matplotlib.lines.Line2D at 0x119843a90>,\n <matplotlib.lines.Line2D at 0x119843c50>,\n <matplotlib.lines.Line2D at 0x119843e10>,\n <matplotlib.lines.Line2D at 0x119843fd0>,\n <matplotlib.lines.Line2D at 0x1198481d0>,\n <matplotlib.lines.Line2D at 0x119848390>,\n <matplotlib.lines.Line2D at 0x119848550>,\n <matplotlib.lines.Line2D at 0x119848710>,\n <matplotlib.lines.Line2D at 0x1198488d0>,\n <matplotlib.lines.Line2D at 0x119848a90>,\n <matplotlib.lines.Line2D at 0x119848c50>,\n <matplotlib.lines.Line2D at 0x119848e10>,\n <matplotlib.lines.Line2D at 0x119848fd0>,\n <matplotlib.lines.Line2D at 0x11984c1d0>,\n <matplotlib.lines.Line2D at 0x11984c390>,\n <matplotlib.lines.Line2D at 0x11984c550>,\n <matplotlib.lines.Line2D at 0x11984c710>,\n <matplotlib.lines.Line2D at 0x11984c8d0>,\n <matplotlib.lines.Line2D at 0x11984ca90>,\n <matplotlib.lines.Line2D at 0x11984cc50>,\n <matplotlib.lines.Line2D at 0x11984ce10>,\n <matplotlib.lines.Line2D at 0x11984cfd0>,\n <matplotlib.lines.Line2D at 0x1198511d0>,\n <matplotlib.lines.Line2D at 0x119851390>,\n <matplotlib.lines.Line2D at 0x119851550>,\n <matplotlib.lines.Line2D at 0x119851710>,\n <matplotlib.lines.Line2D at 0x1198518d0>,\n <matplotlib.lines.Line2D at 0x119851a90>,\n <matplotlib.lines.Line2D at 0x119851c50>,\n <matplotlib.lines.Line2D at 0x119851e10>,\n <matplotlib.lines.Line2D at 0x119851fd0>,\n <matplotlib.lines.Line2D at 0x1198551d0>,\n <matplotlib.lines.Line2D at 0x119855390>,\n <matplotlib.lines.Line2D at 0x119855550>,\n <matplotlib.lines.Line2D at 0x119855710>,\n <matplotlib.lines.Line2D at 0x1198558d0>,\n <matplotlib.lines.Line2D at 0x119855a90>,\n <matplotlib.lines.Line2D at 0x119855c50>,\n <matplotlib.lines.Line2D at 0x119855e10>,\n <matplotlib.lines.Line2D at 0x119855fd0>,\n <matplotlib.lines.Line2D at 0x1198591d0>,\n <matplotlib.lines.Line2D at 0x119859390>,\n <matplotlib.lines.Line2D at 0x119859550>,\n <matplotlib.lines.Line2D at 0x119859710>,\n <matplotlib.lines.Line2D at 0x1198598d0>,\n <matplotlib.lines.Line2D at 0x119859a90>,\n <matplotlib.lines.Line2D at 0x119859c50>,\n <matplotlib.lines.Line2D at 0x119859e10>,\n <matplotlib.lines.Line2D at 0x119859fd0>,\n <matplotlib.lines.Line2D at 0x11985d1d0>,\n <matplotlib.lines.Line2D at 0x11985d390>,\n <matplotlib.lines.Line2D at 0x11985d550>,\n <matplotlib.lines.Line2D at 0x11985d710>,\n <matplotlib.lines.Line2D at 0x11985d8d0>,\n <matplotlib.lines.Line2D at 0x11985da90>,\n <matplotlib.lines.Line2D at 0x11985dc50>,\n <matplotlib.lines.Line2D at 0x11985de10>,\n <matplotlib.lines.Line2D at 0x11985dfd0>,\n <matplotlib.lines.Line2D at 0x1198621d0>,\n <matplotlib.lines.Line2D at 0x119862390>,\n <matplotlib.lines.Line2D at 0x119862550>,\n <matplotlib.lines.Line2D at 0x119862710>,\n <matplotlib.lines.Line2D at 0x1198628d0>,\n <matplotlib.lines.Line2D at 0x119862a90>,\n <matplotlib.lines.Line2D at 0x119862c50>,\n <matplotlib.lines.Line2D at 0x119862e10>,\n <matplotlib.lines.Line2D at 0x119862fd0>,\n <matplotlib.lines.Line2D at 0x1198661d0>,\n <matplotlib.lines.Line2D at 0x119866390>,\n <matplotlib.lines.Line2D at 0x119866550>,\n <matplotlib.lines.Line2D at 0x119866710>,\n <matplotlib.lines.Line2D at 0x1198668d0>,\n <matplotlib.lines.Line2D at 0x119866a90>,\n <matplotlib.lines.Line2D at 0x119866c50>,\n <matplotlib.lines.Line2D at 0x119866e10>,\n <matplotlib.lines.Line2D at 0x119866fd0>,\n <matplotlib.lines.Line2D at 0x11986a1d0>,\n <matplotlib.lines.Line2D at 0x11986a390>,\n <matplotlib.lines.Line2D at 0x11986a550>,\n <matplotlib.lines.Line2D at 0x11986a710>,\n <matplotlib.lines.Line2D at 0x11986a8d0>,\n <matplotlib.lines.Line2D at 0x11986aa90>,\n <matplotlib.lines.Line2D at 0x11986ac50>,\n <matplotlib.lines.Line2D at 0x11986ae10>,\n <matplotlib.lines.Line2D at 0x11986afd0>,\n <matplotlib.lines.Line2D at 0x11986e1d0>,\n <matplotlib.lines.Line2D at 0x11986e390>,\n <matplotlib.lines.Line2D at 0x11986e550>,\n <matplotlib.lines.Line2D at 0x11986e710>,\n <matplotlib.lines.Line2D at 0x11986e8d0>,\n <matplotlib.lines.Line2D at 0x11986ea90>,\n <matplotlib.lines.Line2D at 0x11986ec50>,\n <matplotlib.lines.Line2D at 0x11986ee10>,\n <matplotlib.lines.Line2D at 0x11986efd0>,\n <matplotlib.lines.Line2D at 0x1198721d0>,\n <matplotlib.lines.Line2D at 0x119872390>,\n <matplotlib.lines.Line2D at 0x119872550>,\n <matplotlib.lines.Line2D at 0x119872710>,\n <matplotlib.lines.Line2D at 0x1198728d0>,\n <matplotlib.lines.Line2D at 0x119872a90>,\n <matplotlib.lines.Line2D at 0x119872c50>,\n <matplotlib.lines.Line2D at 0x119872e10>,\n <matplotlib.lines.Line2D at 0x119872fd0>,\n <matplotlib.lines.Line2D at 0x1198771d0>,\n <matplotlib.lines.Line2D at 0x119877390>,\n <matplotlib.lines.Line2D at 0x119877550>,\n <matplotlib.lines.Line2D at 0x119877710>,\n <matplotlib.lines.Line2D at 0x1198778d0>,\n <matplotlib.lines.Line2D at 0x119877a90>,\n <matplotlib.lines.Line2D at 0x119877c50>,\n <matplotlib.lines.Line2D at 0x119877e10>,\n <matplotlib.lines.Line2D at 0x119877fd0>,\n <matplotlib.lines.Line2D at 0x11987c1d0>,\n <matplotlib.lines.Line2D at 0x11987c390>,\n <matplotlib.lines.Line2D at 0x11987c550>,\n <matplotlib.lines.Line2D at 0x11987c710>,\n <matplotlib.lines.Line2D at 0x11987c8d0>,\n <matplotlib.lines.Line2D at 0x11987ca90>,\n <matplotlib.lines.Line2D at 0x11987cc50>,\n <matplotlib.lines.Line2D at 0x11987ce10>,\n <matplotlib.lines.Line2D at 0x11987cfd0>,\n <matplotlib.lines.Line2D at 0x1198801d0>,\n <matplotlib.lines.Line2D at 0x119880390>,\n <matplotlib.lines.Line2D at 0x119880550>,\n <matplotlib.lines.Line2D at 0x119880710>,\n <matplotlib.lines.Line2D at 0x1198808d0>,\n <matplotlib.lines.Line2D at 0x119880a90>,\n <matplotlib.lines.Line2D at 0x119880c50>,\n <matplotlib.lines.Line2D at 0x119880e10>,\n <matplotlib.lines.Line2D at 0x119880fd0>,\n <matplotlib.lines.Line2D at 0x1198841d0>,\n <matplotlib.lines.Line2D at 0x119884390>,\n <matplotlib.lines.Line2D at 0x119884550>,\n <matplotlib.lines.Line2D at 0x119884710>,\n <matplotlib.lines.Line2D at 0x1198848d0>]"
     },
     "execution_count": 283,
     "metadata": {},
     "output_type": "execute_result"
    },
    {
     "data": {
      "text/plain": "<Figure size 432x288 with 1 Axes>",
      "image/png": "[encoded data removed]"
     },
     "metadata": {
      "needs_background": "light"
     },
     "output_type": "display_data"
    }
   ],
   "source": [
    "steps = np.random.normal(loc=0, scale=0.25,\n",
    "                         size=(nwalks, nsteps))\n",
    "steps"
   ]
  },
  {
   "cell_type": "markdown",
   "metadata": {},
   "source": [
    "## 小结"
   ]
  }
 ],
 "metadata": {
  "kernelspec": {
   "display_name": "Python 3",
   "language": "python",
   "name": "python3"
  },
  "language_info": {
   "codemirror_mode": {
    "name": "ipython",
    "version": 3
   },
   "file_extension": ".py",
   "mimetype": "text/x-python",
   "name": "python",
   "nbconvert_exporter": "python",
   "pygments_lexer": "ipython3",
   "version": "3.6.12"
  }
 },
 "nbformat": 4,
 "nbformat_minor": 1
}