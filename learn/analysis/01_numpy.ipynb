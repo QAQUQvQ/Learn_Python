{
 "cells": [
  {
   "cell_type": "markdown",
   "metadata": {},
   "source": [
    "### NumPy 基础: 数组与向量化计算\n",
    "##### https://www.jianshu.com/p/3bcd7060700a"
   ]
  },
  {
   "cell_type": "code",
   "execution_count": 716,
   "metadata": {},
   "outputs": [],
   "source": [
    "# python自带的range方法和numpy的arange方法对比\n",
    "import numpy as np\n",
    "my_arr = np.arange(1000000)\n",
    "my_list = list(range(1000000))"
   ]
  },
  {
   "cell_type": "code",
   "execution_count": 717,
   "metadata": {},
   "outputs": [
    {
     "name": "stdout",
     "output_type": "stream",
     "text": [
      "CPU times: user 20.4 ms, sys: 10.9 ms, total: 31.4 ms\n",
      "Wall time: 32.7 ms\n",
      "CPU times: user 570 ms, sys: 172 ms, total: 742 ms\n",
      "Wall time: 811 ms\n"
     ]
    }
   ],
   "source": [
    "%time for _ in range(10): my_arr2 = my_arr * 2\n",
    "%time for _ in range(10): my_list2 = [x * 2 for x in my_list]"
   ]
  },
  {
   "cell_type": "markdown",
   "metadata": {},
   "source": [
    "## NumPy ndarray: 多维数组对象"
   ]
  },
  {
   "cell_type": "code",
   "execution_count": 718,
   "metadata": {},
   "outputs": [
    {
     "data": {
      "text/plain": "array([[ 0.05492687,  0.68518278, -1.35867494],\n       [-0.3811095 , -0.17243402,  0.9402587 ]])"
     },
     "execution_count": 718,
     "metadata": {},
     "output_type": "execute_result"
    }
   ],
   "source": [
    "import numpy as np\n",
    "# Generate some random data\n",
    "data = np.random.randn(2, 3)\n",
    "data"
   ]
  },
  {
   "cell_type": "code",
   "execution_count": 719,
   "metadata": {},
   "outputs": [
    {
     "data": {
      "text/plain": "array([[  0.54926865,   6.85182776, -13.58674936],\n       [ -3.81109498,  -1.72434022,   9.40258697]])"
     },
     "execution_count": 719,
     "metadata": {},
     "output_type": "execute_result"
    }
   ],
   "source": [
    "data * 10"
   ]
  },
  {
   "cell_type": "code",
   "execution_count": 720,
   "outputs": [
    {
     "data": {
      "text/plain": "array([[ 0.10985373,  1.37036555, -2.71734987],\n       [-0.762219  , -0.34486804,  1.88051739]])"
     },
     "execution_count": 720,
     "metadata": {},
     "output_type": "execute_result"
    }
   ],
   "source": [
    "data + data"
   ],
   "metadata": {
    "collapsed": false,
    "pycharm": {
     "name": "#%%\n"
    }
   }
  },
  {
   "cell_type": "code",
   "execution_count": 721,
   "metadata": {},
   "outputs": [
    {
     "data": {
      "text/plain": "(2, 3)"
     },
     "execution_count": 721,
     "metadata": {},
     "output_type": "execute_result"
    }
   ],
   "source": [
    "data.shape"
   ]
  },
  {
   "cell_type": "code",
   "execution_count": 722,
   "outputs": [
    {
     "data": {
      "text/plain": "dtype('float64')"
     },
     "execution_count": 722,
     "metadata": {},
     "output_type": "execute_result"
    }
   ],
   "source": [
    "data.dtype"
   ],
   "metadata": {
    "collapsed": false,
    "pycharm": {
     "name": "#%%\n"
    }
   }
  },
  {
   "cell_type": "markdown",
   "metadata": {},
   "source": [
    "### 生成 ndarrays"
   ]
  },
  {
   "cell_type": "code",
   "execution_count": 723,
   "metadata": {},
   "outputs": [
    {
     "data": {
      "text/plain": "array([6. , 7.5, 8. , 0. , 1. ])"
     },
     "execution_count": 723,
     "metadata": {},
     "output_type": "execute_result"
    }
   ],
   "source": [
    "#列表转换\n",
    "data1 = [6, 7.5, 8, 0, 1]\n",
    "arr1 = np.array(data1)\n",
    "arr1"
   ]
  },
  {
   "cell_type": "code",
   "execution_count": 724,
   "metadata": {},
   "outputs": [
    {
     "data": {
      "text/plain": "array([[1, 2, 3, 4],\n       [5, 6, 7, 8]])"
     },
     "execution_count": 724,
     "metadata": {},
     "output_type": "execute_result"
    }
   ],
   "source": [
    "#同等长度的列表将自动转换为多维数组\n",
    "data2 = [[1, 2, 3, 4], [5, 6, 7, 8]]\n",
    "arr2 = np.array(data2)\n",
    "arr2"
   ]
  },
  {
   "cell_type": "code",
   "execution_count": 725,
   "metadata": {},
   "outputs": [
    {
     "data": {
      "text/plain": "2"
     },
     "execution_count": 725,
     "metadata": {},
     "output_type": "execute_result"
    }
   ],
   "source": [
    "arr2.ndim"
   ]
  },
  {
   "cell_type": "code",
   "execution_count": 726,
   "outputs": [
    {
     "data": {
      "text/plain": "(2, 4)"
     },
     "execution_count": 726,
     "metadata": {},
     "output_type": "execute_result"
    }
   ],
   "source": [
    "arr2.shape"
   ],
   "metadata": {
    "collapsed": false,
    "pycharm": {
     "name": "#%%\n"
    }
   }
  },
  {
   "cell_type": "code",
   "execution_count": 727,
   "metadata": {},
   "outputs": [
    {
     "data": {
      "text/plain": "dtype('int64')"
     },
     "execution_count": 727,
     "metadata": {},
     "output_type": "execute_result"
    }
   ],
   "source": [
    "arr1.dtype\n",
    "arr2.dtype"
   ]
  },
  {
   "cell_type": "code",
   "execution_count": 728,
   "metadata": {},
   "outputs": [
    {
     "data": {
      "text/plain": "array([[[5., 5.],\n        [5., 5.],\n        [3., 3.]],\n\n       [[3., 3.],\n        [1., 1.],\n        [1., 1.]]])"
     },
     "execution_count": 728,
     "metadata": {},
     "output_type": "execute_result"
    }
   ],
   "source": [
    "#创造全0数组（zeros），创造全1数组（ones）；empty创造没有初始数值的数组\n",
    "np.zeros(10)\n",
    "np.zeros((3, 6))\n",
    "np.empty((2, 3, 2))"
   ]
  },
  {
   "cell_type": "code",
   "execution_count": 729,
   "metadata": {},
   "outputs": [
    {
     "data": {
      "text/plain": "array([ 0,  1,  2,  3,  4,  5,  6,  7,  8,  9, 10, 11, 12, 13, 14])"
     },
     "execution_count": 729,
     "metadata": {},
     "output_type": "execute_result"
    }
   ],
   "source": [
    "np.arange(15)"
   ]
  },
  {
   "cell_type": "markdown",
   "metadata": {},
   "source": [
    "### ndarrays的数据类型"
   ]
  },
  {
   "cell_type": "code",
   "execution_count": 730,
   "metadata": {},
   "outputs": [
    {
     "data": {
      "text/plain": "array([1., 2., 3.])"
     },
     "execution_count": 730,
     "metadata": {},
     "output_type": "execute_result"
    }
   ],
   "source": [
    "arr1 = np.array([1, 2, 3], dtype=np.float64)\n",
    "arr2 = np.array([1, 2, 3], dtype=np.int32)\n",
    "arr1"
   ]
  },
  {
   "cell_type": "code",
   "execution_count": 731,
   "outputs": [
    {
     "data": {
      "text/plain": "array([1, 2, 3], dtype=int32)"
     },
     "execution_count": 731,
     "metadata": {},
     "output_type": "execute_result"
    }
   ],
   "source": [
    "arr2"
   ],
   "metadata": {
    "collapsed": false,
    "pycharm": {
     "name": "#%%\n"
    }
   }
  },
  {
   "cell_type": "code",
   "execution_count": 732,
   "metadata": {},
   "outputs": [
    {
     "data": {
      "text/plain": "dtype('int64')"
     },
     "execution_count": 732,
     "metadata": {},
     "output_type": "execute_result"
    }
   ],
   "source": [
    "arr = np.array([1, 2, 3, 4, 5])\n",
    "arr.dtype"
   ]
  },
  {
   "cell_type": "code",
   "execution_count": 733,
   "outputs": [
    {
     "data": {
      "text/plain": "dtype('float64')"
     },
     "execution_count": 733,
     "metadata": {},
     "output_type": "execute_result"
    }
   ],
   "source": [
    "#使用astype可以显示的转换数组的数据类型\n",
    "float_arr = arr.astype(np.float64)\n",
    "float_arr.dtype"
   ],
   "metadata": {
    "collapsed": false,
    "pycharm": {
     "name": "#%%\n"
    }
   }
  },
  {
   "cell_type": "code",
   "execution_count": 734,
   "metadata": {},
   "outputs": [
    {
     "data": {
      "text/plain": "array([ 3.7, -1.2, -2.6,  0.5, 12.9, 10.1])"
     },
     "execution_count": 734,
     "metadata": {},
     "output_type": "execute_result"
    }
   ],
   "source": [
    "arr = np.array([3.7, -1.2, -2.6, 0.5, 12.9, 10.1])\n",
    "arr"
   ]
  },
  {
   "cell_type": "code",
   "execution_count": 735,
   "outputs": [
    {
     "data": {
      "text/plain": "array([ 3, -1, -2,  0, 12, 10], dtype=int32)"
     },
     "execution_count": 735,
     "metadata": {},
     "output_type": "execute_result"
    }
   ],
   "source": [
    "#浮点型转换为整数\n",
    "arr.astype(np.int32)"
   ],
   "metadata": {
    "collapsed": false,
    "pycharm": {
     "name": "#%%\n"
    }
   }
  },
  {
   "cell_type": "code",
   "execution_count": 736,
   "metadata": {},
   "outputs": [
    {
     "data": {
      "text/plain": "array([ 1.25, -9.6 , 42.  ])"
     },
     "execution_count": 736,
     "metadata": {},
     "output_type": "execute_result"
    }
   ],
   "source": [
    "numeric_strings = np.array(['1.25', '-9.6', '42'], dtype=np.string_)\n",
    "numeric_strings.astype(float)"
   ]
  },
  {
   "cell_type": "markdown",
   "metadata": {},
   "source": [
    "### NumPy 数组算法"
   ]
  },
  {
   "cell_type": "code",
   "execution_count": 737,
   "metadata": {},
   "outputs": [
    {
     "data": {
      "text/plain": "array([[1., 2., 3.],\n       [4., 5., 6.]])"
     },
     "execution_count": 737,
     "metadata": {},
     "output_type": "execute_result"
    }
   ],
   "source": [
    "arr = np.array([[1., 2., 3.], [4., 5., 6.]])\n",
    "arr"
   ]
  },
  {
   "cell_type": "code",
   "execution_count": 738,
   "outputs": [
    {
     "data": {
      "text/plain": "array([[ 1.,  4.,  9.],\n       [16., 25., 36.]])"
     },
     "execution_count": 738,
     "metadata": {},
     "output_type": "execute_result"
    }
   ],
   "source": [
    "arr * arr"
   ],
   "metadata": {
    "collapsed": false,
    "pycharm": {
     "name": "#%%\n"
    }
   }
  },
  {
   "cell_type": "code",
   "execution_count": 739,
   "outputs": [
    {
     "data": {
      "text/plain": "array([[0., 0., 0.],\n       [0., 0., 0.]])"
     },
     "execution_count": 739,
     "metadata": {},
     "output_type": "execute_result"
    }
   ],
   "source": [
    "arr - arr"
   ],
   "metadata": {
    "collapsed": false,
    "pycharm": {
     "name": "#%%\n"
    }
   }
  },
  {
   "cell_type": "code",
   "execution_count": 740,
   "metadata": {},
   "outputs": [
    {
     "data": {
      "text/plain": "array([[1.        , 1.41421356, 1.73205081],\n       [2.        , 2.23606798, 2.44948974]])"
     },
     "execution_count": 740,
     "metadata": {},
     "output_type": "execute_result"
    }
   ],
   "source": [
    "1 / arr\n",
    "arr ** 0.5"
   ]
  },
  {
   "cell_type": "code",
   "execution_count": 741,
   "metadata": {},
   "outputs": [
    {
     "data": {
      "text/plain": "array([[ 0.,  4.,  1.],\n       [ 7.,  2., 12.]])"
     },
     "execution_count": 741,
     "metadata": {},
     "output_type": "execute_result"
    }
   ],
   "source": [
    "arr2 = np.array([[0., 4., 1.], [7., 2., 12.]])\n",
    "arr2"
   ]
  },
  {
   "cell_type": "code",
   "execution_count": 742,
   "outputs": [
    {
     "data": {
      "text/plain": "array([[False,  True, False],\n       [ True, False,  True]])"
     },
     "execution_count": 742,
     "metadata": {},
     "output_type": "execute_result"
    }
   ],
   "source": [
    "arr2 > arr"
   ],
   "metadata": {
    "collapsed": false,
    "pycharm": {
     "name": "#%%\n"
    }
   }
  },
  {
   "cell_type": "markdown",
   "metadata": {},
   "source": [
    "### 基础索引与切片"
   ]
  },
  {
   "cell_type": "code",
   "execution_count": 743,
   "metadata": {},
   "outputs": [
    {
     "data": {
      "text/plain": "array([0, 1, 2, 3, 4, 5, 6, 7, 8, 9])"
     },
     "execution_count": 743,
     "metadata": {},
     "output_type": "execute_result"
    }
   ],
   "source": [
    "arr = np.arange(10)\n",
    "arr"
   ]
  },
  {
   "cell_type": "code",
   "execution_count": 744,
   "outputs": [
    {
     "data": {
      "text/plain": "5"
     },
     "execution_count": 744,
     "metadata": {},
     "output_type": "execute_result"
    }
   ],
   "source": [
    "arr[5]"
   ],
   "metadata": {
    "collapsed": false,
    "pycharm": {
     "name": "#%%\n"
    }
   }
  },
  {
   "cell_type": "code",
   "execution_count": 745,
   "outputs": [
    {
     "data": {
      "text/plain": "array([5, 6, 7])"
     },
     "execution_count": 745,
     "metadata": {},
     "output_type": "execute_result"
    }
   ],
   "source": [
    "arr[5:8]"
   ],
   "metadata": {
    "collapsed": false,
    "pycharm": {
     "name": "#%%\n"
    }
   }
  },
  {
   "cell_type": "code",
   "execution_count": 746,
   "outputs": [],
   "source": [
    "arr[5:8] = 12"
   ],
   "metadata": {
    "collapsed": false,
    "pycharm": {
     "name": "#%%\n"
    }
   }
  },
  {
   "cell_type": "code",
   "execution_count": 747,
   "outputs": [
    {
     "data": {
      "text/plain": "array([ 0,  1,  2,  3,  4, 12, 12, 12,  8,  9])"
     },
     "execution_count": 747,
     "metadata": {},
     "output_type": "execute_result"
    }
   ],
   "source": [
    "arr"
   ],
   "metadata": {
    "collapsed": false,
    "pycharm": {
     "name": "#%%\n"
    }
   }
  },
  {
   "cell_type": "code",
   "execution_count": 748,
   "metadata": {},
   "outputs": [
    {
     "data": {
      "text/plain": "array([12, 12, 12])"
     },
     "execution_count": 748,
     "metadata": {},
     "output_type": "execute_result"
    }
   ],
   "source": [
    "arr_slice = arr[5:8]\n",
    "arr_slice"
   ]
  },
  {
   "cell_type": "code",
   "execution_count": 749,
   "metadata": {},
   "outputs": [
    {
     "data": {
      "text/plain": "array([    0,     1,     2,     3,     4,    12, 12345,    12,     8,\n           9])"
     },
     "execution_count": 749,
     "metadata": {},
     "output_type": "execute_result"
    }
   ],
   "source": [
    "arr_slice[1] = 12345\n",
    "arr\n",
    "#原数组修改，而非复制"
   ]
  },
  {
   "cell_type": "code",
   "execution_count": 750,
   "metadata": {},
   "outputs": [
    {
     "data": {
      "text/plain": "array([ 0,  1,  2,  3,  4, 64, 64, 64,  8,  9])"
     },
     "execution_count": 750,
     "metadata": {},
     "output_type": "execute_result"
    }
   ],
   "source": [
    "arr_slice[:] = 64\n",
    "arr"
   ]
  },
  {
   "cell_type": "code",
   "execution_count": 751,
   "metadata": {},
   "outputs": [
    {
     "data": {
      "text/plain": "array([7, 8, 9])"
     },
     "execution_count": 751,
     "metadata": {},
     "output_type": "execute_result"
    }
   ],
   "source": [
    "arr2d = np.array([[1, 2, 3], [4, 5, 6], [7, 8, 9]])\n",
    "arr2d[2]"
   ]
  },
  {
   "cell_type": "code",
   "execution_count": 752,
   "metadata": {},
   "outputs": [
    {
     "data": {
      "text/plain": "3"
     },
     "execution_count": 752,
     "metadata": {},
     "output_type": "execute_result"
    }
   ],
   "source": [
    "arr2d[0][2]\n",
    "arr2d[0, 2]"
   ]
  },
  {
   "cell_type": "code",
   "execution_count": 753,
   "metadata": {},
   "outputs": [
    {
     "data": {
      "text/plain": "array([[[ 1,  2,  3],\n        [ 4,  5,  6]],\n\n       [[ 7,  8,  9],\n        [10, 11, 12]]])"
     },
     "execution_count": 753,
     "metadata": {},
     "output_type": "execute_result"
    }
   ],
   "source": [
    "arr3d = np.array([[[1, 2, 3], [4, 5, 6]], [[7, 8, 9], [10, 11, 12]]])\n",
    "arr3d"
   ]
  },
  {
   "cell_type": "code",
   "execution_count": 754,
   "metadata": {},
   "outputs": [
    {
     "data": {
      "text/plain": "array([[1, 2, 3],\n       [4, 5, 6]])"
     },
     "execution_count": 754,
     "metadata": {},
     "output_type": "execute_result"
    }
   ],
   "source": [
    "arr3d[0]"
   ]
  },
  {
   "cell_type": "code",
   "execution_count": 755,
   "metadata": {},
   "outputs": [
    {
     "data": {
      "text/plain": "array([[[42, 42, 42],\n        [42, 42, 42]],\n\n       [[ 7,  8,  9],\n        [10, 11, 12]]])"
     },
     "execution_count": 755,
     "metadata": {},
     "output_type": "execute_result"
    }
   ],
   "source": [
    "old_values = arr3d[0].copy()\n",
    "arr3d[0] = 42\n",
    "arr3d"
   ]
  },
  {
   "cell_type": "code",
   "execution_count": 756,
   "outputs": [
    {
     "data": {
      "text/plain": "array([[[ 1,  2,  3],\n        [ 4,  5,  6]],\n\n       [[ 7,  8,  9],\n        [10, 11, 12]]])"
     },
     "execution_count": 756,
     "metadata": {},
     "output_type": "execute_result"
    }
   ],
   "source": [
    "arr3d[0] = old_values\n",
    "arr3d"
   ],
   "metadata": {
    "collapsed": false,
    "pycharm": {
     "name": "#%%\n"
    }
   }
  },
  {
   "cell_type": "code",
   "execution_count": 757,
   "metadata": {},
   "outputs": [
    {
     "data": {
      "text/plain": "array([7, 8, 9])"
     },
     "execution_count": 757,
     "metadata": {},
     "output_type": "execute_result"
    }
   ],
   "source": [
    "arr3d[1, 0]"
   ]
  },
  {
   "cell_type": "code",
   "execution_count": 758,
   "metadata": {},
   "outputs": [
    {
     "data": {
      "text/plain": "array([7, 8, 9])"
     },
     "execution_count": 758,
     "metadata": {},
     "output_type": "execute_result"
    }
   ],
   "source": [
    "x = arr3d[1]\n",
    "x\n",
    "x[0]"
   ]
  },
  {
   "cell_type": "markdown",
   "metadata": {},
   "source": [
    "#### 数组的切片索引"
   ]
  },
  {
   "cell_type": "code",
   "execution_count": 759,
   "metadata": {},
   "outputs": [
    {
     "data": {
      "text/plain": "array([ 1,  2,  3,  4, 64])"
     },
     "execution_count": 759,
     "metadata": {},
     "output_type": "execute_result"
    }
   ],
   "source": [
    "arr\n",
    "arr[1:6]"
   ]
  },
  {
   "cell_type": "code",
   "execution_count": 760,
   "metadata": {},
   "outputs": [
    {
     "data": {
      "text/plain": "array([[1, 2, 3],\n       [4, 5, 6]])"
     },
     "execution_count": 760,
     "metadata": {},
     "output_type": "execute_result"
    }
   ],
   "source": [
    "arr2d\n",
    "arr2d[:2]"
   ]
  },
  {
   "cell_type": "code",
   "execution_count": 761,
   "metadata": {},
   "outputs": [
    {
     "data": {
      "text/plain": "array([[2, 3],\n       [5, 6]])"
     },
     "execution_count": 761,
     "metadata": {},
     "output_type": "execute_result"
    }
   ],
   "source": [
    "arr2d[:2, 1:]"
   ]
  },
  {
   "cell_type": "code",
   "execution_count": 762,
   "metadata": {},
   "outputs": [
    {
     "data": {
      "text/plain": "array([4, 5])"
     },
     "execution_count": 762,
     "metadata": {},
     "output_type": "execute_result"
    }
   ],
   "source": [
    "arr2d[1, :2]"
   ]
  },
  {
   "cell_type": "code",
   "execution_count": 763,
   "metadata": {},
   "outputs": [
    {
     "data": {
      "text/plain": "array([3, 6])"
     },
     "execution_count": 763,
     "metadata": {},
     "output_type": "execute_result"
    }
   ],
   "source": [
    "arr2d[:2, 2]"
   ]
  },
  {
   "cell_type": "code",
   "execution_count": 764,
   "metadata": {},
   "outputs": [
    {
     "data": {
      "text/plain": "array([[1],\n       [4],\n       [7]])"
     },
     "execution_count": 764,
     "metadata": {},
     "output_type": "execute_result"
    }
   ],
   "source": [
    "arr2d[:, :1]"
   ]
  },
  {
   "cell_type": "code",
   "execution_count": 765,
   "metadata": {},
   "outputs": [
    {
     "data": {
      "text/plain": "array([[1, 0, 0],\n       [4, 0, 0],\n       [7, 8, 9]])"
     },
     "execution_count": 765,
     "metadata": {},
     "output_type": "execute_result"
    }
   ],
   "source": [
    "arr2d[:2, 1:] = 0\n",
    "arr2d"
   ]
  },
  {
   "cell_type": "markdown",
   "metadata": {},
   "source": [
    "### 布尔索引（自学）"
   ]
  },
  {
   "cell_type": "code",
   "execution_count": 766,
   "metadata": {},
   "outputs": [
    {
     "data": {
      "text/plain": "array([[-5.14912188e-01, -1.27939221e-04,  5.87858778e-01,\n        -2.03151322e-02],\n       [-4.54061817e-02, -1.81838388e+00, -1.29144117e+00,\n         8.79993557e-01],\n       [-2.83380752e-01,  8.86099086e-01,  1.86637431e+00,\n        -4.78857956e-02],\n       [-1.29464072e+00, -1.82084631e+00, -1.45677331e-01,\n         8.83926709e-01],\n       [-4.45935817e-01,  1.53402323e+00,  2.13615310e-01,\n         7.22104478e-01],\n       [-1.23241027e+00, -1.28418964e+00, -9.74880008e-01,\n        -9.96634610e-01],\n       [ 1.42471150e+00,  1.10317219e+00,  1.95236275e+00,\n        -5.99111269e-01]])"
     },
     "execution_count": 766,
     "metadata": {},
     "output_type": "execute_result"
    }
   ],
   "source": [
    "names = np.array(['Bob', 'Joe', 'Will', 'Bob', 'Will', 'Joe', 'Joe'])\n",
    "data = np.random.randn(7, 4)\n",
    "names\n",
    "data"
   ]
  },
  {
   "cell_type": "code",
   "execution_count": 767,
   "metadata": {},
   "outputs": [
    {
     "data": {
      "text/plain": "array([ True, False, False,  True, False, False, False])"
     },
     "execution_count": 767,
     "metadata": {},
     "output_type": "execute_result"
    }
   ],
   "source": [
    "names == 'Bob'"
   ]
  },
  {
   "cell_type": "code",
   "execution_count": 768,
   "metadata": {},
   "outputs": [
    {
     "data": {
      "text/plain": "array([[-5.14912188e-01, -1.27939221e-04,  5.87858778e-01,\n        -2.03151322e-02],\n       [-1.29464072e+00, -1.82084631e+00, -1.45677331e-01,\n         8.83926709e-01]])"
     },
     "execution_count": 768,
     "metadata": {},
     "output_type": "execute_result"
    }
   ],
   "source": [
    "data[names == 'Bob']"
   ]
  },
  {
   "cell_type": "code",
   "execution_count": 769,
   "metadata": {},
   "outputs": [
    {
     "data": {
      "text/plain": "array([[ 0.58785878, -0.02031513],\n       [-0.14567733,  0.88392671]])"
     },
     "execution_count": 769,
     "metadata": {},
     "output_type": "execute_result"
    }
   ],
   "source": [
    "data[names == 'Bob', 2:]"
   ]
  },
  {
   "cell_type": "code",
   "execution_count": 770,
   "outputs": [
    {
     "data": {
      "text/plain": "array([-0.02031513,  0.88392671])"
     },
     "execution_count": 770,
     "metadata": {},
     "output_type": "execute_result"
    }
   ],
   "source": [
    "data[names == 'Bob', 3]"
   ],
   "metadata": {
    "collapsed": false,
    "pycharm": {
     "name": "#%%\n"
    }
   }
  },
  {
   "cell_type": "code",
   "execution_count": 771,
   "metadata": {},
   "outputs": [
    {
     "data": {
      "text/plain": "array([[-0.04540618, -1.81838388, -1.29144117,  0.87999356],\n       [-0.28338075,  0.88609909,  1.86637431, -0.0478858 ],\n       [-0.44593582,  1.53402323,  0.21361531,  0.72210448],\n       [-1.23241027, -1.28418964, -0.97488001, -0.99663461],\n       [ 1.4247115 ,  1.10317219,  1.95236275, -0.59911127]])"
     },
     "execution_count": 771,
     "metadata": {},
     "output_type": "execute_result"
    }
   ],
   "source": [
    "names != 'Bob'\n",
    "data[~(names == 'Bob')]"
   ]
  },
  {
   "cell_type": "code",
   "execution_count": 772,
   "metadata": {},
   "outputs": [
    {
     "data": {
      "text/plain": "array([[-0.04540618, -1.81838388, -1.29144117,  0.87999356],\n       [-0.28338075,  0.88609909,  1.86637431, -0.0478858 ],\n       [-0.44593582,  1.53402323,  0.21361531,  0.72210448],\n       [-1.23241027, -1.28418964, -0.97488001, -0.99663461],\n       [ 1.4247115 ,  1.10317219,  1.95236275, -0.59911127]])"
     },
     "execution_count": 772,
     "metadata": {},
     "output_type": "execute_result"
    }
   ],
   "source": [
    "cond = names == 'Bob'\n",
    "data[~cond]"
   ]
  },
  {
   "cell_type": "code",
   "execution_count": 773,
   "metadata": {},
   "outputs": [
    {
     "data": {
      "text/plain": "array([[-5.14912188e-01, -1.27939221e-04,  5.87858778e-01,\n        -2.03151322e-02],\n       [-2.83380752e-01,  8.86099086e-01,  1.86637431e+00,\n        -4.78857956e-02],\n       [-1.29464072e+00, -1.82084631e+00, -1.45677331e-01,\n         8.83926709e-01],\n       [-4.45935817e-01,  1.53402323e+00,  2.13615310e-01,\n         7.22104478e-01]])"
     },
     "execution_count": 773,
     "metadata": {},
     "output_type": "execute_result"
    }
   ],
   "source": [
    "mask = (names == 'Bob') | (names == 'Will')\n",
    "mask\n",
    "data[mask]"
   ]
  },
  {
   "cell_type": "code",
   "execution_count": 774,
   "metadata": {},
   "outputs": [
    {
     "data": {
      "text/plain": "array([[0.        , 0.        , 0.58785878, 0.        ],\n       [0.        , 0.        , 0.        , 0.87999356],\n       [0.        , 0.88609909, 1.86637431, 0.        ],\n       [0.        , 0.        , 0.        , 0.88392671],\n       [0.        , 1.53402323, 0.21361531, 0.72210448],\n       [0.        , 0.        , 0.        , 0.        ],\n       [1.4247115 , 1.10317219, 1.95236275, 0.        ]])"
     },
     "execution_count": 774,
     "metadata": {},
     "output_type": "execute_result"
    }
   ],
   "source": [
    "data[data < 0] = 0\n",
    "data"
   ]
  },
  {
   "cell_type": "code",
   "execution_count": 775,
   "metadata": {},
   "outputs": [
    {
     "data": {
      "text/plain": "array([[7.        , 7.        , 7.        , 7.        ],\n       [0.        , 0.        , 0.        , 0.87999356],\n       [7.        , 7.        , 7.        , 7.        ],\n       [7.        , 7.        , 7.        , 7.        ],\n       [7.        , 7.        , 7.        , 7.        ],\n       [0.        , 0.        , 0.        , 0.        ],\n       [1.4247115 , 1.10317219, 1.95236275, 0.        ]])"
     },
     "execution_count": 775,
     "metadata": {},
     "output_type": "execute_result"
    }
   ],
   "source": [
    "data[names != 'Joe'] = 7\n",
    "data"
   ]
  },
  {
   "cell_type": "markdown",
   "metadata": {},
   "source": [
    "### 神奇索引"
   ]
  },
  {
   "cell_type": "code",
   "execution_count": 776,
   "metadata": {},
   "outputs": [
    {
     "data": {
      "text/plain": "array([[0., 0., 0., 0.],\n       [1., 1., 1., 1.],\n       [2., 2., 2., 2.],\n       [3., 3., 3., 3.],\n       [4., 4., 4., 4.],\n       [5., 5., 5., 5.],\n       [6., 6., 6., 6.],\n       [7., 7., 7., 7.]])"
     },
     "execution_count": 776,
     "metadata": {},
     "output_type": "execute_result"
    }
   ],
   "source": [
    "arr = np.empty((8, 4))\n",
    "for i in range(8):\n",
    "    arr[i] = i\n",
    "arr"
   ]
  },
  {
   "cell_type": "code",
   "execution_count": 777,
   "metadata": {},
   "outputs": [
    {
     "data": {
      "text/plain": "array([[4., 4., 4., 4.],\n       [3., 3., 3., 3.],\n       [0., 0., 0., 0.],\n       [6., 6., 6., 6.]])"
     },
     "execution_count": 777,
     "metadata": {},
     "output_type": "execute_result"
    }
   ],
   "source": [
    "arr[[4, 3, 0, 6]]"
   ]
  },
  {
   "cell_type": "code",
   "execution_count": 778,
   "metadata": {},
   "outputs": [
    {
     "data": {
      "text/plain": "array([[5., 5., 5., 5.],\n       [3., 3., 3., 3.],\n       [1., 1., 1., 1.]])"
     },
     "execution_count": 778,
     "metadata": {},
     "output_type": "execute_result"
    }
   ],
   "source": [
    "arr[[-3, -5, -7]]"
   ]
  },
  {
   "cell_type": "code",
   "execution_count": 779,
   "metadata": {},
   "outputs": [
    {
     "data": {
      "text/plain": "array([[ 0,  1,  2,  3],\n       [ 4,  5,  6,  7],\n       [ 8,  9, 10, 11],\n       [12, 13, 14, 15],\n       [16, 17, 18, 19],\n       [20, 21, 22, 23],\n       [24, 25, 26, 27],\n       [28, 29, 30, 31]])"
     },
     "execution_count": 779,
     "metadata": {},
     "output_type": "execute_result"
    }
   ],
   "source": [
    "arr = np.arange(32).reshape((8, 4))\n",
    "arr"
   ]
  },
  {
   "cell_type": "code",
   "execution_count": 780,
   "outputs": [
    {
     "data": {
      "text/plain": "array([ 4, 23, 29, 10])"
     },
     "execution_count": 780,
     "metadata": {},
     "output_type": "execute_result"
    }
   ],
   "source": [
    "arr[[1, 5, 7, 2], [0, 3, 1, 2]]"
   ],
   "metadata": {
    "collapsed": false,
    "pycharm": {
     "name": "#%%\n"
    }
   }
  },
  {
   "cell_type": "code",
   "execution_count": 781,
   "metadata": {},
   "outputs": [
    {
     "data": {
      "text/plain": "array([[ 4,  7,  5,  6],\n       [20, 23, 21, 22],\n       [28, 31, 29, 30],\n       [ 8, 11,  9, 10]])"
     },
     "execution_count": 781,
     "metadata": {},
     "output_type": "execute_result"
    }
   ],
   "source": [
    "arr[[1, 5, 7, 2]][:, [0, 3, 1, 2]]"
   ]
  },
  {
   "cell_type": "markdown",
   "metadata": {},
   "source": [
    "### 数组转置和换轴"
   ]
  },
  {
   "cell_type": "code",
   "execution_count": 782,
   "metadata": {},
   "outputs": [
    {
     "data": {
      "text/plain": "array([[ 0,  1,  2,  3,  4],\n       [ 5,  6,  7,  8,  9],\n       [10, 11, 12, 13, 14]])"
     },
     "execution_count": 782,
     "metadata": {},
     "output_type": "execute_result"
    }
   ],
   "source": [
    "arr = np.arange(15).reshape((3, 5))\n",
    "arr"
   ]
  },
  {
   "cell_type": "code",
   "execution_count": 783,
   "outputs": [
    {
     "data": {
      "text/plain": "array([[ 0,  5, 10],\n       [ 1,  6, 11],\n       [ 2,  7, 12],\n       [ 3,  8, 13],\n       [ 4,  9, 14]])"
     },
     "execution_count": 783,
     "metadata": {},
     "output_type": "execute_result"
    }
   ],
   "source": [
    "arr.T"
   ],
   "metadata": {
    "collapsed": false,
    "pycharm": {
     "name": "#%%\n"
    }
   }
  },
  {
   "cell_type": "code",
   "execution_count": 784,
   "metadata": {},
   "outputs": [
    {
     "data": {
      "text/plain": "array([[ 0.60774386, -0.50569599,  0.01843267],\n       [ 1.17749583,  0.01066034,  0.01901771],\n       [-0.03294851,  0.36592899,  0.83050809],\n       [-0.60197802, -0.52470746,  0.3488909 ],\n       [-1.50058185, -0.8061572 , -0.12509611],\n       [-1.30085978,  2.45418123, -0.52598743]])"
     },
     "execution_count": 784,
     "metadata": {},
     "output_type": "execute_result"
    }
   ],
   "source": [
    "arr = np.random.randn(6, 3)\n",
    "arr"
   ]
  },
  {
   "cell_type": "code",
   "execution_count": 785,
   "outputs": [
    {
     "data": {
      "text/plain": "array([[ 6.06329421, -1.97381639,  0.66815981],\n       [-1.97381639,  7.33795898, -1.07829861],\n       [ 0.66815981, -1.07829861,  1.1044818 ]])"
     },
     "execution_count": 785,
     "metadata": {},
     "output_type": "execute_result"
    }
   ],
   "source": [
    "np.dot(arr.T, arr)"
   ],
   "metadata": {
    "collapsed": false,
    "pycharm": {
     "name": "#%%\n"
    }
   }
  },
  {
   "cell_type": "markdown",
   "metadata": {},
   "source": [
    "## 通用函数：快速的逐元素数组函数"
   ]
  },
  {
   "cell_type": "code",
   "execution_count": 786,
   "metadata": {},
   "outputs": [
    {
     "data": {
      "text/plain": "array([0, 1, 2, 3, 4, 5, 6, 7, 8, 9])"
     },
     "execution_count": 786,
     "metadata": {},
     "output_type": "execute_result"
    }
   ],
   "source": [
    "# 通用函数（即ufunc）是一种对ndarray中的数据执行元素级运算的函数。\n",
    "# 可以将其看做简单函数（接受一个或多个标量值，并产生一个或多个标量值）的矢量化包装器\n",
    "arr = np.arange(10)\n",
    "arr"
   ]
  },
  {
   "cell_type": "code",
   "execution_count": 787,
   "outputs": [
    {
     "data": {
      "text/plain": "array([0.        , 1.        , 1.41421356, 1.73205081, 2.        ,\n       2.23606798, 2.44948974, 2.64575131, 2.82842712, 3.        ])"
     },
     "execution_count": 787,
     "metadata": {},
     "output_type": "execute_result"
    }
   ],
   "source": [
    "np.sqrt(arr)"
   ],
   "metadata": {
    "collapsed": false,
    "pycharm": {
     "name": "#%%\n"
    }
   }
  },
  {
   "cell_type": "code",
   "execution_count": 788,
   "outputs": [
    {
     "data": {
      "text/plain": "array([1.00000000e+00, 2.71828183e+00, 7.38905610e+00, 2.00855369e+01,\n       5.45981500e+01, 1.48413159e+02, 4.03428793e+02, 1.09663316e+03,\n       2.98095799e+03, 8.10308393e+03])"
     },
     "execution_count": 788,
     "metadata": {},
     "output_type": "execute_result"
    }
   ],
   "source": [
    "np.exp(arr)"
   ],
   "metadata": {
    "collapsed": false,
    "pycharm": {
     "name": "#%%\n"
    }
   }
  },
  {
   "cell_type": "code",
   "execution_count": 852,
   "metadata": {},
   "outputs": [
    {
     "data": {
      "text/plain": "array([-1.3070351 ,  0.49950592,  1.07931588,  1.15248237, -1.03045417,\n       -0.21680052,  0.61721509,  0.77885398])"
     },
     "execution_count": 852,
     "metadata": {},
     "output_type": "execute_result"
    }
   ],
   "source": [
    "x = np.random.randn(8)\n",
    "y = np.random.randn(8)\n",
    "x"
   ]
  },
  {
   "cell_type": "code",
   "execution_count": 853,
   "outputs": [
    {
     "data": {
      "text/plain": "array([ 0.85056266,  0.23904233,  0.87902896, -1.37044528, -0.54399218,\n       -0.79087052,  0.20413975, -0.53660372])"
     },
     "execution_count": 853,
     "metadata": {},
     "output_type": "execute_result"
    }
   ],
   "source": [
    "y"
   ],
   "metadata": {
    "collapsed": false,
    "pycharm": {
     "name": "#%%\n"
    }
   }
  },
  {
   "cell_type": "code",
   "execution_count": 854,
   "outputs": [
    {
     "data": {
      "text/plain": "array([ 0.85056266,  0.49950592,  1.07931588,  1.15248237, -0.54399218,\n       -0.21680052,  0.61721509,  0.77885398])"
     },
     "execution_count": 854,
     "metadata": {},
     "output_type": "execute_result"
    }
   ],
   "source": [
    "np.maximum(x, y)"
   ],
   "metadata": {
    "collapsed": false,
    "pycharm": {
     "name": "#%%\n"
    }
   }
  },
  {
   "cell_type": "code",
   "execution_count": 855,
   "metadata": {},
   "outputs": [
    {
     "data": {
      "text/plain": "array([ 0.26202205,  0.57897109,  0.01767656,  0.92848342, -0.75546682,\n       -0.86241528, -0.19960906])"
     },
     "execution_count": 855,
     "metadata": {},
     "output_type": "execute_result"
    }
   ],
   "source": [
    "# 有些ufunc的确可以返回多个数组。\n",
    "# modf会返回浮点数数组的小数和整数部分\n",
    "arr = np.random.randn(7) * 5\n",
    "arr\n",
    "remainder, whole_part = np.modf(arr)\n",
    "remainder"
   ]
  },
  {
   "cell_type": "code",
   "execution_count": 856,
   "outputs": [
    {
     "data": {
      "text/plain": "array([ 4.,  5.,  4.,  9., -3., -3., -0.])"
     },
     "execution_count": 856,
     "metadata": {},
     "output_type": "execute_result"
    }
   ],
   "source": [
    "whole_part"
   ],
   "metadata": {
    "collapsed": false,
    "pycharm": {
     "name": "#%%\n"
    }
   }
  },
  {
   "cell_type": "markdown",
   "metadata": {},
   "source": [
    "## 使用数组进行面向数组编程"
   ]
  },
  {
   "cell_type": "code",
   "execution_count": 792,
   "metadata": {},
   "outputs": [
    {
     "data": {
      "text/plain": "array([[-5.  , -4.99, -4.98, ...,  4.97,  4.98,  4.99],\n       [-5.  , -4.99, -4.98, ...,  4.97,  4.98,  4.99],\n       [-5.  , -4.99, -4.98, ...,  4.97,  4.98,  4.99],\n       ...,\n       [-5.  , -4.99, -4.98, ...,  4.97,  4.98,  4.99],\n       [-5.  , -4.99, -4.98, ...,  4.97,  4.98,  4.99],\n       [-5.  , -4.99, -4.98, ...,  4.97,  4.98,  4.99]])"
     },
     "execution_count": 792,
     "metadata": {},
     "output_type": "execute_result"
    }
   ],
   "source": [
    "# NumPy数组使你可以将许多种数据处理任务表述为简洁的数组表达式（否则需要编写循环）\n",
    "# 用数组表达式代替循环的做法，通常被称为矢量化（或向量化）\n",
    "points = np.arange(-5, 5, 0.01) # 1000 equally spaced points\n",
    "# np.meshgrid接收两个一维数组，根据两个数组所有（x, y）对生成一个二维矩阵\n",
    "xs, ys = np.meshgrid(points, points)\n",
    "xs"
   ]
  },
  {
   "cell_type": "code",
   "execution_count": 793,
   "outputs": [
    {
     "data": {
      "text/plain": "array([[-5.  , -5.  , -5.  , ..., -5.  , -5.  , -5.  ],\n       [-4.99, -4.99, -4.99, ..., -4.99, -4.99, -4.99],\n       [-4.98, -4.98, -4.98, ..., -4.98, -4.98, -4.98],\n       ...,\n       [ 4.97,  4.97,  4.97, ...,  4.97,  4.97,  4.97],\n       [ 4.98,  4.98,  4.98, ...,  4.98,  4.98,  4.98],\n       [ 4.99,  4.99,  4.99, ...,  4.99,  4.99,  4.99]])"
     },
     "execution_count": 793,
     "metadata": {},
     "output_type": "execute_result"
    }
   ],
   "source": [
    "ys"
   ],
   "metadata": {
    "collapsed": false,
    "pycharm": {
     "name": "#%%\n"
    }
   }
  },
  {
   "cell_type": "code",
   "execution_count": 794,
   "metadata": {},
   "outputs": [
    {
     "data": {
      "text/plain": "array([[7.07106781, 7.06400028, 7.05693985, ..., 7.04988652, 7.05693985,\n        7.06400028],\n       [7.06400028, 7.05692568, 7.04985815, ..., 7.04279774, 7.04985815,\n        7.05692568],\n       [7.05693985, 7.04985815, 7.04278354, ..., 7.03571603, 7.04278354,\n        7.04985815],\n       ...,\n       [7.04988652, 7.04279774, 7.03571603, ..., 7.0286414 , 7.03571603,\n        7.04279774],\n       [7.05693985, 7.04985815, 7.04278354, ..., 7.03571603, 7.04278354,\n        7.04985815],\n       [7.06400028, 7.05692568, 7.04985815, ..., 7.04279774, 7.04985815,\n        7.05692568]])"
     },
     "execution_count": 794,
     "metadata": {},
     "output_type": "execute_result"
    }
   ],
   "source": [
    "z = np.sqrt(xs ** 2 + ys ** 2)\n",
    "z"
   ]
  },
  {
   "cell_type": "code",
   "execution_count": 863,
   "metadata": {},
   "outputs": [
    {
     "data": {
      "text/plain": "Text(0.5, 1.0, 'Image plot of $\\\\sqrt{x^2 + y^2}$ for a grid of values')"
     },
     "execution_count": 863,
     "metadata": {},
     "output_type": "execute_result"
    },
    {
     "data": {
      "text/plain": "<Figure size 432x288 with 2 Axes>",
      "image/png": "[encoded data removed]"
     },
     "metadata": {
      "needs_background": "light"
     },
     "output_type": "display_data"
    }
   ],
   "source": [
    "import matplotlib.pyplot as plt\n",
    "# 用指定的灰度范围 [low high]显示灰度图像I。\n",
    "# 显示结果，图像中灰度值等于或低于low的都将用黑色显示，\n",
    "# 而灰度值大于等于high的都显示为白色，\n",
    "# 介于low和high之间的用其灰度级的默认值的中间色调显示\n",
    "plt.imshow(z, cmap=plt.cm.gray)\n",
    "plt.colorbar()\n",
    "plt.title(\"Image plot of $\\sqrt{x^2 + y^2}$ for a grid of values\")"
   ]
  },
  {
   "cell_type": "code",
   "execution_count": 865,
   "metadata": {},
   "outputs": [
    {
     "data": {
      "text/plain": "<Figure size 432x288 with 0 Axes>"
     },
     "metadata": {},
     "output_type": "display_data"
    }
   ],
   "source": [
    "plt.draw()"
   ]
  },
  {
   "cell_type": "code",
   "execution_count": 867,
   "metadata": {},
   "outputs": [],
   "source": [
    "plt.close('all')"
   ]
  },
  {
   "cell_type": "markdown",
   "metadata": {},
   "source": [
    "### 将条件逻辑作为数组操作"
   ]
  },
  {
   "cell_type": "code",
   "execution_count": 798,
   "metadata": {},
   "outputs": [],
   "source": [
    "xarr = np.array([1.1, 1.2, 1.3, 1.4, 1.5])\n",
    "yarr = np.array([2.1, 2.2, 2.3, 2.4, 2.5])\n",
    "cond = np.array([True, False, True, True, False])"
   ]
  },
  {
   "cell_type": "code",
   "execution_count": 868,
   "metadata": {},
   "outputs": [
    {
     "data": {
      "text/plain": "[1.1, 2.2, 1.3, 1.4, 2.5]"
     },
     "execution_count": 868,
     "metadata": {},
     "output_type": "execute_result"
    }
   ],
   "source": [
    "# 想要根据cond中的值选取xarr和yarr的值：\n",
    "# 当cond中的值为True时，选取xarr的值，否则从yarr中选取\n",
    "result = [(x if c else y)\n",
    "          for x, y, c in zip(xarr, yarr, cond)]\n",
    "result"
   ]
  },
  {
   "cell_type": "code",
   "execution_count": 874,
   "metadata": {},
   "outputs": [
    {
     "data": {
      "text/plain": "array([1.1, 2.2, 1.3, 1.4, 2.5])"
     },
     "execution_count": 874,
     "metadata": {},
     "output_type": "execute_result"
    }
   ],
   "source": [
    "# numpy.where函数是三元表达式x if condition else y的矢量化版本\n",
    "# 时间效率高\n",
    "result = np.where(cond, xarr, yarr)\n",
    "result"
   ]
  },
  {
   "cell_type": "code",
   "execution_count": 801,
   "metadata": {},
   "outputs": [
    {
     "data": {
      "text/plain": "array([[ 0.6361532 ,  0.54509843, -1.70183853,  0.1816646 ],\n       [-1.18697005,  0.53073179, -0.58141033,  0.33258396],\n       [-0.31204037, -0.76441877,  1.68296219, -0.18808012],\n       [-0.27245877, -1.43965172, -0.26069748, -1.04189385]])"
     },
     "execution_count": 801,
     "metadata": {},
     "output_type": "execute_result"
    }
   ],
   "source": [
    "# 在数据分析工作中，where通常用于根据另一个数组而产生一个新的数组。\n",
    "# 假设有一个由随机数据组成的矩阵，你希望将所有正值替换为2，将所有负值替换为－2。\n",
    "# 利用np.where\n",
    "arr = np.random.randn(4, 4)\n",
    "arr"
   ]
  },
  {
   "cell_type": "code",
   "execution_count": 802,
   "outputs": [
    {
     "data": {
      "text/plain": "array([[ True,  True, False,  True],\n       [False,  True, False,  True],\n       [False, False,  True, False],\n       [False, False, False, False]])"
     },
     "execution_count": 802,
     "metadata": {},
     "output_type": "execute_result"
    }
   ],
   "source": [
    "arr > 0"
   ],
   "metadata": {
    "collapsed": false,
    "pycharm": {
     "name": "#%%\n"
    }
   }
  },
  {
   "cell_type": "code",
   "execution_count": 803,
   "outputs": [
    {
     "data": {
      "text/plain": "array([[ 2,  2, -2,  2],\n       [-2,  2, -2,  2],\n       [-2, -2,  2, -2],\n       [-2, -2, -2, -2]])"
     },
     "execution_count": 803,
     "metadata": {},
     "output_type": "execute_result"
    }
   ],
   "source": [
    "np.where(arr > 0, 2, -2)"
   ],
   "metadata": {
    "collapsed": false,
    "pycharm": {
     "name": "#%%\n"
    }
   }
  },
  {
   "cell_type": "code",
   "execution_count": 804,
   "metadata": {},
   "outputs": [
    {
     "data": {
      "text/plain": "array([[ 2.        ,  2.        , -1.70183853,  2.        ],\n       [-1.18697005,  2.        , -0.58141033,  2.        ],\n       [-0.31204037, -0.76441877,  2.        , -0.18808012],\n       [-0.27245877, -1.43965172, -0.26069748, -1.04189385]])"
     },
     "execution_count": 804,
     "metadata": {},
     "output_type": "execute_result"
    }
   ],
   "source": [
    "# 使用np.where，可以将标量和数组结合起来。可用常数2替换arr中所有正的值\n",
    "np.where(arr > 0, 2, arr)"
   ]
  },
  {
   "cell_type": "markdown",
   "metadata": {},
   "source": [
    "### 数学和统计方法"
   ]
  },
  {
   "cell_type": "code",
   "execution_count": 885,
   "metadata": {},
   "outputs": [
    {
     "data": {
      "text/plain": "array([[ 0.88609909,  1.86637431, -0.0478858 , -1.29464072],\n       [-1.82084631, -0.14567733,  0.88392671, -0.44593582],\n       [ 1.53402323,  0.21361531,  0.72210448, -1.23241027],\n       [-1.28418964, -0.97488001, -0.99663461,  1.4247115 ],\n       [ 1.10317219,  1.95236275, -0.59911127,  0.60774386]])"
     },
     "execution_count": 885,
     "metadata": {},
     "output_type": "execute_result"
    }
   ],
   "source": [
    "arr = np.random.randn(5, 4)\n",
    "arr"
   ]
  },
  {
   "cell_type": "code",
   "execution_count": 877,
   "outputs": [
    {
     "data": {
      "text/plain": "-0.2115171231508642"
     },
     "execution_count": 877,
     "metadata": {},
     "output_type": "execute_result"
    }
   ],
   "source": [
    "# sum、mean以及标准差std等聚合计算\n",
    "# 既可以当做数组的实例方法调用，也可以当做顶级NumPy函数使用\n",
    "arr.mean()\n",
    "np.mean(arr)"
   ],
   "metadata": {
    "collapsed": false,
    "pycharm": {
     "name": "#%%\n"
    }
   }
  },
  {
   "cell_type": "code",
   "execution_count": 879,
   "outputs": [
    {
     "data": {
      "text/plain": "-4.230342463017284"
     },
     "execution_count": 879,
     "metadata": {},
     "output_type": "execute_result"
    }
   ],
   "source": [
    "arr.sum()"
   ],
   "metadata": {
    "collapsed": false,
    "pycharm": {
     "name": "#%%\n"
    }
   }
  },
  {
   "cell_type": "code",
   "execution_count": 881,
   "metadata": {},
   "outputs": [
    {
     "data": {
      "text/plain": "array([-0.08805301, -0.43968267, -0.03204925,  0.13050238, -0.62830306])"
     },
     "execution_count": 881,
     "metadata": {},
     "output_type": "execute_result"
    }
   ],
   "source": [
    "# mean和sum这类的函数可以接受一个axis选项参数，用于计算该轴向上的统计值，\n",
    "# 最终结果是一个一维的数组\n",
    "arr.mean(axis=1)"
   ]
  },
  {
   "cell_type": "code",
   "execution_count": 882,
   "outputs": [
    {
     "data": {
      "text/plain": "array([-3.55607597, -1.69670483,  3.18651415, -2.16407582])"
     },
     "execution_count": 882,
     "metadata": {},
     "output_type": "execute_result"
    }
   ],
   "source": [
    "arr.sum(axis=0)"
   ],
   "metadata": {
    "collapsed": false,
    "pycharm": {
     "name": "#%%\n"
    }
   }
  },
  {
   "cell_type": "code",
   "execution_count": 884,
   "metadata": {},
   "outputs": [
    {
     "data": {
      "text/plain": "array([ 0,  1,  3,  6, 10, 15, 21, 28])"
     },
     "execution_count": 884,
     "metadata": {},
     "output_type": "execute_result"
    }
   ],
   "source": [
    "# 如cumsum和cumprod之类的方法则不聚合，而是产生一个由中间结果组成的数组\n",
    "arr = np.array([0, 1, 2, 3, 4, 5, 6, 7])\n",
    "arr.cumsum() # 累和"
   ]
  },
  {
   "cell_type": "code",
   "execution_count": 886,
   "outputs": [
    {
     "data": {
      "text/plain": "array([ 0.88609909,  1.65379257, -0.07919317,  0.10252671, -0.18668537,\n        0.02719583,  0.02403912, -0.0107199 , -0.01644458, -0.00351281,\n       -0.00253662,  0.00312616, -0.00401458,  0.00391373, -0.00390056,\n       -0.00555717, -0.00613052, -0.01196899,  0.00717076,  0.00435798])"
     },
     "execution_count": 886,
     "metadata": {},
     "output_type": "execute_result"
    }
   ],
   "source": [
    "arr.cumprod() # 累积"
   ],
   "metadata": {
    "collapsed": false,
    "pycharm": {
     "name": "#%%\n"
    }
   }
  },
  {
   "cell_type": "code",
   "execution_count": 808,
   "metadata": {},
   "outputs": [
    {
     "data": {
      "text/plain": "array([[  0,   0,   0],\n       [  3,  12,  60],\n       [  6,  42, 336]])"
     },
     "execution_count": 808,
     "metadata": {},
     "output_type": "execute_result"
    }
   ],
   "source": [
    "# 多维数组中，累加函数（如cumsum）返回的是同样大小的数组，\n",
    "# 会根据每个低维的切片沿着标记轴计算部分聚类\n",
    "arr = np.array([[0, 1, 2], [3, 4, 5], [6, 7, 8]])\n",
    "arr\n",
    "arr.cumsum(axis=0) #从0开始元素累积和\n",
    "arr.cumprod(axis=1) #从1开始元素累积积"
   ]
  },
  {
   "cell_type": "markdown",
   "metadata": {},
   "source": [
    "### 布尔值数组的方法"
   ]
  },
  {
   "cell_type": "code",
   "execution_count": 887,
   "metadata": {},
   "outputs": [
    {
     "data": {
      "text/plain": "array([-0.50569599,  0.01843267,  1.17749583,  0.01066034,  0.01901771,\n       -0.03294851,  0.36592899,  0.83050809, -0.60197802, -0.52470746,\n        0.3488909 , -1.50058185, -0.8061572 , -0.12509611, -1.30085978,\n        2.45418123, -0.52598743, -1.56170765,  0.13075223, -0.82977782,\n       -0.66326352, -0.65829371, -0.28456563,  1.35200387,  1.81321683,\n       -0.7029774 , -2.78082659,  1.30520611,  0.84145173,  0.31067151,\n        0.92483385,  2.62811645,  0.28958102, -1.40809845, -1.00479326,\n        0.21440769, -0.4070215 , -1.66671105,  0.67154551, -2.41753489,\n        0.6361532 ,  0.54509843, -1.70183853,  0.1816646 , -1.18697005,\n        0.53073179, -0.58141033,  0.33258396, -0.31204037, -0.76441877,\n        1.68296219, -0.18808012, -0.27245877, -1.43965172, -0.26069748,\n       -1.04189385, -0.76247258,  2.1070633 , -0.93662835,  0.71887192,\n        1.99735215, -2.19052012, -0.84258878, -0.69945756,  1.02595658,\n        0.5109373 ,  0.86359869, -0.99267162,  0.18788912,  0.15734869,\n       -0.32128628, -0.01474316, -1.30438935, -0.80322811, -0.06694205,\n        0.20842909, -1.28950527, -1.12352023, -0.32336222, -1.9908709 ,\n       -1.02472087, -1.47298866, -0.86977991,  1.25248931,  1.25632683,\n       -1.20631986, -0.88998564, -0.61160164, -1.06307816,  1.69461027,\n       -0.08616686, -2.18319439,  0.20690381,  0.94875983,  1.4180027 ,\n       -1.04274823, -0.05594976, -0.75087281,  1.07537302, -0.75584089])"
     },
     "execution_count": 887,
     "metadata": {},
     "output_type": "execute_result"
    }
   ],
   "source": [
    "# 在上面这些方法中，布尔值会被强制转换为1（True）和0（False）\n",
    "# 因此，sum经常被用来对布尔型数组中的True值计数\n",
    "arr = np.random.randn(100)\n",
    "arr"
   ]
  },
  {
   "cell_type": "code",
   "execution_count": 810,
   "outputs": [
    {
     "data": {
      "text/plain": "47"
     },
     "execution_count": 810,
     "metadata": {},
     "output_type": "execute_result"
    }
   ],
   "source": [
    "(arr > 0).sum() # Number of positive values"
   ],
   "metadata": {
    "collapsed": false,
    "pycharm": {
     "name": "#%%\n"
    }
   }
  },
  {
   "cell_type": "code",
   "execution_count": 811,
   "metadata": {},
   "outputs": [
    {
     "data": {
      "text/plain": "True"
     },
     "execution_count": 811,
     "metadata": {},
     "output_type": "execute_result"
    }
   ],
   "source": [
    "# any用于测试数组中是否存在一个或多个True\n",
    "bools = np.array([False, False, True, False])\n",
    "bools.any()"
   ]
  },
  {
   "cell_type": "code",
   "execution_count": 812,
   "outputs": [
    {
     "data": {
      "text/plain": "False"
     },
     "execution_count": 812,
     "metadata": {},
     "output_type": "execute_result"
    }
   ],
   "source": [
    "# all检查数组中所有值是否都是True\n",
    "bools.all()"
   ],
   "metadata": {
    "collapsed": false,
    "pycharm": {
     "name": "#%%\n"
    }
   }
  },
  {
   "cell_type": "markdown",
   "metadata": {},
   "source": [
    "### 排序"
   ]
  },
  {
   "cell_type": "code",
   "execution_count": 890,
   "metadata": {},
   "outputs": [
    {
     "data": {
      "text/plain": "array([-1.73035542,  0.1440708 ,  0.51676122,  0.62926358, -2.08903056,\n       -0.09390721])"
     },
     "execution_count": 890,
     "metadata": {},
     "output_type": "execute_result"
    }
   ],
   "source": [
    "arr = np.random.randn(6)\n",
    "arr"
   ]
  },
  {
   "cell_type": "code",
   "execution_count": 891,
   "outputs": [
    {
     "data": {
      "text/plain": "array([-2.08903056, -1.73035542, -0.09390721,  0.1440708 ,  0.51676122,\n        0.62926358])"
     },
     "execution_count": 891,
     "metadata": {},
     "output_type": "execute_result"
    }
   ],
   "source": [
    "# sort方法就地排序\n",
    "arr.sort()\n",
    "arr"
   ],
   "metadata": {
    "collapsed": false,
    "pycharm": {
     "name": "#%%\n"
    }
   }
  },
  {
   "cell_type": "code",
   "execution_count": 893,
   "metadata": {},
   "outputs": [
    {
     "data": {
      "text/plain": "array([[-1.44284553,  0.09878847, -0.11155327],\n       [ 3.64058038,  1.0245513 ,  1.16329111],\n       [-0.42576825, -0.76398117, -1.06244561],\n       [-0.16587424, -1.11219795,  0.68877661],\n       [-0.74012707, -0.22458399,  0.29677422]])"
     },
     "execution_count": 893,
     "metadata": {},
     "output_type": "execute_result"
    }
   ],
   "source": [
    "arr = np.random.randn(5, 3)\n",
    "arr"
   ]
  },
  {
   "cell_type": "code",
   "execution_count": 894,
   "outputs": [
    {
     "data": {
      "text/plain": "array([[-1.44284553, -0.11155327,  0.09878847],\n       [ 1.0245513 ,  1.16329111,  3.64058038],\n       [-1.06244561, -0.76398117, -0.42576825],\n       [-1.11219795, -0.16587424,  0.68877661],\n       [-0.74012707, -0.22458399,  0.29677422]])"
     },
     "execution_count": 894,
     "metadata": {},
     "output_type": "execute_result"
    }
   ],
   "source": [
    "arr.sort(1)\n",
    "arr"
   ],
   "metadata": {
    "collapsed": false,
    "pycharm": {
     "name": "#%%\n"
    }
   }
  },
  {
   "cell_type": "code",
   "execution_count": 817,
   "outputs": [
    {
     "data": {
      "text/plain": "array([[-2.00603287, -0.61622888, -0.42494822],\n       [-1.44462822, -0.22953082,  0.14616857],\n       [-0.84975019,  0.13447095,  0.16423168],\n       [-0.83203399,  0.17006458,  0.27647851],\n       [ 0.02731841,  0.49688189,  1.12779666]])"
     },
     "execution_count": 817,
     "metadata": {},
     "output_type": "execute_result"
    }
   ],
   "source": [
    "arr.sort(0)\n",
    "arr"
   ],
   "metadata": {
    "collapsed": false,
    "pycharm": {
     "name": "#%%\n"
    }
   }
  },
  {
   "cell_type": "code",
   "execution_count": 899,
   "metadata": {},
   "outputs": [
    {
     "data": {
      "text/plain": "array([-3.50910751e+00, -3.24417843e+00, -3.16330082e+00, -3.08721544e+00,\n       -3.00090091e+00, -2.99937644e+00, -2.97498460e+00, -2.97351127e+00,\n       -2.71628999e+00, -2.59048900e+00, -2.38492368e+00, -2.36651757e+00,\n       -2.34773193e+00, -2.30311092e+00, -2.29115954e+00, -2.28287207e+00,\n       -2.26060165e+00, -2.21684754e+00, -2.14796033e+00, -2.08776914e+00,\n       -2.08430417e+00, -2.06624519e+00, -2.03238831e+00, -2.01528745e+00,\n       -2.01020872e+00, -2.00929399e+00, -2.00375505e+00, -1.99346299e+00,\n       -1.97602643e+00, -1.95960701e+00, -1.95767232e+00, -1.93622056e+00,\n       -1.88865135e+00, -1.85251224e+00, -1.84603883e+00, -1.81971049e+00,\n       -1.80594454e+00, -1.77904012e+00, -1.75568152e+00, -1.75398981e+00,\n       -1.71443866e+00, -1.71442437e+00, -1.69532970e+00, -1.69033685e+00,\n       -1.68908271e+00, -1.68413844e+00, -1.67985615e+00, -1.66874277e+00,\n       -1.66629114e+00, -1.66346545e+00, -1.65337759e+00, -1.63081369e+00,\n       -1.62994199e+00, -1.62725227e+00, -1.62360775e+00, -1.62313132e+00,\n       -1.60061625e+00, -1.59190537e+00, -1.58762174e+00, -1.58548554e+00,\n       -1.58176254e+00, -1.56945580e+00, -1.55457127e+00, -1.54664921e+00,\n       -1.54410787e+00, -1.53386579e+00, -1.51905226e+00, -1.51785732e+00,\n       -1.51265125e+00, -1.51097851e+00, -1.50893001e+00, -1.50360593e+00,\n       -1.50095885e+00, -1.49175073e+00, -1.46956439e+00, -1.46521438e+00,\n       -1.45408550e+00, -1.45175328e+00, -1.44936183e+00, -1.40798042e+00,\n       -1.40364438e+00, -1.40167799e+00, -1.39674967e+00, -1.39429081e+00,\n       -1.38721959e+00, -1.38087541e+00, -1.37650357e+00, -1.37025097e+00,\n       -1.36971838e+00, -1.34381833e+00, -1.34059878e+00, -1.34032951e+00,\n       -1.33677892e+00, -1.33007882e+00, -1.30921705e+00, -1.30037953e+00,\n       -1.29756073e+00, -1.29260346e+00, -1.28689211e+00, -1.28642491e+00,\n       -1.28236611e+00, -1.28105882e+00, -1.27469931e+00, -1.26910418e+00,\n       -1.26876588e+00, -1.26784275e+00, -1.26464047e+00, -1.25961095e+00,\n       -1.24581243e+00, -1.24577096e+00, -1.24380537e+00, -1.23816979e+00,\n       -1.23696791e+00, -1.22864487e+00, -1.22283724e+00, -1.21396721e+00,\n       -1.19727413e+00, -1.19452854e+00, -1.18744560e+00, -1.17127643e+00,\n       -1.15112910e+00, -1.14379060e+00, -1.13592889e+00, -1.13158118e+00,\n       -1.12978272e+00, -1.12787851e+00, -1.11910717e+00, -1.11906597e+00,\n       -1.11753995e+00, -1.11508507e+00, -1.10694309e+00, -1.09349148e+00,\n       -1.07977025e+00, -1.07582541e+00, -1.07568483e+00, -1.07360255e+00,\n       -1.07354735e+00, -1.07185026e+00, -1.06945461e+00, -1.06634901e+00,\n       -1.06247188e+00, -1.05905334e+00, -1.05395359e+00, -1.04934658e+00,\n       -1.04398785e+00, -1.04127985e+00, -1.03237204e+00, -1.03139648e+00,\n       -1.02979226e+00, -1.01664469e+00, -1.01139769e+00, -9.97841402e-01,\n       -9.96603692e-01, -9.91663825e-01, -9.82536646e-01, -9.80644850e-01,\n       -9.77302680e-01, -9.74360767e-01, -9.73173271e-01, -9.70018888e-01,\n       -9.64203356e-01, -9.57645088e-01, -9.56357884e-01, -9.54551764e-01,\n       -9.44184289e-01, -9.37362894e-01, -9.37082051e-01, -9.36332243e-01,\n       -9.35840657e-01, -9.27505552e-01, -9.25686555e-01, -9.23478153e-01,\n       -9.22630251e-01, -9.20183065e-01, -9.16904913e-01, -9.13753945e-01,\n       -9.12381465e-01, -9.11078093e-01, -9.05350523e-01, -9.03821439e-01,\n       -8.90884610e-01, -8.80879443e-01, -8.78906031e-01, -8.73863898e-01,\n       -8.61169410e-01, -8.57451600e-01, -8.51906606e-01, -8.49477124e-01,\n       -8.46778722e-01, -8.45268874e-01, -8.36081820e-01, -8.35239225e-01,\n       -8.28215344e-01, -8.27782027e-01, -8.20001322e-01, -8.19084052e-01,\n       -8.16947027e-01, -8.13202637e-01, -8.11746999e-01, -8.10604275e-01,\n       -8.04150179e-01, -7.92957844e-01, -7.90392473e-01, -7.89439562e-01,\n       -7.88460856e-01, -7.87442419e-01, -7.86147287e-01, -7.80691206e-01,\n       -7.79695375e-01, -7.78394516e-01, -7.77534172e-01, -7.75841389e-01,\n       -7.65865057e-01, -7.63480634e-01, -7.59495254e-01, -7.57762947e-01,\n       -7.53223541e-01, -7.47827374e-01, -7.46952535e-01, -7.45803642e-01,\n       -7.45086288e-01, -7.39250966e-01, -7.34072224e-01, -7.24615273e-01,\n       -7.15476729e-01, -7.15224918e-01, -7.10637369e-01, -7.04880486e-01,\n       -6.87749323e-01, -6.86688422e-01, -6.83772031e-01, -6.83125202e-01,\n       -6.79359650e-01, -6.78003279e-01, -6.75079750e-01, -6.73839187e-01,\n       -6.69433989e-01, -6.66116464e-01, -6.63497863e-01, -6.63132868e-01,\n       -6.62191887e-01, -6.58630567e-01, -6.57744179e-01, -6.53099039e-01,\n       -6.51276241e-01, -6.49282795e-01, -6.46779038e-01, -6.43739270e-01,\n       -6.40984633e-01, -6.37816395e-01, -6.37189444e-01, -6.35543386e-01,\n       -6.34119374e-01, -6.32995982e-01, -6.32159461e-01, -6.31224602e-01,\n       -6.27836735e-01, -6.27283555e-01, -6.25731670e-01, -6.23370816e-01,\n       -6.19409787e-01, -6.19311063e-01, -6.19109278e-01, -6.14551480e-01,\n       -6.14087384e-01, -6.10696112e-01, -6.10554290e-01, -6.10083965e-01,\n       -6.09441002e-01, -6.04297343e-01, -6.02191524e-01, -6.01491285e-01,\n       -5.97344904e-01, -5.97203908e-01, -5.96947612e-01, -5.94909849e-01,\n       -5.93877905e-01, -5.88953343e-01, -5.88696019e-01, -5.87521415e-01,\n       -5.86502362e-01, -5.84814343e-01, -5.79405202e-01, -5.78949692e-01,\n       -5.76808511e-01, -5.66020702e-01, -5.63653724e-01, -5.61793009e-01,\n       -5.60550261e-01, -5.55608141e-01, -5.54738586e-01, -5.51849794e-01,\n       -5.50621772e-01, -5.43261033e-01, -5.42474169e-01, -5.36390262e-01,\n       -5.26629954e-01, -5.24864741e-01, -5.24034935e-01, -5.21071918e-01,\n       -5.12844840e-01, -5.12409310e-01, -5.11795764e-01, -5.05012719e-01,\n       -5.04777162e-01, -5.04546546e-01, -4.99517263e-01, -4.91359756e-01,\n       -4.90100660e-01, -4.88795342e-01, -4.86935202e-01, -4.86925771e-01,\n       -4.84218896e-01, -4.79439955e-01, -4.76873768e-01, -4.75151226e-01,\n       -4.70630574e-01, -4.62929563e-01, -4.60987662e-01, -4.59678826e-01,\n       -4.58644860e-01, -4.58314571e-01, -4.51735864e-01, -4.49032060e-01,\n       -4.44760594e-01, -4.43825956e-01, -4.42213110e-01, -4.41948669e-01,\n       -4.38303972e-01, -4.35495342e-01, -4.35469200e-01, -4.35268755e-01,\n       -4.34057278e-01, -4.28974597e-01, -4.26141144e-01, -4.25409122e-01,\n       -4.23850415e-01, -4.19665135e-01, -4.16850698e-01, -4.16045616e-01,\n       -4.09781100e-01, -4.07245241e-01, -4.05895956e-01, -4.03291437e-01,\n       -4.00912448e-01, -4.00463174e-01, -3.99856488e-01, -3.93750323e-01,\n       -3.92353403e-01, -3.78786127e-01, -3.77007610e-01, -3.74703893e-01,\n       -3.66379576e-01, -3.66244271e-01, -3.63060793e-01, -3.59340139e-01,\n       -3.53394028e-01, -3.51916185e-01, -3.50940759e-01, -3.42528865e-01,\n       -3.38569076e-01, -3.37532115e-01, -3.27970029e-01, -3.25745132e-01,\n       -3.19670687e-01, -3.18501495e-01, -3.16342840e-01, -3.14641283e-01,\n       -3.14152269e-01, -3.13419924e-01, -3.07189301e-01, -3.06399356e-01,\n       -3.04317621e-01, -3.03782142e-01, -3.01320311e-01, -3.00087838e-01,\n       -2.96557367e-01, -2.96075367e-01, -2.92618871e-01, -2.92246004e-01,\n       -2.82757843e-01, -2.82692973e-01, -2.81676309e-01, -2.81495494e-01,\n       -2.76355484e-01, -2.74787471e-01, -2.73419140e-01, -2.73083830e-01,\n       -2.72344578e-01, -2.69472710e-01, -2.63960090e-01, -2.56228839e-01,\n       -2.53739230e-01, -2.48164422e-01, -2.44600297e-01, -2.40090558e-01,\n       -2.38895037e-01, -2.35792616e-01, -2.32587471e-01, -2.27736811e-01,\n       -2.26957516e-01, -2.24303909e-01, -2.22884332e-01, -2.19599336e-01,\n       -2.13741240e-01, -2.08326074e-01, -2.06380657e-01, -2.05759890e-01,\n       -2.03566100e-01, -2.03214970e-01, -2.02972866e-01, -2.00932921e-01,\n       -1.86264102e-01, -1.84948369e-01, -1.84912272e-01, -1.84372972e-01,\n       -1.83412549e-01, -1.82217135e-01, -1.77445331e-01, -1.67784114e-01,\n       -1.65505482e-01, -1.60789649e-01, -1.57734243e-01, -1.53665699e-01,\n       -1.52967109e-01, -1.48463441e-01, -1.47599703e-01, -1.46281174e-01,\n       -1.45691541e-01, -1.45022062e-01, -1.44891699e-01, -1.44129598e-01,\n       -1.42485978e-01, -1.41857960e-01, -1.37916382e-01, -1.37432106e-01,\n       -1.32928910e-01, -1.31495914e-01, -1.28668151e-01, -1.22927861e-01,\n       -1.18377722e-01, -1.16742022e-01, -1.14161566e-01, -1.10485936e-01,\n       -1.06845912e-01, -1.06482619e-01, -1.05190651e-01, -1.01971374e-01,\n       -1.00425517e-01, -9.81220209e-02, -9.81192699e-02, -9.58499409e-02,\n       -9.57938747e-02, -9.43447358e-02, -9.23665756e-02, -9.21121475e-02,\n       -9.20161650e-02, -9.04752257e-02, -9.01276141e-02, -9.00427884e-02,\n       -8.65588795e-02, -7.72492031e-02, -7.55640216e-02, -7.42473890e-02,\n       -7.26823378e-02, -7.20887913e-02, -7.01244161e-02, -6.77521373e-02,\n       -6.75400995e-02, -6.52318053e-02, -6.43426180e-02, -6.29151221e-02,\n       -5.45234996e-02, -4.70862665e-02, -3.68262115e-02, -3.55925909e-02,\n       -3.21594658e-02, -2.91839269e-02, -2.80821954e-02, -2.64711621e-02,\n       -1.77776223e-02, -1.39397599e-02, -9.24884021e-03,  4.58496667e-04,\n        6.18960255e-03,  8.85403034e-03,  9.68817806e-03,  1.68180212e-02,\n        1.86221131e-02,  1.97759087e-02,  2.01115838e-02,  2.01988773e-02,\n        2.74838142e-02,  2.94728884e-02,  2.95029000e-02,  3.26666722e-02,\n        3.45110462e-02,  3.46799399e-02,  4.54546522e-02,  5.57396961e-02,\n        6.18743164e-02,  6.42605568e-02,  6.52751576e-02,  6.54552888e-02,\n        6.56059337e-02,  6.83997066e-02,  6.98386996e-02,  6.99083330e-02,\n        7.03694907e-02,  7.18985464e-02,  7.35440233e-02,  7.67185917e-02,\n        7.92743992e-02,  8.15980951e-02,  8.76803080e-02,  8.85302934e-02,\n        8.86594902e-02,  9.13114826e-02,  9.13170040e-02,  9.41870082e-02,\n        9.45378466e-02,  9.63479999e-02,  9.89606646e-02,  1.00127284e-01,\n        1.05829775e-01,  1.10397054e-01,  1.11528069e-01,  1.12362379e-01,\n        1.12956551e-01,  1.16494435e-01,  1.18710201e-01,  1.22683149e-01,\n        1.25211824e-01,  1.29687939e-01,  1.31684374e-01,  1.35114187e-01,\n        1.36351610e-01,  1.41740443e-01,  1.43676326e-01,  1.43758903e-01,\n        1.44004986e-01,  1.51273271e-01,  1.53033967e-01,  1.55119801e-01,\n        1.56000115e-01,  1.57454649e-01,  1.57618809e-01,  1.59274271e-01,\n        1.62631680e-01,  1.65333038e-01,  1.66961738e-01,  1.67302543e-01,\n        1.75378405e-01,  1.76205971e-01,  1.77841459e-01,  1.83622268e-01,\n        1.88855917e-01,  1.91403460e-01,  1.92149627e-01,  1.94947370e-01,\n        1.96707043e-01,  1.96712622e-01,  2.01594608e-01,  2.03841934e-01,\n        2.05281187e-01,  2.10384355e-01,  2.17059046e-01,  2.18789587e-01,\n        2.22193775e-01,  2.29723748e-01,  2.32445003e-01,  2.32943647e-01,\n        2.34754162e-01,  2.37945342e-01,  2.41137551e-01,  2.42866629e-01,\n        2.44953924e-01,  2.47428351e-01,  2.48920168e-01,  2.50128349e-01,\n        2.52984383e-01,  2.53201445e-01,  2.59245665e-01,  2.60877756e-01,\n        2.71167931e-01,  2.71256794e-01,  2.75104240e-01,  2.78152176e-01,\n        2.79979859e-01,  2.81151678e-01,  2.84800431e-01,  2.87262591e-01,\n        2.92141949e-01,  2.92395181e-01,  2.93745801e-01,  2.95552706e-01,\n        3.03850751e-01,  3.10737728e-01,  3.11350592e-01,  3.12690563e-01,\n        3.13812158e-01,  3.15584687e-01,  3.17645023e-01,  3.18421672e-01,\n        3.19330133e-01,  3.22477735e-01,  3.23035651e-01,  3.24218067e-01,\n        3.30463816e-01,  3.33983916e-01,  3.36336817e-01,  3.39586012e-01,\n        3.40895949e-01,  3.43524167e-01,  3.45942775e-01,  3.46248254e-01,\n        3.48139935e-01,  3.50674399e-01,  3.52777414e-01,  3.53990154e-01,\n        3.60607564e-01,  3.61856760e-01,  3.62662947e-01,  3.62942163e-01,\n        3.66961769e-01,  3.75323869e-01,  3.79270156e-01,  3.80064509e-01,\n        3.83182064e-01,  3.85440165e-01,  3.87227029e-01,  3.87947971e-01,\n        3.95327672e-01,  3.96253903e-01,  3.98477314e-01,  3.99971350e-01,\n        4.01704619e-01,  4.02474627e-01,  4.04230975e-01,  4.05979008e-01,\n        4.08698962e-01,  4.09933517e-01,  4.11968344e-01,  4.14530788e-01,\n        4.17982641e-01,  4.22368952e-01,  4.22844723e-01,  4.29392212e-01,\n        4.29715828e-01,  4.30934992e-01,  4.40006310e-01,  4.41913754e-01,\n        4.47954065e-01,  4.47979556e-01,  4.54455375e-01,  4.65785420e-01,\n        4.68722395e-01,  4.71560416e-01,  4.73853288e-01,  4.75278857e-01,\n        4.76286691e-01,  4.77290817e-01,  4.79132532e-01,  4.79246256e-01,\n        4.80830691e-01,  4.81672959e-01,  4.91629935e-01,  4.98995857e-01,\n        5.03573620e-01,  5.08221290e-01,  5.09506439e-01,  5.17936565e-01,\n        5.23218028e-01,  5.25493607e-01,  5.28811788e-01,  5.34805650e-01,\n        5.38481704e-01,  5.38584868e-01,  5.48469109e-01,  5.49660509e-01,\n        5.50848569e-01,  5.52693344e-01,  5.53190932e-01,  5.71904467e-01,\n        5.73000503e-01,  5.77098950e-01,  5.79450918e-01,  5.79710848e-01,\n        5.80972474e-01,  5.91038276e-01,  5.91990664e-01,  5.93881021e-01,\n        5.97001468e-01,  5.97360356e-01,  5.99905232e-01,  6.01509949e-01,\n        6.05633878e-01,  6.07502955e-01,  6.07596199e-01,  6.10128267e-01,\n        6.11343296e-01,  6.11772798e-01,  6.14184898e-01,  6.16027723e-01,\n        6.18991341e-01,  6.19522594e-01,  6.20133132e-01,  6.21755775e-01,\n        6.22301788e-01,  6.23060227e-01,  6.26660996e-01,  6.31160106e-01,\n        6.31744644e-01,  6.32266959e-01,  6.33437749e-01,  6.37967843e-01,\n        6.38102776e-01,  6.39694502e-01,  6.47805448e-01,  6.49604004e-01,\n        6.50362755e-01,  6.51032154e-01,  6.52379797e-01,  6.54733179e-01,\n        6.57022702e-01,  6.59970831e-01,  6.65664132e-01,  6.68262683e-01,\n        6.70678473e-01,  6.72440683e-01,  6.75693744e-01,  6.75861209e-01,\n        6.81425106e-01,  6.85600802e-01,  6.93427251e-01,  6.94973687e-01,\n        6.95809459e-01,  6.96259042e-01,  6.97193192e-01,  6.99424602e-01,\n        7.01818702e-01,  7.02793862e-01,  7.04244494e-01,  7.05494920e-01,\n        7.09887958e-01,  7.12410552e-01,  7.16645685e-01,  7.16888919e-01,\n        7.17361007e-01,  7.21712385e-01,  7.24287897e-01,  7.25327190e-01,\n        7.25559667e-01,  7.41249939e-01,  7.42603907e-01,  7.44564100e-01,\n        7.45059740e-01,  7.47322988e-01,  7.49088948e-01,  7.51188070e-01,\n        7.51373656e-01,  7.51620904e-01,  7.54028697e-01,  7.56723399e-01,\n        7.57752479e-01,  7.71580693e-01,  7.77207777e-01,  7.82719024e-01,\n        7.84796679e-01,  7.86964313e-01,  7.89841129e-01,  7.90645078e-01,\n        8.11542962e-01,  8.12272679e-01,  8.17432014e-01,  8.21513972e-01,\n        8.43436888e-01,  8.44522711e-01,  8.45971622e-01,  8.56380192e-01,\n        8.58088441e-01,  8.61336362e-01,  8.62784162e-01,  8.63648656e-01,\n        8.66304368e-01,  8.66818422e-01,  8.68307783e-01,  8.75466012e-01,\n        8.76877193e-01,  8.78686369e-01,  8.86086782e-01,  8.86691738e-01,\n        8.91357838e-01,  8.98307301e-01,  9.01223235e-01,  9.04575615e-01,\n        9.05405189e-01,  9.12784964e-01,  9.20408927e-01,  9.23228323e-01,\n        9.25514180e-01,  9.28079983e-01,  9.28395710e-01,  9.30126658e-01,\n        9.30488685e-01,  9.33016258e-01,  9.35293164e-01,  9.36469824e-01,\n        9.43038269e-01,  9.45031293e-01,  9.52931668e-01,  9.55977977e-01,\n        9.58064329e-01,  9.59505713e-01,  9.60846891e-01,  9.62268738e-01,\n        9.63114129e-01,  9.67648133e-01,  9.76922592e-01,  9.84922732e-01,\n        9.87064278e-01,  9.87408208e-01,  9.91148027e-01,  9.95959520e-01,\n        9.97660124e-01,  9.98533531e-01,  1.00017492e+00,  1.00574510e+00,\n        1.00588391e+00,  1.00723537e+00,  1.01274149e+00,  1.01894339e+00,\n        1.02401828e+00,  1.03611599e+00,  1.03684634e+00,  1.03711177e+00,\n        1.03744909e+00,  1.04055721e+00,  1.04109231e+00,  1.05380431e+00,\n        1.05695539e+00,  1.05738759e+00,  1.05989421e+00,  1.06252689e+00,\n        1.06285380e+00,  1.06498209e+00,  1.06576934e+00,  1.06675428e+00,\n        1.07140400e+00,  1.07636834e+00,  1.07830419e+00,  1.09909706e+00,\n        1.10121888e+00,  1.11062481e+00,  1.12098238e+00,  1.12221473e+00,\n        1.12361068e+00,  1.12551243e+00,  1.12559189e+00,  1.12653457e+00,\n        1.13019032e+00,  1.13103382e+00,  1.13753009e+00,  1.13990423e+00,\n        1.14351315e+00,  1.14682417e+00,  1.14898019e+00,  1.15102407e+00,\n        1.15404398e+00,  1.15469204e+00,  1.15927612e+00,  1.15972040e+00,\n        1.17051073e+00,  1.17277786e+00,  1.17459097e+00,  1.17593573e+00,\n        1.18584085e+00,  1.18591436e+00,  1.19745415e+00,  1.22029574e+00,\n        1.22053137e+00,  1.22455170e+00,  1.22546827e+00,  1.22624726e+00,\n        1.23258409e+00,  1.25317904e+00,  1.26255527e+00,  1.26682403e+00,\n        1.26774700e+00,  1.26915700e+00,  1.28037442e+00,  1.28164185e+00,\n        1.29119818e+00,  1.31004602e+00,  1.31303297e+00,  1.32398220e+00,\n        1.33796413e+00,  1.33821586e+00,  1.33908737e+00,  1.34252406e+00,\n        1.34466367e+00,  1.34577523e+00,  1.34662329e+00,  1.35874975e+00,\n        1.36513771e+00,  1.36737037e+00,  1.36975443e+00,  1.37237114e+00,\n        1.37308513e+00,  1.37342223e+00,  1.37613221e+00,  1.38979761e+00,\n        1.40514872e+00,  1.40745512e+00,  1.40986944e+00,  1.41673554e+00,\n        1.42053595e+00,  1.42111826e+00,  1.42776760e+00,  1.42861351e+00,\n        1.43120816e+00,  1.43824870e+00,  1.44010104e+00,  1.44798009e+00,\n        1.45588202e+00,  1.46767797e+00,  1.46821861e+00,  1.47002931e+00,\n        1.47205225e+00,  1.47229992e+00,  1.47289346e+00,  1.47760154e+00,\n        1.47776906e+00,  1.47993530e+00,  1.48170526e+00,  1.48917532e+00,\n        1.49432071e+00,  1.56446019e+00,  1.56660235e+00,  1.57113875e+00,\n        1.58247041e+00,  1.58794718e+00,  1.59225312e+00,  1.61196018e+00,\n        1.62187832e+00,  1.62352427e+00,  1.63933598e+00,  1.64118855e+00,\n        1.64137742e+00,  1.64636627e+00,  1.66842110e+00,  1.68703894e+00,\n        1.68997102e+00,  1.69008860e+00,  1.69317507e+00,  1.70137093e+00,\n        1.71580650e+00,  1.71712676e+00,  1.72263940e+00,  1.72366101e+00,\n        1.72409267e+00,  1.73032002e+00,  1.73933181e+00,  1.74895491e+00,\n        1.79262688e+00,  1.80832419e+00,  1.82209847e+00,  1.83334613e+00,\n        1.84673792e+00,  1.86411598e+00,  1.88006594e+00,  1.89661054e+00,\n        1.89792107e+00,  1.90923486e+00,  1.93395259e+00,  1.93785374e+00,\n        1.98176464e+00,  2.02050611e+00,  2.02893047e+00,  2.03859921e+00,\n        2.05632184e+00,  2.07407842e+00,  2.07414303e+00,  2.08351161e+00,\n        2.13387909e+00,  2.13643541e+00,  2.14948893e+00,  2.16364253e+00,\n        2.16756314e+00,  2.22925065e+00,  2.27301444e+00,  2.31109258e+00,\n        2.43952453e+00,  2.47397940e+00,  2.48158264e+00,  2.50214567e+00,\n        2.55250088e+00,  2.63450398e+00,  2.87257256e+00,  3.25094511e+00])"
     },
     "execution_count": 899,
     "metadata": {},
     "output_type": "execute_result"
    }
   ],
   "source": [
    "# 顶级方法np.sort返回的是数组的已排序副本，而就地排序则会修改数组本身\n",
    "large_arr = np.random.randn(1000)\n",
    "large_arr.sort()\n",
    "np.sort(large_arr)"
   ]
  },
  {
   "cell_type": "code",
   "execution_count": 900,
   "outputs": [
    {
     "data": {
      "text/plain": "-1.6533775912431163"
     },
     "execution_count": 900,
     "metadata": {},
     "output_type": "execute_result"
    }
   ],
   "source": [
    "large_arr[int(0.05 * len(large_arr))] # 5% 分位数\n",
    "# 是指将一个随机变量的概率分布范围分为几个等份的数值点"
   ],
   "metadata": {
    "collapsed": false,
    "pycharm": {
     "name": "#%%\n"
    }
   }
  },
  {
   "cell_type": "markdown",
   "metadata": {},
   "source": [
    "### 唯一值与其他集合逻辑"
   ]
  },
  {
   "cell_type": "code",
   "execution_count": 819,
   "metadata": {},
   "outputs": [
    {
     "data": {
      "text/plain": "array(['Bob', 'Joe', 'Will'], dtype='<U4')"
     },
     "execution_count": 819,
     "metadata": {},
     "output_type": "execute_result"
    }
   ],
   "source": [
    "# np.unique用于找出数组中的唯一值并返回已排序的结果\n",
    "names = np.array(['Bob', 'Joe', 'Will', 'Bob', 'Will', 'Joe', 'Joe'])\n",
    "np.unique(names)"
   ]
  },
  {
   "cell_type": "code",
   "execution_count": 820,
   "outputs": [
    {
     "data": {
      "text/plain": "array([1, 2, 3, 4])"
     },
     "execution_count": 820,
     "metadata": {},
     "output_type": "execute_result"
    }
   ],
   "source": [
    "ints = np.array([3, 3, 3, 2, 2, 1, 1, 4, 4])\n",
    "np.unique(ints)"
   ],
   "metadata": {
    "collapsed": false,
    "pycharm": {
     "name": "#%%\n"
    }
   }
  },
  {
   "cell_type": "code",
   "execution_count": 821,
   "metadata": {},
   "outputs": [
    {
     "data": {
      "text/plain": "['Bob', 'Joe', 'Will']"
     },
     "execution_count": 821,
     "metadata": {},
     "output_type": "execute_result"
    }
   ],
   "source": [
    "# 纯Python代码方案\n",
    "sorted(set(names))"
   ]
  },
  {
   "cell_type": "code",
   "execution_count": 822,
   "metadata": {},
   "outputs": [
    {
     "data": {
      "text/plain": "array([ True, False, False,  True,  True, False,  True])"
     },
     "execution_count": 822,
     "metadata": {},
     "output_type": "execute_result"
    }
   ],
   "source": [
    "# np.in1d用于测试一个数组中的值在另一个数组中的成员资格，返回一个布尔型数组\n",
    "values = np.array([6, 0, 0, 3, 2, 5, 6])\n",
    "np.in1d(values, [2, 3, 6])"
   ]
  },
  {
   "cell_type": "markdown",
   "metadata": {},
   "source": [
    "## 使用数组进行文件输入和输出"
   ]
  },
  {
   "cell_type": "code",
   "execution_count": 823,
   "metadata": {},
   "outputs": [],
   "source": [
    "# np.save和np.load存取数据的两大工具函数\n",
    "arr = np.arange(10)\n",
    "np.save('some_array', arr)"
   ]
  },
  {
   "cell_type": "code",
   "execution_count": 824,
   "metadata": {},
   "outputs": [
    {
     "data": {
      "text/plain": "array([0, 1, 2, 3, 4, 5, 6, 7, 8, 9])"
     },
     "execution_count": 824,
     "metadata": {},
     "output_type": "execute_result"
    }
   ],
   "source": [
    "np.load('some_array.npy') #未压缩格式存储"
   ]
  },
  {
   "cell_type": "code",
   "execution_count": 825,
   "metadata": {},
   "outputs": [],
   "source": [
    "#在未压缩文件中保存多个数组\n",
    "np.savez('array_archive.npz', a=arr, b=arr)"
   ]
  },
  {
   "cell_type": "code",
   "execution_count": 826,
   "metadata": {},
   "outputs": [
    {
     "data": {
      "text/plain": "array([0, 1, 2, 3, 4, 5, 6, 7, 8, 9])"
     },
     "execution_count": 826,
     "metadata": {},
     "output_type": "execute_result"
    }
   ],
   "source": [
    "arch = np.load('array_archive.npz')\n",
    "arch['b']"
   ]
  },
  {
   "cell_type": "code",
   "execution_count": 827,
   "metadata": {},
   "outputs": [],
   "source": [
    "#将数据存储已经压缩的文件\n",
    "np.savez_compressed('arrays_compressed.npz', a=arr, b=arr)"
   ]
  },
  {
   "cell_type": "code",
   "execution_count": 828,
   "metadata": {},
   "outputs": [],
   "source": [
    "!rm some_array.npy\n",
    "!rm array_archive.npz\n",
    "!rm arrays_compressed.npz"
   ]
  },
  {
   "cell_type": "markdown",
   "metadata": {},
   "source": [
    "## 线性代数"
   ]
  },
  {
   "cell_type": "code",
   "execution_count": 829,
   "metadata": {},
   "outputs": [
    {
     "data": {
      "text/plain": "array([[ 28.,  64.],\n       [ 67., 181.]])"
     },
     "execution_count": 829,
     "metadata": {},
     "output_type": "execute_result"
    }
   ],
   "source": [
    "x = np.array([[1., 2., 3.], [4., 5., 6.]])\n",
    "y = np.array([[6., 23.], [-1, 7], [8, 9]])\n",
    "x\n",
    "y\n",
    "x.dot(y)"
   ]
  },
  {
   "cell_type": "code",
   "execution_count": 830,
   "metadata": {},
   "outputs": [
    {
     "data": {
      "text/plain": "array([[ 28.,  64.],\n       [ 67., 181.]])"
     },
     "execution_count": 830,
     "metadata": {},
     "output_type": "execute_result"
    }
   ],
   "source": [
    "np.dot(x, y)"
   ]
  },
  {
   "cell_type": "code",
   "execution_count": 831,
   "metadata": {},
   "outputs": [
    {
     "data": {
      "text/plain": "array([ 6., 15.])"
     },
     "execution_count": 831,
     "metadata": {},
     "output_type": "execute_result"
    }
   ],
   "source": [
    "np.dot(x, np.ones(3))"
   ]
  },
  {
   "cell_type": "code",
   "execution_count": 832,
   "metadata": {},
   "outputs": [
    {
     "data": {
      "text/plain": "array([ 6., 15.])"
     },
     "execution_count": 832,
     "metadata": {},
     "output_type": "execute_result"
    }
   ],
   "source": [
    "x @ np.ones(3)"
   ]
  },
  {
   "cell_type": "code",
   "execution_count": 833,
   "metadata": {},
   "outputs": [
    {
     "data": {
      "text/plain": "array([[ -5.91928756,  -1.82323035,  -6.03371327,  -3.83049081,\n         -2.55709984],\n       [  0.        , -12.62876678,   1.24665137,   2.63424449,\n        -10.07891306],\n       [  0.        ,   0.        ,  -1.28054767,   1.43632576,\n         -0.24647297],\n       [  0.        ,   0.        ,   0.        ,  -1.23122245,\n          1.28915944],\n       [  0.        ,   0.        ,   0.        ,   0.        ,\n          0.04820639]])"
     },
     "execution_count": 833,
     "metadata": {},
     "output_type": "execute_result"
    }
   ],
   "source": [
    "#numpy.linalg拥有矩阵分析标准函数集\n",
    "from numpy.linalg import inv, qr\n",
    "X = np.random.randn(5, 5)\n",
    "mat = X.T.dot(X)\n",
    "inv(mat)\n",
    "mat.dot(inv(mat))\n",
    "q, r = qr(mat)\n",
    "r"
   ]
  },
  {
   "cell_type": "markdown",
   "metadata": {},
   "source": [
    "## 伪随机数生成"
   ]
  },
  {
   "cell_type": "code",
   "execution_count": 834,
   "metadata": {},
   "outputs": [
    {
     "data": {
      "text/plain": "array([[-1.13221197,  0.51085812,  1.75741353,  1.53845856],\n       [-0.4196194 , -1.10602245,  0.24617418, -0.35860933],\n       [-1.02276253, -0.70796251, -0.56159405, -0.50884035],\n       [-0.19568139,  0.66120237, -0.62525874, -0.51223773]])"
     },
     "execution_count": 834,
     "metadata": {},
     "output_type": "execute_result"
    }
   ],
   "source": [
    "#np.random可以弥补Python内置的random的不足，normal获取正态分布样本\n",
    "samples = np.random.normal(size=(4, 4))\n",
    "samples\n"
   ]
  },
  {
   "cell_type": "code",
   "execution_count": 835,
   "metadata": {},
   "outputs": [
    {
     "name": "stdout",
     "output_type": "stream",
     "text": [
      "1 loop, best of 5: 671 ms per loop\n",
      "10 loops, best of 5: 26.4 ms per loop\n"
     ]
    }
   ],
   "source": [
    "from random import normalvariate\n",
    "N = 1000000\n",
    "%timeit samples = [normalvariate(0, 1) for _ in range(N)]\n",
    "%timeit np.random.normal(size=N)"
   ]
  },
  {
   "cell_type": "code",
   "execution_count": 926,
   "metadata": {},
   "outputs": [],
   "source": [
    "#指定随机数种子\n",
    "np.random.seed(1234) #计算机生成伪随机数"
   ]
  },
  {
   "cell_type": "code",
   "execution_count": 931,
   "metadata": {},
   "outputs": [
    {
     "data": {
      "text/plain": "array([ 0.47143516, -1.19097569,  1.43270697, -0.3126519 , -0.72058873,\n        0.88716294,  0.85958841, -0.6365235 ,  0.01569637, -2.24268495])"
     },
     "execution_count": 931,
     "metadata": {},
     "output_type": "execute_result"
    }
   ],
   "source": [
    "rng = np.random.RandomState(1234)\n",
    "rng.randn(10)"
   ]
  },
  {
   "cell_type": "markdown",
   "metadata": {},
   "source": [
    "## 示例: 随机漫步"
   ]
  },
  {
   "cell_type": "code",
   "execution_count": 838,
   "metadata": {},
   "outputs": [],
   "source": [
    "import random\n",
    "position = 0\n",
    "walk = [position]\n",
    "steps = 1000\n",
    "for i in range(steps):\n",
    "    step = 1 if random.randint(0, 1) else -1\n",
    "    position += step\n",
    "    walk.append(position)"
   ]
  },
  {
   "cell_type": "code",
   "execution_count": 932,
   "metadata": {},
   "outputs": [
    {
     "data": {
      "text/plain": "array([-1,  0,  1,  2,  1,  2,  1,  0,  1,  0,  1,  2,  1,  2,  3,  2,  3,\n        4,  5,  4,  3,  2,  3,  4,  5,  4,  5,  4,  3,  4,  5,  6,  7,  8,\n        7,  8,  9, 10, 11, 12, 13, 12, 11, 12, 13, 12, 11, 12, 13, 14, 15,\n       14, 15, 16, 17, 18, 17, 18, 19, 18, 19, 18, 17, 18, 19, 20, 19, 18,\n       19, 18, 19, 18, 17, 16, 17, 18, 17, 16, 15, 14, 13, 12, 13, 12, 11,\n       10, 11, 10,  9, 10, 11, 12, 13, 14, 15, 14, 13, 12, 13, 12, 11, 12,\n       11, 12, 11, 12, 11, 10,  9, 10, 11, 10,  9, 10,  9, 10,  9,  8,  9,\n       10,  9, 10, 11, 10,  9, 10,  9,  8,  9, 10, 11, 12, 11, 10,  9, 10,\n        9, 10,  9,  8,  9, 10,  9, 10,  9, 10,  9, 10, 11, 12, 11, 12, 11,\n       10,  9, 10, 11, 10,  9,  8,  7,  6,  5,  6,  7,  8,  7,  6,  7,  6,\n        7,  6,  7,  6,  5,  6,  7,  6,  7,  8,  7,  8,  9,  8,  7,  8,  7,\n        6,  7,  8,  9, 10,  9, 10, 11, 10, 11, 12, 13, 12, 11, 10,  9,  8,\n        9, 10, 11, 10,  9, 10,  9, 10,  9, 10,  9,  8,  7,  6,  7,  6,  5,\n        6,  7,  8,  7,  6,  5,  6,  7,  6,  7,  8,  7,  8,  7,  6,  5,  4,\n        3,  4,  3,  2,  3,  4,  5,  6,  7,  6,  5,  4,  5,  4,  3,  2,  3,\n        4,  5,  6,  5,  6,  5,  6,  7,  6,  7,  8,  7,  6,  7,  6,  7,  8,\n        9,  8,  9,  8,  9,  8,  7,  6,  5,  4,  3,  2,  1,  0,  1,  0, -1,\n       -2, -1, -2, -3, -2, -1,  0,  1,  2,  3,  4,  5,  6,  7,  6,  5,  6,\n        5,  4,  3,  2,  1,  2,  3,  4,  3,  4,  5,  4,  5,  4,  5,  4,  3,\n        2,  1,  2,  3,  4,  5,  6,  5,  4,  5,  6,  5,  6,  7,  6,  5,  6,\n        5,  4,  5,  4,  3,  4,  5,  6,  5,  4,  5,  6,  7,  6,  7,  8,  7,\n        6,  5,  4,  5,  6,  7,  6,  5,  6,  7,  6,  7,  8,  9, 10, 11, 10,\n       11, 10, 11, 10,  9, 10, 11, 12, 11, 10, 11, 10, 11, 10, 11, 12, 13,\n       14, 13, 12, 11, 12, 11, 10,  9,  8,  9,  8,  7,  8,  7,  6,  7,  8,\n        9,  8,  9,  8,  9, 10, 11, 12, 13, 14, 15, 14, 13, 12, 13, 14, 15,\n       14, 15, 16, 17, 16, 15, 16, 15, 16, 17, 18, 19, 18, 19, 18, 17, 16,\n       15, 14, 13, 12, 13, 12, 13, 14, 13, 14, 13, 14, 15, 14, 13, 12, 11,\n       10, 11, 10, 11, 12, 11, 12, 11, 10, 11, 12, 11, 12, 13, 12, 13, 14,\n       13, 14, 13, 14, 15, 14, 15, 14, 13, 12, 11, 10,  9,  8,  7,  8,  7,\n        6,  5,  4,  5,  4,  3,  4,  3,  2,  3,  4,  5,  6,  5,  4,  3,  2,\n        1,  2,  1,  2,  3,  4,  3,  4,  3,  4,  5,  4,  3,  4,  3,  4,  5,\n        4,  5,  4,  3,  2,  3,  2,  1,  2,  3,  2,  1,  2,  1,  2,  1,  0,\n        1,  2,  1,  2,  1,  2,  3,  2,  1,  2,  3,  4,  5,  4,  3,  2,  3,\n        2,  1,  2,  1,  2,  3,  2,  1,  2,  3,  4,  3,  2,  3,  4,  5,  6,\n        7,  6,  5,  4,  3,  2,  1,  2,  3,  2,  1,  2,  3,  4,  5,  6,  7,\n        6,  7,  8,  7,  8,  7,  8,  9,  8,  9,  8,  7,  6,  5,  6,  5,  4,\n        3,  4,  3,  4,  5,  6,  5,  6,  7,  8,  9,  8,  9,  8,  9, 10,  9,\n       10, 11, 12, 13, 14, 13, 12, 11, 12, 11, 12, 13, 12, 13, 14, 13, 14,\n       13, 12, 13, 12, 13, 14, 15, 14, 13, 12, 11, 10,  9, 10,  9,  8,  7,\n        6,  7,  8,  7,  8,  9,  8,  9, 10,  9, 10, 11, 10, 11, 10, 11, 10,\n       11, 10,  9, 10, 11, 12, 13, 12, 13, 12, 13, 14, 15, 14, 13, 12, 13,\n       12, 11, 10, 11, 10,  9,  8,  7,  6,  7,  6,  5,  4,  5,  4,  5,  6,\n        5,  4,  5,  4,  5,  4,  3,  4,  3,  4,  3,  4,  5,  6,  7,  8,  9,\n        8,  7,  8,  9, 10, 11, 10,  9,  8,  7,  6,  7,  8,  7,  8,  7,  8,\n        7,  6,  5,  6,  5,  6,  7,  8,  7,  8,  9, 10,  9,  8,  9,  8,  9,\n       10,  9, 10,  9,  8,  9,  8,  7,  8,  9,  8,  9,  8,  9,  8,  9,  8,\n        9, 10, 11, 10, 11, 12, 11, 12, 13, 14, 15, 14, 13, 14, 15, 16, 15,\n       14, 15, 16, 17, 16, 15, 14, 13, 14, 13, 14, 13, 14, 13, 14, 13, 14,\n       15, 16, 17, 16, 17, 18, 17, 16, 17, 18, 17, 18, 17, 18, 19, 20, 19,\n       18, 19, 20, 19, 18, 17, 18, 17, 18, 19, 20, 19, 18, 17, 16, 15, 16,\n       17, 18, 19, 20, 21, 22, 21, 20, 21, 22, 21, 22, 21, 22, 21, 20, 21,\n       22, 23, 22, 23, 22, 23, 22, 21, 22, 23, 24, 23, 24, 23, 24, 25, 24,\n       25, 26, 27, 28, 29, 28, 29, 28, 27, 26, 25, 26, 27, 26, 27, 28, 27,\n       26, 27, 26, 27, 28, 27, 28, 29, 30, 31, 30, 31, 30, 29, 30, 29, 28,\n       29, 28, 29, 30, 29, 28, 27, 26, 25, 24, 23, 22, 23, 22, 23, 22, 21,\n       20, 19, 18, 17, 18, 17, 18, 19, 18, 19, 18, 17, 16, 17, 16, 17, 18,\n       17, 18, 17, 16, 15, 14, 13, 14, 15, 16, 17, 16, 17, 18, 17, 16, 15,\n       14, 13, 14, 13, 14, 13, 14, 15, 14, 13, 14, 13, 14, 15, 16, 15, 16,\n       15, 16, 15, 14, 15, 14, 13, 14, 13, 12, 13, 12, 13, 14])"
     },
     "execution_count": 932,
     "metadata": {},
     "output_type": "execute_result"
    }
   ],
   "source": [
    "walk"
   ]
  },
  {
   "cell_type": "code",
   "execution_count": 933,
   "outputs": [
    {
     "data": {
      "text/plain": "<Figure size 432x288 with 0 Axes>"
     },
     "execution_count": 933,
     "metadata": {},
     "output_type": "execute_result"
    },
    {
     "data": {
      "text/plain": "<Figure size 432x288 with 0 Axes>"
     },
     "metadata": {},
     "output_type": "display_data"
    }
   ],
   "source": [
    "plt.figure()"
   ],
   "metadata": {
    "collapsed": false,
    "pycharm": {
     "name": "#%%\n"
    }
   }
  },
  {
   "cell_type": "code",
   "execution_count": 934,
   "metadata": {},
   "outputs": [
    {
     "data": {
      "text/plain": "[<matplotlib.lines.Line2D at 0x12981bf50>]"
     },
     "execution_count": 934,
     "metadata": {},
     "output_type": "execute_result"
    },
    {
     "data": {
      "text/plain": "<Figure size 432x288 with 1 Axes>",
      "image/png": "[encoded data removed]"
     },
     "metadata": {
      "needs_background": "light"
     },
     "output_type": "display_data"
    }
   ],
   "source": [
    "plt.plot(walk[:100])"
   ]
  },
  {
   "cell_type": "code",
   "execution_count": 841,
   "metadata": {},
   "outputs": [],
   "source": [
    "np.random.seed(12345)"
   ]
  },
  {
   "cell_type": "code",
   "execution_count": 938,
   "metadata": {},
   "outputs": [
    {
     "data": {
      "text/plain": "array([  1,   2,   3,   4,   5,   4,   5,   6,   7,   6,   7,   6,   5,\n         6,   7,   6,   7,   6,   7,   8,   9,  10,   9,   8,   7,   8,\n         7,   8,   7,   8,   7,   8,   7,   6,   7,   8,   7,   6,   7,\n         6,   5,   4,   5,   4,   5,   6,   7,   6,   7,   8,   9,  10,\n        11,  12,  13,  12,  13,  12,  13,  14,  15,  16,  17,  16,  15,\n        16,  17,  18,  17,  18,  19,  20,  19,  20,  19,  18,  19,  20,\n        19,  20,  19,  20,  21,  22,  23,  24,  25,  24,  25,  24,  25,\n        24,  23,  22,  21,  22,  23,  22,  23,  24,  25,  24,  23,  22,\n        23,  22,  23,  22,  21,  20,  19,  18,  19,  20,  19,  18,  17,\n        18,  19,  18,  17,  18,  19,  18,  19,  20,  21,  22,  21,  22,\n        23,  22,  21,  20,  19,  20,  19,  18,  17,  16,  15,  16,  17,\n        18,  17,  16,  17,  18,  17,  16,  17,  16,  17,  16,  15,  16,\n        15,  14,  13,  14,  13,  12,  11,  12,  13,  14,  15,  14,  13,\n        14,  15,  14,  15,  16,  17,  16,  17,  16,  17,  16,  15,  14,\n        15,  14,  15,  14,  15,  16,  17,  18,  17,  16,  15,  14,  13,\n        14,  15,  16,  17,  18,  17,  16,  17,  18,  19,  20,  21,  20,\n        21,  20,  21,  20,  19,  18,  17,  16,  15,  16,  17,  16,  15,\n        16,  17,  18,  17,  16,  15,  16,  15,  14,  15,  16,  15,  16,\n        15,  16,  17,  18,  19,  18,  19,  18,  17,  18,  17,  16,  15,\n        14,  15,  16,  15,  16,  15,  14,  15,  16,  17,  16,  17,  16,\n        17,  16,  15,  16,  15,  14,  13,  12,  13,  12,  11,  12,  11,\n        10,   9,  10,   9,   8,   9,   8,   7,   8,   9,  10,   9,   8,\n         7,   8,   7,   6,   7,   6,   7,   6,   5,   6,   7,   6,   5,\n         4,   3,   2,   1,   2,   3,   2,   3,   4,   3,   4,   5,   6,\n         5,   6,   5,   4,   3,   4,   5,   6,   7,   6,   7,   6,   7,\n         8,   9,   8,   7,   6,   5,   6,   5,   4,   3,   2,   3,   4,\n         3,   4,   3,   4,   3,   2,   1,   0,   1,   0,  -1,   0,  -1,\n        -2,  -3,  -2,  -1,  -2,  -1,  -2,  -1,  -2,  -1,   0,   1,   0,\n         1,   0,   1,   0,   1,   0,  -1,  -2,  -3,  -4,  -3,  -2,  -1,\n         0,  -1,  -2,  -3,  -4,  -3,  -4,  -3,  -4,  -3,  -2,  -1,   0,\n         1,   2,   3,   2,   1,   2,   1,   2,   3,   4,   3,   2,   3,\n         2,   3,   4,   3,   2,   3,   2,   1,   0,   1,   0,  -1,  -2,\n        -1,  -2,  -1,  -2,  -1,  -2,  -3,  -2,  -1,  -2,  -3,  -4,  -3,\n        -4,  -5,  -4,  -5,  -6,  -5,  -4,  -5,  -4,  -3,  -4,  -3,  -4,\n        -3,  -4,  -3,  -2,  -3,  -2,  -3,  -2,  -1,  -2,  -3,  -2,  -3,\n        -4,  -5,  -6,  -7,  -8,  -9, -10,  -9,  -8,  -7,  -8,  -7,  -6,\n        -7,  -6,  -7,  -6,  -5,  -6,  -5,  -6,  -5,  -6,  -5,  -6,  -7,\n        -8,  -7,  -6,  -7,  -6,  -5,  -4,  -5,  -6,  -7,  -8,  -9, -10,\n        -9,  -8,  -9, -10, -11, -10,  -9,  -8,  -9,  -8,  -9, -10,  -9,\n       -10,  -9,  -8,  -9, -10,  -9, -10,  -9,  -8,  -9,  -8,  -7,  -6,\n        -7,  -6,  -7,  -8,  -9, -10, -11, -10,  -9,  -8,  -9,  -8,  -9,\n        -8,  -9,  -8,  -7,  -8,  -9,  -8,  -9, -10, -11, -12, -13, -14,\n       -13, -14, -13, -12, -13, -12, -11, -12, -13, -12, -13, -14, -15,\n       -16, -15, -14, -15, -16, -15, -16, -17, -16, -15, -14, -13, -14,\n       -15, -14, -13, -12, -13, -12, -13, -14, -13, -14, -15, -16, -15,\n       -16, -17, -16, -15, -14, -15, -14, -15, -16, -17, -18, -17, -18,\n       -17, -18, -17, -18, -17, -18, -19, -18, -19, -18, -17, -18, -17,\n       -18, -17, -16, -17, -18, -17, -18, -17, -18, -19, -20, -19, -20,\n       -19, -20, -21, -20, -19, -18, -19, -18, -17, -16, -17, -18, -19,\n       -20, -21, -22, -23, -22, -21, -20, -21, -22, -23, -22, -23, -24,\n       -23, -24, -23, -24, -23, -24, -23, -24, -25, -24, -25, -24, -23,\n       -24, -23, -24, -25, -26, -27, -28, -29, -30, -31, -32, -31, -30,\n       -29, -28, -29, -28, -27, -26, -25, -24, -23, -22, -21, -22, -21,\n       -20, -21, -22, -23, -22, -23, -22, -21, -20, -19, -18, -19, -18,\n       -17, -18, -19, -20, -21, -22, -21, -20, -19, -18, -19, -18, -19,\n       -18, -19, -18, -19, -18, -19, -18, -19, -20, -21, -20, -21, -20,\n       -21, -22, -21, -20, -21, -20, -19, -20, -21, -20, -19, -20, -19,\n       -18, -19, -18, -17, -18, -17, -16, -15, -16, -15, -16, -17, -16,\n       -17, -18, -17, -18, -17, -18, -17, -18, -19, -18, -19, -20, -19,\n       -18, -19, -20, -19, -20, -19, -18, -17, -16, -17, -16, -15, -14,\n       -15, -14, -15, -14, -15, -16, -15, -14, -15, -14, -15, -14, -15,\n       -16, -15, -14, -13, -12, -11, -10, -11, -10, -11, -12, -13, -12,\n       -13, -12, -11, -10,  -9, -10,  -9,  -8,  -7,  -8,  -9, -10,  -9,\n       -10,  -9,  -8,  -7,  -8,  -7,  -6,  -7,  -6,  -7,  -8,  -7,  -8,\n        -7,  -8,  -7,  -8,  -9, -10,  -9, -10, -11, -12, -11, -12, -11,\n       -10,  -9,  -8,  -7,  -8,  -9,  -8,  -7,  -6,  -5,  -6,  -5,  -4,\n        -5,  -4,  -3,  -2,  -1,  -2,  -3,  -2,  -3,  -2,  -3,  -2,  -3,\n        -2,  -3,  -2,  -3,  -2,  -1,  -2,  -1,   0,  -1,   0,   1,   0,\n         1,   2,   3,   4,   3,   2,   1,   0,  -1,  -2,  -1,   0,   1,\n         2,   3,   2,   1,   0,   1,   0,  -1,   0,  -1,  -2,  -1,  -2,\n        -1,  -2,  -3,  -4,  -3,  -4,  -3,  -4,  -3,  -2,  -1,   0,   1,\n         2,   1,   0,  -1,  -2,  -1,  -2,  -1,  -2,  -1,  -2,  -3,  -2,\n        -3,  -4,  -5,  -6,  -5,  -4,  -3,  -2,  -3,  -2,  -1,  -2,  -1,\n        -2,  -3,  -4,  -5,  -6,  -7,  -6,  -5,  -4,  -3,  -2,  -3,  -4,\n        -3,  -4,  -5,  -4,  -5,  -6,  -5,  -6,  -7,  -8,  -9,  -8,  -7,\n        -8,  -9,  -8,  -9,  -8,  -7,  -8,  -9,  -8,  -9,  -8,  -9,  -8,\n        -9, -10,  -9,  -8,  -9,  -8,  -9,  -8,  -9,  -8,  -9,  -8])"
     },
     "execution_count": 938,
     "metadata": {},
     "output_type": "execute_result"
    }
   ],
   "source": [
    "nsteps = 1000\n",
    "draws = np.random.randint(0, 2, size=nsteps)\n",
    "steps = np.where(draws > 0, 1, -1)\n",
    "walk = steps.cumsum()\n",
    "walk"
   ]
  },
  {
   "cell_type": "code",
   "execution_count": 940,
   "metadata": {},
   "outputs": [
    {
     "data": {
      "text/plain": "-32"
     },
     "execution_count": 940,
     "metadata": {},
     "output_type": "execute_result"
    }
   ],
   "source": [
    "walk.min()"
   ]
  },
  {
   "cell_type": "code",
   "execution_count": 941,
   "outputs": [
    {
     "data": {
      "text/plain": "25"
     },
     "execution_count": 941,
     "metadata": {},
     "output_type": "execute_result"
    }
   ],
   "source": [
    "walk.max()"
   ],
   "metadata": {
    "collapsed": false,
    "pycharm": {
     "name": "#%%\n"
    }
   }
  },
  {
   "cell_type": "code",
   "execution_count": 939,
   "metadata": {},
   "outputs": [
    {
     "data": {
      "text/plain": "21"
     },
     "execution_count": 939,
     "metadata": {},
     "output_type": "execute_result"
    }
   ],
   "source": [
    "# 更复杂的统计————首次穿越时间，即随机漫步过程中第一次到达某个特定值的时间。\n",
    "# 假设我们想要知道本次随机漫步是何时连续朝某个方向连续走10步\n",
    "# np.abs(walk)>=10可以得到一个布尔型数组，\n",
    "# 表示距离是否达到或超过10，而我们想要知道的是第一个10或－10的位置（索引）。\n",
    "# 可以用argmax来解决这个问题，它返回的是该布尔型数组第一个最大值的索引（True就是最大值）\n",
    "\n",
    "(np.abs(walk) >= 10).argmax()"
   ]
  },
  {
   "cell_type": "markdown",
   "metadata": {},
   "source": [
    "### 一次性模拟多次随机漫步"
   ]
  },
  {
   "cell_type": "code",
   "execution_count": 942,
   "metadata": {},
   "outputs": [
    {
     "data": {
      "text/plain": "array([[ -1,   0,  -1, ..., -40, -39, -38],\n       [  1,   0,   1, ..., -50, -51, -50],\n       [  1,   0,  -1, ...,  18,  17,  18],\n       ...,\n       [  1,   2,   3, ...,  34,  35,  36],\n       [ -1,   0,   1, ...,  18,  17,  16],\n       [  1,   2,   3, ...,  88,  87,  88]])"
     },
     "execution_count": 942,
     "metadata": {},
     "output_type": "execute_result"
    }
   ],
   "source": [
    "nwalks = 5000\n",
    "nsteps = 1000\n",
    "draws = np.random.randint(0, 2, size=(nwalks, nsteps)) # 0 or 1\n",
    "steps = np.where(draws > 0, 1, -1)\n",
    "walks = steps.cumsum(1)\n",
    "walks"
   ]
  },
  {
   "cell_type": "code",
   "execution_count": 846,
   "metadata": {},
   "outputs": [
    {
     "data": {
      "text/plain": "-133"
     },
     "execution_count": 846,
     "metadata": {},
     "output_type": "execute_result"
    }
   ],
   "source": [
    "walks.max()\n",
    "walks.min()"
   ]
  },
  {
   "cell_type": "code",
   "execution_count": 847,
   "metadata": {},
   "outputs": [
    {
     "data": {
      "text/plain": "array([False,  True, False, ..., False,  True, False])"
     },
     "execution_count": 847,
     "metadata": {},
     "output_type": "execute_result"
    }
   ],
   "source": [
    "# 得到这些数据之后，我们来计算30或－30的最小穿越时间。\n",
    "# 这里稍微复杂些，因为不是5000个过程都到达了30。\n",
    "# 我们可以用any方法来对此进行检查\n",
    "hits30 = (np.abs(walks) >= 30).any(1)\n",
    "hits30"
   ]
  },
  {
   "cell_type": "code",
   "execution_count": 848,
   "outputs": [
    {
     "data": {
      "text/plain": "3410"
     },
     "execution_count": 848,
     "metadata": {},
     "output_type": "execute_result"
    }
   ],
   "source": [
    "hits30.sum() # Number that hit 30 or -30"
   ],
   "metadata": {
    "collapsed": false,
    "pycharm": {
     "name": "#%%\n"
    }
   }
  },
  {
   "cell_type": "code",
   "execution_count": 849,
   "metadata": {},
   "outputs": [
    {
     "data": {
      "text/plain": "array([735, 409, 253, ..., 327, 453, 447])"
     },
     "execution_count": 849,
     "metadata": {},
     "output_type": "execute_result"
    }
   ],
   "source": [
    "crossing_times = (np.abs(walks[hits30]) >= 30).argmax(1)\n",
    "crossing_times"
   ]
  },
  {
   "cell_type": "code",
   "execution_count": 850,
   "outputs": [
    {
     "data": {
      "text/plain": "498.8897360703812"
     },
     "execution_count": 850,
     "metadata": {},
     "output_type": "execute_result"
    }
   ],
   "source": [
    "crossing_times.mean()"
   ],
   "metadata": {
    "collapsed": false,
    "pycharm": {
     "name": "#%%\n"
    }
   }
  },
  {
   "cell_type": "code",
   "execution_count": 851,
   "metadata": {},
   "outputs": [
    {
     "data": {
      "text/plain": "array([[-0.02565707,  0.36310961,  0.41720151, ...,  0.15726638,\n        -0.16256773,  0.05423703],\n       [-0.10456259,  0.07877516,  0.19110411, ...,  0.07678875,\n        -0.18545695,  0.0333151 ],\n       [-0.16728617,  0.12034941, -0.30427248, ..., -0.30982359,\n        -0.17291787,  0.02772071],\n       ...,\n       [ 0.27987403,  0.05477886, -0.02167382, ...,  0.02795479,\n         0.25268149,  0.06510672],\n       [ 0.31853634, -0.15109745, -0.1121375 , ...,  0.14705719,\n         0.18206871, -0.02473096],\n       [-0.13101904, -0.24008233, -0.03925202, ..., -0.18320903,\n        -0.20967376,  0.20705573]])"
     },
     "execution_count": 851,
     "metadata": {},
     "output_type": "execute_result"
    }
   ],
   "source": [
    "steps = np.random.normal(loc=0, scale=0.25,\n",
    "                         size=(nwalks, nsteps))\n",
    "steps"
   ]
  },
  {
   "cell_type": "markdown",
   "metadata": {},
   "source": [
    "## 小结"
   ]
  }
 ],
 "metadata": {
  "kernelspec": {
   "display_name": "Python 3",
   "language": "python",
   "name": "python3"
  },
  "language_info": {
   "codemirror_mode": {
    "name": "ipython",
    "version": 3
   },
   "file_extension": ".py",
   "mimetype": "text/x-python",
   "name": "python",
   "nbconvert_exporter": "python",
   "pygments_lexer": "ipython3",
   "version": "3.6.12"
  }
 },
 "nbformat": 4,
 "nbformat_minor": 1
}